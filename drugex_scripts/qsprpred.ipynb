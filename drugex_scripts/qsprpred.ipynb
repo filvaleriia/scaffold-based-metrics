{
 "cells": [
  {
   "cell_type": "code",
   "execution_count": 312,
   "id": "dc3821a8-cc26-4cf9-9759-2f9b77dbabbf",
   "metadata": {},
   "outputs": [],
   "source": [
    "import os\n",
    "import pandas as pd\n",
    "\n",
    "from qsprpred.data import QSPRDataset\n",
    "from qsprpred.data import RandomSplit\n",
    "from qsprpred.data.descriptors.fingerprints import MorganFP\n",
    "from qsprpred.plotting.classification import ROCPlot\n",
    "from rdkit import Chem\n",
    "from rdkit.Chem.Scaffolds import MurckoScaffold\n",
    "from sklearn.ensemble import RandomForestClassifier\n",
    "from qsprpred.models import SklearnModel\n",
    "from qsprpred.models import CrossValAssessor, TestSetAssessor\n",
    "from qsprpred.plotting.classification import ROCPlot\n",
    "from qsprpred.plotting.classification import MetricsPlot\n",
    "import numpy as np\n",
    "from qsprpred.models import OptunaOptimization\n",
    "from qsprpred.models import GridSearchOptimization, CrossValAssessor\n",
    "from qsprpred.data import BootstrapSplit"
   ]
  },
  {
   "cell_type": "code",
   "execution_count": 313,
   "id": "cf8386d2-5c21-44f6-a953-38cda692d838",
   "metadata": {},
   "outputs": [],
   "source": [
    "cluster_type = 'dis'\n",
    "cluster_number = 1\n",
    "receptor = 'Glucocorticoid_receptor'"
   ]
  },
  {
   "cell_type": "code",
   "execution_count": 314,
   "id": "15cdbcb8-49e3-4814-9343-ed81ffe88859",
   "metadata": {},
   "outputs": [],
   "source": [
    "#active compaunds\n",
    "\n",
    "dff = pd.read_csv(f\"recall_metrics_data/data/{receptor}/IS_{receptor}_with_p_chembl_{cluster_type}_{cluster_number}.csv\", header = None, na_values=('NA', 'nan', 'NaN'))\n",
    "dff = dff.drop([0], axis = 1)\n",
    "dff.columns = ['SMILES', 'pchembl_value']\n"
   ]
  },
  {
   "cell_type": "code",
   "execution_count": 315,
   "id": "5a6bb6d9-c40d-4ef0-9e87-bbe227e005f7",
   "metadata": {},
   "outputs": [],
   "source": [
    "dff_non_active = pd.read_csv(f\"recall_metrics_data/data/{receptor}/glucocor_recep_neaktiv.csv\", header = None)\n",
    "dff_non_active = dff_non_active.drop([0], axis = 1)\n",
    "dff_non_active.columns = ['SMILES', 'pchembl_value']\n",
    "dff_non_active = dff_non_active.reset_index(drop=True)"
   ]
  },
  {
   "cell_type": "code",
   "execution_count": 316,
   "id": "88dbabed-635a-49aa-91c4-c47111295f83",
   "metadata": {},
   "outputs": [
    {
     "data": {
      "text/html": [
       "<div>\n",
       "<style scoped>\n",
       "    .dataframe tbody tr th:only-of-type {\n",
       "        vertical-align: middle;\n",
       "    }\n",
       "\n",
       "    .dataframe tbody tr th {\n",
       "        vertical-align: top;\n",
       "    }\n",
       "\n",
       "    .dataframe thead th {\n",
       "        text-align: right;\n",
       "    }\n",
       "</style>\n",
       "<table border=\"1\" class=\"dataframe\">\n",
       "  <thead>\n",
       "    <tr style=\"text-align: right;\">\n",
       "      <th></th>\n",
       "      <th>SMILES</th>\n",
       "      <th>pchembl_value</th>\n",
       "    </tr>\n",
       "  </thead>\n",
       "  <tbody>\n",
       "    <tr>\n",
       "      <th>0</th>\n",
       "      <td>C[C@H]1C[C@@H]2[C@H]3CCC4=CC(=O)C=C[C@@]4(C)[C...</td>\n",
       "      <td>7.850</td>\n",
       "    </tr>\n",
       "    <tr>\n",
       "      <th>1</th>\n",
       "      <td>C[C@]12C=CC(=O)C=C1CC[C@@H]1[C@@H]2[C@@H](O)C[...</td>\n",
       "      <td>7.940</td>\n",
       "    </tr>\n",
       "    <tr>\n",
       "      <th>2</th>\n",
       "      <td>C[C@@H]1C[C@H]2[C@@H]3CCC4=CC(=O)C=C[C@]4(C)[C...</td>\n",
       "      <td>8.360</td>\n",
       "    </tr>\n",
       "    <tr>\n",
       "      <th>3</th>\n",
       "      <td>C[C@]12CCC(=O)C=C1CC[C@H]1[C@@H]3CC[C@](O)(C(=...</td>\n",
       "      <td>8.035</td>\n",
       "    </tr>\n",
       "    <tr>\n",
       "      <th>4</th>\n",
       "      <td>C[C@@H]1C[C@H]2[C@@H]3CCC4=CC(=O)C=C[C@]4(C)[C...</td>\n",
       "      <td>8.240</td>\n",
       "    </tr>\n",
       "    <tr>\n",
       "      <th>...</th>\n",
       "      <td>...</td>\n",
       "      <td>...</td>\n",
       "    </tr>\n",
       "    <tr>\n",
       "      <th>1941</th>\n",
       "      <td>COC(=O)C(c1ccc(Cl)cc1Cl)n1ccc2c(NS(C)(=O)=O)cc...</td>\n",
       "      <td>5.230</td>\n",
       "    </tr>\n",
       "    <tr>\n",
       "      <th>1942</th>\n",
       "      <td>COC(=O)C(c1ccc(F)cc1Cl)n1ccc2c(NS(C)(=O)=O)cccc21</td>\n",
       "      <td>5.500</td>\n",
       "    </tr>\n",
       "    <tr>\n",
       "      <th>1943</th>\n",
       "      <td>CN1CCC(Oc2ccc(N3C(=S)N(c4cnc(C#N)c(C(F)(F)F)c4...</td>\n",
       "      <td>4.700</td>\n",
       "    </tr>\n",
       "    <tr>\n",
       "      <th>1944</th>\n",
       "      <td>CNC(=O)c1ccc(N2C(=S)N(c3ccc(C#N)c(C(F)(F)F)c3)...</td>\n",
       "      <td>4.540</td>\n",
       "    </tr>\n",
       "    <tr>\n",
       "      <th>1945</th>\n",
       "      <td>Cc1ccc([C@@H](Oc2ccc(C(=O)Nc3ccccc3)cc2)[C@H](...</td>\n",
       "      <td>5.300</td>\n",
       "    </tr>\n",
       "  </tbody>\n",
       "</table>\n",
       "<p>1946 rows × 2 columns</p>\n",
       "</div>"
      ],
      "text/plain": [
       "                                                 SMILES  pchembl_value\n",
       "0     C[C@H]1C[C@@H]2[C@H]3CCC4=CC(=O)C=C[C@@]4(C)[C...          7.850\n",
       "1     C[C@]12C=CC(=O)C=C1CC[C@@H]1[C@@H]2[C@@H](O)C[...          7.940\n",
       "2     C[C@@H]1C[C@H]2[C@@H]3CCC4=CC(=O)C=C[C@]4(C)[C...          8.360\n",
       "3     C[C@]12CCC(=O)C=C1CC[C@H]1[C@@H]3CC[C@](O)(C(=...          8.035\n",
       "4     C[C@@H]1C[C@H]2[C@@H]3CCC4=CC(=O)C=C[C@]4(C)[C...          8.240\n",
       "...                                                 ...            ...\n",
       "1941  COC(=O)C(c1ccc(Cl)cc1Cl)n1ccc2c(NS(C)(=O)=O)cc...          5.230\n",
       "1942  COC(=O)C(c1ccc(F)cc1Cl)n1ccc2c(NS(C)(=O)=O)cccc21          5.500\n",
       "1943  CN1CCC(Oc2ccc(N3C(=S)N(c4cnc(C#N)c(C(F)(F)F)c4...          4.700\n",
       "1944  CNC(=O)c1ccc(N2C(=S)N(c3ccc(C#N)c(C(F)(F)F)c3)...          4.540\n",
       "1945  Cc1ccc([C@@H](Oc2ccc(C(=O)Nc3ccccc3)cc2)[C@H](...          5.300\n",
       "\n",
       "[1946 rows x 2 columns]"
      ]
     },
     "execution_count": 316,
     "metadata": {},
     "output_type": "execute_result"
    }
   ],
   "source": [
    "result = pd.concat([dff, dff_non_active]).reset_index(drop=True)\n",
    "result"
   ]
  },
  {
   "cell_type": "code",
   "execution_count": 317,
   "id": "a67ec1a7-bd92-4065-9f68-b3aa8f509dcf",
   "metadata": {},
   "outputs": [],
   "source": [
    "## Filter incorrect SMILES\n",
    "working_rows = []\n",
    "for index, row in result.iterrows():\n",
    "    try:\n",
    "        mol = Chem.MolFromSmiles(row['SMILES'])\n",
    "        scaffold = MurckoScaffold.GetScaffoldForMol(mol)\n",
    "        working_rows.append(row)\n",
    "    except: \n",
    "        print(f'removed: {index}')\n",
    "\n",
    "df_clean = pd.DataFrame(working_rows)"
   ]
  },
  {
   "cell_type": "code",
   "execution_count": 318,
   "id": "71fb1d51-aa9f-4b7d-a353-b273ca69ac55",
   "metadata": {},
   "outputs": [
    {
     "name": "stdout",
     "output_type": "stream",
     "text": [
      "Number of samples train set: 1556\n",
      "Number of samples test set: 390, 20.041109969167522%\n"
     ]
    }
   ],
   "source": [
    "## Working directory:\n",
    "DATA_PATH_QSAR = f\"project_recall_metrics/recall_metrics/data/{receptor}/qsar\"\n",
    "os.makedirs(DATA_PATH_QSAR, exist_ok=True)\n",
    "\n",
    "\n",
    "## set QSPRDataset\n",
    "dataset = QSPRDataset(\n",
    "    name=f\"{receptor}_{cluster_type}_{cluster_number}\",\n",
    "    df=df_clean,  \n",
    "    target_props=[{\"name\" : \"pchembl_value\", \"task\" : \"SINGLECLASS\", \"th\": [6.5]}], \n",
    "    store_dir=DATA_PATH_QSAR,\n",
    ")\n",
    "# Specifiy random split for creating the train (80%) and test set (20%) da se zamenit na scfaffold split nebo jeste jiny!!\n",
    "rand_split = RandomSplit(test_fraction=0.2, dataset=dataset)\n",
    "\n",
    "# calculate compound features and split dataset into train and test\n",
    "dataset.prepareDataset(\n",
    "    split=rand_split,\n",
    "    feature_calculators=[MorganFP(radius=3, nBits=2048)],\n",
    ")\n",
    "\n",
    "\n",
    "print(f\"Number of samples train set: {len(dataset.y)}\")\n",
    "print(f\"Number of samples test set: {len(dataset.y_ind)}, {len(dataset.y_ind) / len(dataset.df) * 100}%\")\n"
   ]
  },
  {
   "cell_type": "code",
   "execution_count": 319,
   "id": "e2ee6f7e-7665-40a7-aef7-10b305df0abf",
   "metadata": {},
   "outputs": [
    {
     "name": "stdout",
     "output_type": "stream",
     "text": [
      "{'criterion': 'entropy', 'n_estimators': 50, 'n_jobs': 1}\n"
     ]
    }
   ],
   "source": [
    "# hyperparameter search\n",
    "\n",
    "\n",
    "params = {\n",
    "    'n_estimators' : [50, 250, 500, 1000],\n",
    "    'criterion' : ['gini', 'entropy', 'log_loss'],\n",
    "    \"n_jobs\": [1]\n",
    "}\n",
    "# Learn model\n",
    "model = SklearnModel(\n",
    "    base_dir=DATA_PATH_QSAR,\n",
    "    name=f\"Glucocorticoid_{cluster_type}_{cluster_number}_RandomForestClassifier\",\n",
    "    alg = RandomForestClassifier\n",
    ")\n",
    "\n",
    "#score_func = SklearnMetric.getDefaultMetric(model.task)\n",
    "gridsearcher = GridSearchOptimization(\n",
    "    model_assessor=CrossValAssessor(scoring='r2'),\n",
    "    param_grid=params,\n",
    "    score_aggregation=np.median)\n",
    "print(gridsearcher.optimize(model, dataset))\n",
    "\n",
    "\n",
    "\n"
   ]
  },
  {
   "cell_type": "code",
   "execution_count": 320,
   "id": "dad17aef-0c82-49aa-aa07-ce8271a913d0",
   "metadata": {},
   "outputs": [
    {
     "data": {
      "text/plain": [
       "{'random_state': 4078700231,\n",
       " 'criterion': 'entropy',\n",
       " 'n_estimators': 50,\n",
       " 'n_jobs': 1}"
      ]
     },
     "execution_count": 320,
     "metadata": {},
     "output_type": "execute_result"
    }
   ],
   "source": [
    "model.parameters"
   ]
  },
  {
   "cell_type": "code",
   "execution_count": 321,
   "id": "b7643535-8533-47cc-b9e8-753c40f4ad5a",
   "metadata": {},
   "outputs": [
    {
     "data": {
      "text/plain": [
       "'/home/filv/phd_projects/iga_2023/drugex/DrugEx/tutorial/project_recall_metrics/recall_metrics/data/Glucocorticoid_receptor/qsar/Glucocorticoid_dis_1_RandomForestClassifier/Glucocorticoid_dis_1_RandomForestClassifier_meta.json'"
      ]
     },
     "execution_count": 321,
     "metadata": {},
     "output_type": "execute_result"
    }
   ],
   "source": [
    "# We can now assess the model performance on the training set using cross validation\n",
    "CrossValAssessor(\"roc_auc_ovr\")(model, dataset)\n",
    "\n",
    "# and on the test set\n",
    "TestSetAssessor(\"roc_auc_ovr\")(model, dataset)\n",
    "\n",
    "\n",
    "# Finally, we need to fit the model on the complete dataset if we want to use it further\n",
    "model.fitDataset(dataset)"
   ]
  },
  {
   "cell_type": "code",
   "execution_count": 322,
   "id": "459acec5-d6f8-408a-b277-8fbf08dec84c",
   "metadata": {},
   "outputs": [
    {
     "data": {
      "text/html": [
       "<div>\n",
       "<style scoped>\n",
       "    .dataframe tbody tr th:only-of-type {\n",
       "        vertical-align: middle;\n",
       "    }\n",
       "\n",
       "    .dataframe tbody tr th {\n",
       "        vertical-align: top;\n",
       "    }\n",
       "\n",
       "    .dataframe thead th {\n",
       "        text-align: right;\n",
       "    }\n",
       "</style>\n",
       "<table border=\"1\" class=\"dataframe\">\n",
       "  <thead>\n",
       "    <tr style=\"text-align: right;\">\n",
       "      <th></th>\n",
       "      <th>Model</th>\n",
       "      <th>Fold</th>\n",
       "      <th>Property</th>\n",
       "      <th>accuracy</th>\n",
       "      <th>precision</th>\n",
       "      <th>recall</th>\n",
       "      <th>f1</th>\n",
       "      <th>matthews_corrcoef</th>\n",
       "      <th>calibration_error</th>\n",
       "      <th>roc_auc</th>\n",
       "      <th>Class</th>\n",
       "      <th>Set</th>\n",
       "    </tr>\n",
       "  </thead>\n",
       "  <tbody>\n",
       "    <tr>\n",
       "      <th>0</th>\n",
       "      <td>Glucocorticoid_dis_0_RandomForestClassifier</td>\n",
       "      <td>0.0</td>\n",
       "      <td>pchembl_value</td>\n",
       "      <td>0.816054</td>\n",
       "      <td>0.826667</td>\n",
       "      <td>0.810458</td>\n",
       "      <td>0.818482</td>\n",
       "      <td>0.632206</td>\n",
       "      <td>0.068545</td>\n",
       "      <td>0.884658</td>\n",
       "      <td>Binary</td>\n",
       "      <td>Cross Validation</td>\n",
       "    </tr>\n",
       "    <tr>\n",
       "      <th>1</th>\n",
       "      <td>Glucocorticoid_dis_0_RandomForestClassifier</td>\n",
       "      <td>1.0</td>\n",
       "      <td>pchembl_value</td>\n",
       "      <td>0.825503</td>\n",
       "      <td>0.877551</td>\n",
       "      <td>0.791411</td>\n",
       "      <td>0.832258</td>\n",
       "      <td>0.655225</td>\n",
       "      <td>0.038775</td>\n",
       "      <td>0.915087</td>\n",
       "      <td>Binary</td>\n",
       "      <td>Cross Validation</td>\n",
       "    </tr>\n",
       "    <tr>\n",
       "      <th>2</th>\n",
       "      <td>Glucocorticoid_dis_0_RandomForestClassifier</td>\n",
       "      <td>2.0</td>\n",
       "      <td>pchembl_value</td>\n",
       "      <td>0.872483</td>\n",
       "      <td>0.883562</td>\n",
       "      <td>0.860000</td>\n",
       "      <td>0.871622</td>\n",
       "      <td>0.745269</td>\n",
       "      <td>0.067550</td>\n",
       "      <td>0.927500</td>\n",
       "      <td>Binary</td>\n",
       "      <td>Cross Validation</td>\n",
       "    </tr>\n",
       "    <tr>\n",
       "      <th>3</th>\n",
       "      <td>Glucocorticoid_dis_0_RandomForestClassifier</td>\n",
       "      <td>3.0</td>\n",
       "      <td>pchembl_value</td>\n",
       "      <td>0.838926</td>\n",
       "      <td>0.832168</td>\n",
       "      <td>0.832168</td>\n",
       "      <td>0.832168</td>\n",
       "      <td>0.677329</td>\n",
       "      <td>0.044842</td>\n",
       "      <td>0.922896</td>\n",
       "      <td>Binary</td>\n",
       "      <td>Cross Validation</td>\n",
       "    </tr>\n",
       "    <tr>\n",
       "      <th>4</th>\n",
       "      <td>Glucocorticoid_dis_0_RandomForestClassifier</td>\n",
       "      <td>4.0</td>\n",
       "      <td>pchembl_value</td>\n",
       "      <td>0.835570</td>\n",
       "      <td>0.885714</td>\n",
       "      <td>0.789809</td>\n",
       "      <td>0.835017</td>\n",
       "      <td>0.676594</td>\n",
       "      <td>0.034125</td>\n",
       "      <td>0.921737</td>\n",
       "      <td>Binary</td>\n",
       "      <td>Cross Validation</td>\n",
       "    </tr>\n",
       "    <tr>\n",
       "      <th>5</th>\n",
       "      <td>Glucocorticoid_dis_0_RandomForestClassifier</td>\n",
       "      <td>Independent Test</td>\n",
       "      <td>pchembl_value</td>\n",
       "      <td>0.839142</td>\n",
       "      <td>0.842391</td>\n",
       "      <td>0.833333</td>\n",
       "      <td>0.837838</td>\n",
       "      <td>0.678312</td>\n",
       "      <td>0.047900</td>\n",
       "      <td>0.909105</td>\n",
       "      <td>Binary</td>\n",
       "      <td>Independent Test</td>\n",
       "    </tr>\n",
       "  </tbody>\n",
       "</table>\n",
       "</div>"
      ],
      "text/plain": [
       "                                         Model              Fold  \\\n",
       "0  Glucocorticoid_dis_0_RandomForestClassifier               0.0   \n",
       "1  Glucocorticoid_dis_0_RandomForestClassifier               1.0   \n",
       "2  Glucocorticoid_dis_0_RandomForestClassifier               2.0   \n",
       "3  Glucocorticoid_dis_0_RandomForestClassifier               3.0   \n",
       "4  Glucocorticoid_dis_0_RandomForestClassifier               4.0   \n",
       "5  Glucocorticoid_dis_0_RandomForestClassifier  Independent Test   \n",
       "\n",
       "        Property  accuracy  precision    recall        f1  matthews_corrcoef  \\\n",
       "0  pchembl_value  0.816054   0.826667  0.810458  0.818482           0.632206   \n",
       "1  pchembl_value  0.825503   0.877551  0.791411  0.832258           0.655225   \n",
       "2  pchembl_value  0.872483   0.883562  0.860000  0.871622           0.745269   \n",
       "3  pchembl_value  0.838926   0.832168  0.832168  0.832168           0.677329   \n",
       "4  pchembl_value  0.835570   0.885714  0.789809  0.835017           0.676594   \n",
       "5  pchembl_value  0.839142   0.842391  0.833333  0.837838           0.678312   \n",
       "\n",
       "   calibration_error   roc_auc   Class               Set  \n",
       "0           0.068545  0.884658  Binary  Cross Validation  \n",
       "1           0.038775  0.915087  Binary  Cross Validation  \n",
       "2           0.067550  0.927500  Binary  Cross Validation  \n",
       "3           0.044842  0.922896  Binary  Cross Validation  \n",
       "4           0.034125  0.921737  Binary  Cross Validation  \n",
       "5           0.047900  0.909105  Binary  Independent Test  "
      ]
     },
     "execution_count": 322,
     "metadata": {},
     "output_type": "execute_result"
    }
   ],
   "source": [
    "summary"
   ]
  },
  {
   "cell_type": "code",
   "execution_count": 323,
   "id": "ce6480be-f412-40f6-bf3a-bc2688f0bf4b",
   "metadata": {},
   "outputs": [
    {
     "data": {
      "image/png": "[encoded data removed]",
      "text/plain": [
       "<Figure size 600x600 with 1 Axes>"
      ]
     },
     "metadata": {},
     "output_type": "display_data"
    },
    {
     "data": {
      "text/plain": [
       "[<Figure size 600x600 with 1 Axes>]"
      ]
     },
     "execution_count": 323,
     "metadata": {},
     "output_type": "execute_result"
    },
    {
     "data": {
      "text/plain": [
       "<Figure size 640x480 with 0 Axes>"
      ]
     },
     "metadata": {},
     "output_type": "display_data"
    }
   ],
   "source": [
    "\n",
    "# plot the results for bootstrapping\n",
    "from qsprpred.plotting.classification import ROCPlot\n",
    "\n",
    "plot = ROCPlot([model])\n",
    "plot.make(save=True, show=True, property_name=model.targetProperties[0].name,\n",
    "          validation=\"cv\")"
   ]
  },
  {
   "cell_type": "code",
   "execution_count": null,
   "id": "517840d5-1cb5-4ee8-910b-14de6df1d816",
   "metadata": {},
   "outputs": [],
   "source": []
  },
  {
   "cell_type": "code",
   "execution_count": 324,
   "id": "1f4f79ff-1c2e-4d03-9b58-79896f0423b3",
   "metadata": {},
   "outputs": [],
   "source": [
    "sample_inputs = [\n",
    "    'C[C@H]1C[C@@H]2[C@H]3CCC4=CC(=O)C=C[C@@]4(C)[C@]3(F)[C@H](O)C[C@@]2(C)[C@]1(O)C(=O)CSCCNC(=S)NCCNC(=O)c1cc(NC(=O)c2cc(NC(=O)c3nccn3C)cn2C)cn1C', # p_chemble_value 7.85\n",
    "    'C[C@@H]1C[C@H]2[C@@H]3CCC4=CC(=O)C=C[C@]4(C)[C@H]3[C@@H](O)C[C@]2(C)[C@@]1(O)C(=O)CSc1nc2ccccc2o1' # p_chemble_value 8.36\n",
    "]"
   ]
  },
  {
   "cell_type": "code",
   "execution_count": 325,
   "id": "fd2da60c-871c-4c78-84f4-118954393159",
   "metadata": {},
   "outputs": [
    {
     "data": {
      "text/plain": [
       "[array([[0.1 , 0.9 ],\n",
       "        [0.01, 0.99]])]"
      ]
     },
     "execution_count": 325,
     "metadata": {},
     "output_type": "execute_result"
    }
   ],
   "source": [
    "from qsprpred.models import SklearnModel\n",
    "\n",
    "predictor = SklearnModel(\n",
    "    name=f'Glucocorticoid_{cluster_type}_{cluster_number}_RandomForestClassifier',\n",
    "    base_dir=DATA_PATH_QSAR,\n",
    ")\n",
    "\n",
    "predictor.predictMols(sample_inputs, use_probas=True)"
   ]
  },
  {
   "cell_type": "code",
   "execution_count": null,
   "id": "c2dbd9de-1634-4e54-90f9-24e86e1470f4",
   "metadata": {},
   "outputs": [],
   "source": []
  }
 ],
 "metadata": {
  "kernelspec": {
   "display_name": "Python 3 (ipykernel)",
   "language": "python",
   "name": "python3"
  },
  "language_info": {
   "codemirror_mode": {
    "name": "ipython",
    "version": 3
   },
   "file_extension": ".py",
   "mimetype": "text/x-python",
   "name": "python",
   "nbconvert_exporter": "python",
   "pygments_lexer": "ipython3",
   "version": "3.10.6"
  }
 },
 "nbformat": 4,
 "nbformat_minor": 5
}

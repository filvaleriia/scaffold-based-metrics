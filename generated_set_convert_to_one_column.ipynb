{
 "cells": [
  {
   "cell_type": "code",
   "execution_count": 1,
   "id": "9a2c8512",
   "metadata": {},
   "outputs": [],
   "source": [
    "import pandas as pd\n",
    "from rdkit import Chem\n",
    "from rdkit.Chem import AllChem\n",
    "from rdkit.Chem.Scaffolds.MurckoScaffold import GetScaffoldForMol\n",
    "from rdkit.Chem.Scaffolds.MurckoScaffold import MurckoScaffoldSmiles\n",
    "from rdkit.Chem.Scaffolds.MurckoScaffold import MakeScaffoldGeneric"
   ]
  },
  {
   "cell_type": "markdown",
   "id": "e831653a-844a-45d7-8917-7f5d903208b3",
   "metadata": {},
   "source": [
    "# Convert output sets to format compatibile with scripts to calculate metrics"
   ]
  },
  {
   "cell_type": "markdown",
   "id": "e601df05-242d-43c8-be70-4792d606e59f",
   "metadata": {},
   "source": [
    "## Molpher"
   ]
  },
  {
   "cell_type": "code",
   "execution_count": 14,
   "id": "8019123b-732b-4864-80b3-84accb4b517e",
   "metadata": {},
   "outputs": [],
   "source": [
    "receptor = 'Leukocyte_elastase' \n",
    "type_cluster = 'dis'\n",
    "number = 4"
   ]
  },
  {
   "cell_type": "code",
   "execution_count": 15,
   "id": "e22302a7",
   "metadata": {},
   "outputs": [
    {
     "data": {
      "text/html": [
       "<div>\n",
       "<style scoped>\n",
       "    .dataframe tbody tr th:only-of-type {\n",
       "        vertical-align: middle;\n",
       "    }\n",
       "\n",
       "    .dataframe tbody tr th {\n",
       "        vertical-align: top;\n",
       "    }\n",
       "\n",
       "    .dataframe thead th {\n",
       "        text-align: right;\n",
       "    }\n",
       "</style>\n",
       "<table border=\"1\" class=\"dataframe\">\n",
       "  <thead>\n",
       "    <tr style=\"text-align: right;\">\n",
       "      <th></th>\n",
       "      <th>0</th>\n",
       "      <th>1</th>\n",
       "      <th>2</th>\n",
       "      <th>3</th>\n",
       "      <th>4</th>\n",
       "      <th>5</th>\n",
       "      <th>6</th>\n",
       "      <th>7</th>\n",
       "      <th>8</th>\n",
       "      <th>9</th>\n",
       "    </tr>\n",
       "  </thead>\n",
       "  <tbody>\n",
       "    <tr>\n",
       "      <th>0</th>\n",
       "      <td>CHEMBL3902357</td>\n",
       "      <td>CHEMBL3926710</td>\n",
       "      <td>COCCCN1C(=O)N(c2cccc(C(F)(F)F)c2)C2=C(C(=O)CC2...</td>\n",
       "      <td>CCOC(=O)C1=C(C)N(c2cccc(C(F)(F)F)c2)C(=O)N(C)C...</td>\n",
       "      <td>COCCCN1C(=O)N(C2=CC=CC(C(F)(F)F)=C2)C2=C(C(=O)...</td>\n",
       "      <td>0.790164</td>\n",
       "      <td>16</td>\n",
       "      <td>52.810135</td>\n",
       "      <td>C1CCC(C2CCC(C3CCCCC3)C3CCCC23)CC1</td>\n",
       "      <td>C1CCC(C2CCC(C3CCCCC3C3CCCCC3)CC2)CC1</td>\n",
       "    </tr>\n",
       "    <tr>\n",
       "      <th>1</th>\n",
       "      <td>CHEMBL3902357</td>\n",
       "      <td>CHEMBL3926710</td>\n",
       "      <td>COCCCN1C(=O)N(c2cccc(C(F)(F)F)c2)C2=C(C(=O)CC2...</td>\n",
       "      <td>CCOC(=O)C1=C(C)N(c2cccc(C(F)(F)F)c2)C(=O)N(C)C...</td>\n",
       "      <td>COCCCN1C(=O)N(C2=CC=CC(C(F)(F)F)=C2)C(C)=C(C(C...</td>\n",
       "      <td>0.790164</td>\n",
       "      <td>16</td>\n",
       "      <td>52.810135</td>\n",
       "      <td>C1CCC(C2CCC(C3CCCCC3)C3CCCC23)CC1</td>\n",
       "      <td>C1CCC(C2CCC(C3CCCCC3C3CCCCC3)CC2)CC1</td>\n",
       "    </tr>\n",
       "    <tr>\n",
       "      <th>2</th>\n",
       "      <td>CHEMBL3902357</td>\n",
       "      <td>CHEMBL3926710</td>\n",
       "      <td>COCCCN1C(=O)N(c2cccc(C(F)(F)F)c2)C2=C(C(=O)CC2...</td>\n",
       "      <td>CCOC(=O)C1=C(C)N(c2cccc(C(F)(F)F)c2)C(=O)N(C)C...</td>\n",
       "      <td>COCCCN1C(=O)N(C2=CC=CC(C(F)(F)F)=C2)C(C)=C(C(=...</td>\n",
       "      <td>0.790164</td>\n",
       "      <td>16</td>\n",
       "      <td>52.810135</td>\n",
       "      <td>C1CCC(C2CCC(C3CCCCC3)C3CCCC23)CC1</td>\n",
       "      <td>C1CCC(C2CCC(C3CCCCC3C3CCCCC3)CC2)CC1</td>\n",
       "    </tr>\n",
       "    <tr>\n",
       "      <th>3</th>\n",
       "      <td>CHEMBL3902357</td>\n",
       "      <td>CHEMBL3926710</td>\n",
       "      <td>COCCCN1C(=O)N(c2cccc(C(F)(F)F)c2)C2=C(C(=O)CC2...</td>\n",
       "      <td>CCOC(=O)C1=C(C)N(c2cccc(C(F)(F)F)c2)C(=O)N(C)C...</td>\n",
       "      <td>COCCCCN1C(=O)N(C2=CC=CC(C(F)(F)F)=C2)C(C)=C(C(...</td>\n",
       "      <td>0.790164</td>\n",
       "      <td>16</td>\n",
       "      <td>52.810135</td>\n",
       "      <td>C1CCC(C2CCC(C3CCCCC3)C3CCCC23)CC1</td>\n",
       "      <td>C1CCC(C2CCC(C3CCCCC3C3CCCCC3)CC2)CC1</td>\n",
       "    </tr>\n",
       "    <tr>\n",
       "      <th>4</th>\n",
       "      <td>CHEMBL3902357</td>\n",
       "      <td>CHEMBL3926710</td>\n",
       "      <td>COCCCN1C(=O)N(c2cccc(C(F)(F)F)c2)C2=C(C(=O)CC2...</td>\n",
       "      <td>CCOC(=O)C1=C(C)N(c2cccc(C(F)(F)F)c2)C(=O)N(C)C...</td>\n",
       "      <td>COC(=O)C1=C(C)N(C2=CC=CC(C(F)(F)F)=C2)C(=O)N(C...</td>\n",
       "      <td>0.790164</td>\n",
       "      <td>16</td>\n",
       "      <td>52.810135</td>\n",
       "      <td>C1CCC(C2CCC(C3CCCCC3)C3CCCC23)CC1</td>\n",
       "      <td>C1CCC(C2CCC(C3CCCCC3C3CCCCC3)CC2)CC1</td>\n",
       "    </tr>\n",
       "    <tr>\n",
       "      <th>...</th>\n",
       "      <td>...</td>\n",
       "      <td>...</td>\n",
       "      <td>...</td>\n",
       "      <td>...</td>\n",
       "      <td>...</td>\n",
       "      <td>...</td>\n",
       "      <td>...</td>\n",
       "      <td>...</td>\n",
       "      <td>...</td>\n",
       "      <td>...</td>\n",
       "    </tr>\n",
       "    <tr>\n",
       "      <th>1721136</th>\n",
       "      <td>CHEMBL293138</td>\n",
       "      <td>CHEMBL408621</td>\n",
       "      <td>CC(SC(=O)c1cccs1)C(=O)NCC(=O)N1CSCC1C(=O)O</td>\n",
       "      <td>CC1(C)C2CC[C@]1(C)C(OC(=O)/C=C/c1cc(O)c(O)c(O)...</td>\n",
       "      <td>CC1=CC(C=CC(=O)OC2CC3CCC2(C)C3(C)C)=CC=C1O</td>\n",
       "      <td>0.199458</td>\n",
       "      <td>76</td>\n",
       "      <td>2319.140899</td>\n",
       "      <td>C(CCCC1CCCC1)CCCC1CCCC1</td>\n",
       "      <td>C1CCC(CCCCC2CC3CCC2C3)CC1</td>\n",
       "    </tr>\n",
       "    <tr>\n",
       "      <th>1721137</th>\n",
       "      <td>CHEMBL293138</td>\n",
       "      <td>CHEMBL408621</td>\n",
       "      <td>CC(SC(=O)c1cccs1)C(=O)NCC(=O)N1CSCC1C(=O)O</td>\n",
       "      <td>CC1(C)C2CC[C@]1(C)C(OC(=O)/C=C/c1cc(O)c(O)c(O)...</td>\n",
       "      <td>CC1=CC(C=CC(=O)OC2CC3CCC2(C)C3(C)C)=CC(O)=C1O</td>\n",
       "      <td>0.199458</td>\n",
       "      <td>76</td>\n",
       "      <td>2319.140899</td>\n",
       "      <td>C(CCCC1CCCC1)CCCC1CCCC1</td>\n",
       "      <td>C1CCC(CCCCC2CC3CCC2C3)CC1</td>\n",
       "    </tr>\n",
       "    <tr>\n",
       "      <th>1721138</th>\n",
       "      <td>CHEMBL293138</td>\n",
       "      <td>CHEMBL408621</td>\n",
       "      <td>CC(SC(=O)c1cccs1)C(=O)NCC(=O)N1CSCC1C(=O)O</td>\n",
       "      <td>CC1(C)C2CC[C@]1(C)C(OC(=O)/C=C/c1cc(O)c(O)c(O)...</td>\n",
       "      <td>CCC1=CC(C=CC(=O)OC2CC3CCC2(C)C3(C)C)=CC(O)=C1O</td>\n",
       "      <td>0.199458</td>\n",
       "      <td>76</td>\n",
       "      <td>2319.140899</td>\n",
       "      <td>C(CCCC1CCCC1)CCCC1CCCC1</td>\n",
       "      <td>C1CCC(CCCCC2CC3CCC2C3)CC1</td>\n",
       "    </tr>\n",
       "    <tr>\n",
       "      <th>1721139</th>\n",
       "      <td>CHEMBL293138</td>\n",
       "      <td>CHEMBL408621</td>\n",
       "      <td>CC(SC(=O)c1cccs1)C(=O)NCC(=O)N1CSCC1C(=O)O</td>\n",
       "      <td>CC1(C)C2CC[C@]1(C)C(OC(=O)/C=C/c1cc(O)c(O)c(O)...</td>\n",
       "      <td>CC1(C)C2CCC1(C)C(OC(=O)C=CC1=CC(O)=C(O)C(CO)=C...</td>\n",
       "      <td>0.199458</td>\n",
       "      <td>76</td>\n",
       "      <td>2319.140899</td>\n",
       "      <td>C(CCCC1CCCC1)CCCC1CCCC1</td>\n",
       "      <td>C1CCC(CCCCC2CC3CCC2C3)CC1</td>\n",
       "    </tr>\n",
       "    <tr>\n",
       "      <th>1721140</th>\n",
       "      <td>CHEMBL293138</td>\n",
       "      <td>CHEMBL408621</td>\n",
       "      <td>CC(SC(=O)c1cccs1)C(=O)NCC(=O)N1CSCC1C(=O)O</td>\n",
       "      <td>CC1(C)C2CC[C@]1(C)C(OC(=O)/C=C/c1cc(O)c(O)c(O)...</td>\n",
       "      <td>CC1(C)C2CCC1(C)C(OC(=O)C=CC1=CC(O)=C(O)C(O)=C1)C2</td>\n",
       "      <td>0.199458</td>\n",
       "      <td>76</td>\n",
       "      <td>2319.140899</td>\n",
       "      <td>C(CCCC1CCCC1)CCCC1CCCC1</td>\n",
       "      <td>C1CCC(CCCCC2CC3CCC2C3)CC1</td>\n",
       "    </tr>\n",
       "  </tbody>\n",
       "</table>\n",
       "<p>1721141 rows × 10 columns</p>\n",
       "</div>"
      ],
      "text/plain": [
       "                     0              1  \\\n",
       "0        CHEMBL3902357  CHEMBL3926710   \n",
       "1        CHEMBL3902357  CHEMBL3926710   \n",
       "2        CHEMBL3902357  CHEMBL3926710   \n",
       "3        CHEMBL3902357  CHEMBL3926710   \n",
       "4        CHEMBL3902357  CHEMBL3926710   \n",
       "...                ...            ...   \n",
       "1721136   CHEMBL293138   CHEMBL408621   \n",
       "1721137   CHEMBL293138   CHEMBL408621   \n",
       "1721138   CHEMBL293138   CHEMBL408621   \n",
       "1721139   CHEMBL293138   CHEMBL408621   \n",
       "1721140   CHEMBL293138   CHEMBL408621   \n",
       "\n",
       "                                                         2  \\\n",
       "0        COCCCN1C(=O)N(c2cccc(C(F)(F)F)c2)C2=C(C(=O)CC2...   \n",
       "1        COCCCN1C(=O)N(c2cccc(C(F)(F)F)c2)C2=C(C(=O)CC2...   \n",
       "2        COCCCN1C(=O)N(c2cccc(C(F)(F)F)c2)C2=C(C(=O)CC2...   \n",
       "3        COCCCN1C(=O)N(c2cccc(C(F)(F)F)c2)C2=C(C(=O)CC2...   \n",
       "4        COCCCN1C(=O)N(c2cccc(C(F)(F)F)c2)C2=C(C(=O)CC2...   \n",
       "...                                                    ...   \n",
       "1721136         CC(SC(=O)c1cccs1)C(=O)NCC(=O)N1CSCC1C(=O)O   \n",
       "1721137         CC(SC(=O)c1cccs1)C(=O)NCC(=O)N1CSCC1C(=O)O   \n",
       "1721138         CC(SC(=O)c1cccs1)C(=O)NCC(=O)N1CSCC1C(=O)O   \n",
       "1721139         CC(SC(=O)c1cccs1)C(=O)NCC(=O)N1CSCC1C(=O)O   \n",
       "1721140         CC(SC(=O)c1cccs1)C(=O)NCC(=O)N1CSCC1C(=O)O   \n",
       "\n",
       "                                                         3  \\\n",
       "0        CCOC(=O)C1=C(C)N(c2cccc(C(F)(F)F)c2)C(=O)N(C)C...   \n",
       "1        CCOC(=O)C1=C(C)N(c2cccc(C(F)(F)F)c2)C(=O)N(C)C...   \n",
       "2        CCOC(=O)C1=C(C)N(c2cccc(C(F)(F)F)c2)C(=O)N(C)C...   \n",
       "3        CCOC(=O)C1=C(C)N(c2cccc(C(F)(F)F)c2)C(=O)N(C)C...   \n",
       "4        CCOC(=O)C1=C(C)N(c2cccc(C(F)(F)F)c2)C(=O)N(C)C...   \n",
       "...                                                    ...   \n",
       "1721136  CC1(C)C2CC[C@]1(C)C(OC(=O)/C=C/c1cc(O)c(O)c(O)...   \n",
       "1721137  CC1(C)C2CC[C@]1(C)C(OC(=O)/C=C/c1cc(O)c(O)c(O)...   \n",
       "1721138  CC1(C)C2CC[C@]1(C)C(OC(=O)/C=C/c1cc(O)c(O)c(O)...   \n",
       "1721139  CC1(C)C2CC[C@]1(C)C(OC(=O)/C=C/c1cc(O)c(O)c(O)...   \n",
       "1721140  CC1(C)C2CC[C@]1(C)C(OC(=O)/C=C/c1cc(O)c(O)c(O)...   \n",
       "\n",
       "                                                         4         5   6  \\\n",
       "0        COCCCN1C(=O)N(C2=CC=CC(C(F)(F)F)=C2)C2=C(C(=O)...  0.790164  16   \n",
       "1        COCCCN1C(=O)N(C2=CC=CC(C(F)(F)F)=C2)C(C)=C(C(C...  0.790164  16   \n",
       "2        COCCCN1C(=O)N(C2=CC=CC(C(F)(F)F)=C2)C(C)=C(C(=...  0.790164  16   \n",
       "3        COCCCCN1C(=O)N(C2=CC=CC(C(F)(F)F)=C2)C(C)=C(C(...  0.790164  16   \n",
       "4        COC(=O)C1=C(C)N(C2=CC=CC(C(F)(F)F)=C2)C(=O)N(C...  0.790164  16   \n",
       "...                                                    ...       ...  ..   \n",
       "1721136         CC1=CC(C=CC(=O)OC2CC3CCC2(C)C3(C)C)=CC=C1O  0.199458  76   \n",
       "1721137      CC1=CC(C=CC(=O)OC2CC3CCC2(C)C3(C)C)=CC(O)=C1O  0.199458  76   \n",
       "1721138     CCC1=CC(C=CC(=O)OC2CC3CCC2(C)C3(C)C)=CC(O)=C1O  0.199458  76   \n",
       "1721139  CC1(C)C2CCC1(C)C(OC(=O)C=CC1=CC(O)=C(O)C(CO)=C...  0.199458  76   \n",
       "1721140  CC1(C)C2CCC1(C)C(OC(=O)C=CC1=CC(O)=C(O)C(O)=C1)C2  0.199458  76   \n",
       "\n",
       "                   7                                  8  \\\n",
       "0          52.810135  C1CCC(C2CCC(C3CCCCC3)C3CCCC23)CC1   \n",
       "1          52.810135  C1CCC(C2CCC(C3CCCCC3)C3CCCC23)CC1   \n",
       "2          52.810135  C1CCC(C2CCC(C3CCCCC3)C3CCCC23)CC1   \n",
       "3          52.810135  C1CCC(C2CCC(C3CCCCC3)C3CCCC23)CC1   \n",
       "4          52.810135  C1CCC(C2CCC(C3CCCCC3)C3CCCC23)CC1   \n",
       "...              ...                                ...   \n",
       "1721136  2319.140899            C(CCCC1CCCC1)CCCC1CCCC1   \n",
       "1721137  2319.140899            C(CCCC1CCCC1)CCCC1CCCC1   \n",
       "1721138  2319.140899            C(CCCC1CCCC1)CCCC1CCCC1   \n",
       "1721139  2319.140899            C(CCCC1CCCC1)CCCC1CCCC1   \n",
       "1721140  2319.140899            C(CCCC1CCCC1)CCCC1CCCC1   \n",
       "\n",
       "                                            9  \n",
       "0        C1CCC(C2CCC(C3CCCCC3C3CCCCC3)CC2)CC1  \n",
       "1        C1CCC(C2CCC(C3CCCCC3C3CCCCC3)CC2)CC1  \n",
       "2        C1CCC(C2CCC(C3CCCCC3C3CCCCC3)CC2)CC1  \n",
       "3        C1CCC(C2CCC(C3CCCCC3C3CCCCC3)CC2)CC1  \n",
       "4        C1CCC(C2CCC(C3CCCCC3C3CCCCC3)CC2)CC1  \n",
       "...                                       ...  \n",
       "1721136             C1CCC(CCCCC2CC3CCC2C3)CC1  \n",
       "1721137             C1CCC(CCCCC2CC3CCC2C3)CC1  \n",
       "1721138             C1CCC(CCCCC2CC3CCC2C3)CC1  \n",
       "1721139             C1CCC(CCCCC2CC3CCC2C3)CC1  \n",
       "1721140             C1CCC(CCCCC2CC3CCC2C3)CC1  \n",
       "\n",
       "[1721141 rows x 10 columns]"
      ]
     },
     "execution_count": 15,
     "metadata": {},
     "output_type": "execute_result"
    }
   ],
   "source": [
    "df = pd.read_csv(f\"data/output_sets_new/{receptor}/cOS_Molpher_{type_cluster}_{number}_all_columns.csv\", header=None)\n",
    "df"
   ]
  },
  {
   "cell_type": "code",
   "execution_count": 16,
   "id": "3eb48e33-060c-4c9d-a2cf-987f2597207b",
   "metadata": {},
   "outputs": [
    {
     "data": {
      "text/plain": [
       "1721141"
      ]
     },
     "execution_count": 16,
     "metadata": {},
     "output_type": "execute_result"
    }
   ],
   "source": [
    "morphs = df[4]\n",
    "len(morphs)"
   ]
  },
  {
   "cell_type": "code",
   "execution_count": 17,
   "id": "e51193c8-a539-4796-ae95-d4b1fc94023a",
   "metadata": {},
   "outputs": [],
   "source": [
    "morphs.to_csv(f\"data/output_sets_new/{receptor}/cOS_Molpher_{type_cluster}_{number}_one_column.csv\", header=None, index = False)"
   ]
  },
  {
   "cell_type": "markdown",
   "id": "df560b9a-4211-4e46-a13e-5fba907e798e",
   "metadata": {},
   "source": [
    "## DrugEx"
   ]
  },
  {
   "cell_type": "code",
   "execution_count": 4,
   "id": "faceb1d0-5503-4bc9-a798-1df7a90549d4",
   "metadata": {},
   "outputs": [],
   "source": [
    "numbers = [0]\n",
    "receptor = 'Glucocorticoid_receptor' \n",
    "type_cluster = 'sim'\n",
    "generator = 'DrugEx_epsilon_0.2' # oprions: DrugEx | DrugEx3(with new parameters, update numbers of epochs)"
   ]
  },
  {
   "cell_type": "code",
   "execution_count": 5,
   "id": "0b9dd897",
   "metadata": {},
   "outputs": [
    {
     "name": "stdout",
     "output_type": "stream",
     "text": [
      "10000\n"
     ]
    }
   ],
   "source": [
    "for number in numbers:\n",
    "    df = pd.read_csv(f\"data/output_sets/{receptor}/cOS_{generator}_{type_cluster}_{number}_all_columns.csv\")\n",
    "    delete_row = df.index[df.SMILES=='SMILES'].tolist()\n",
    "    df = df.drop(delete_row)\n",
    "    morphs = df.SMILES.drop_duplicates(keep='last')\n",
    "    print(len(morphs))\n",
    "\n",
    "    morphs.to_csv(f\"data/output_sets/{receptor}/cOS_{generator}_{type_cluster}_{number}_one_column.csv\", header=False, index=False)"
   ]
  },
  {
   "cell_type": "code",
   "execution_count": null,
   "id": "9d6f7944-56ec-4d13-93c2-6722be07a11c",
   "metadata": {},
   "outputs": [],
   "source": []
  },
  {
   "cell_type": "code",
   "execution_count": 58,
   "id": "8ba7ea03-ac4f-4504-b066-b4dd43057429",
   "metadata": {},
   "outputs": [],
   "source": [
    "\n",
    "import matplotlib.pyplot as plt\n",
    "import seaborn as sns"
   ]
  },
  {
   "cell_type": "code",
   "execution_count": 6,
   "id": "f3db9fac-2533-4c9e-8866-78a13ef0f281",
   "metadata": {},
   "outputs": [],
   "source": [
    "numbers = [2,3,4]\n",
    "receptor = 'Glucocorticoid_receptor' \n",
    "type_cluster = 'sim'\n",
    "generator = 'DrugEx_GT' # oprions: DrugEx | DrugEx3(with new parameters, update numbers of epochs)"
   ]
  },
  {
   "cell_type": "code",
   "execution_count": 26,
   "id": "42b01494-c683-49d0-8df3-163793fa8f5a",
   "metadata": {},
   "outputs": [
    {
     "name": "stderr",
     "output_type": "stream",
     "text": [
      "/tmp/ipykernel_6538/2678728452.py:2: DtypeWarning: Columns (2,3,4,5,6) have mixed types. Specify dtype option on import or set low_memory=False.\n",
      "  df = pd.read_csv(f\"data/output_sets/{receptor}/cOS_{generator}_{type_cluster}_{number}_all_columns.csv\")\n"
     ]
    },
    {
     "name": "stdout",
     "output_type": "stream",
     "text": [
      "DF1  1000000\n"
     ]
    },
    {
     "name": "stderr",
     "output_type": "stream",
     "text": [
      "/tmp/ipykernel_6538/2678728452.py:8: SettingWithCopyWarning: \n",
      "A value is trying to be set on a copy of a slice from a DataFrame.\n",
      "Try using .loc[row_indexer,col_indexer] = value instead\n",
      "\n",
      "See the caveats in the documentation: https://pandas.pydata.org/pandas-docs/stable/user_guide/indexing.html#returning-a-view-versus-a-copy\n",
      "  morphs['SA'] = pd.to_numeric(morphs['SA'], errors='coerce')\n",
      "/tmp/ipykernel_6538/2678728452.py:9: SettingWithCopyWarning: \n",
      "A value is trying to be set on a copy of a slice from a DataFrame.\n",
      "Try using .loc[row_indexer,col_indexer] = value instead\n",
      "\n",
      "See the caveats in the documentation: https://pandas.pydata.org/pandas-docs/stable/user_guide/indexing.html#returning-a-view-versus-a-copy\n",
      "  morphs[f'QSPRPRED_reshape'] = pd.to_numeric(morphs[f'QSPRPRED_reshape'], errors='coerce')\n"
     ]
    },
    {
     "name": "stdout",
     "output_type": "stream",
     "text": [
      "DF2  899657\n"
     ]
    }
   ],
   "source": [
    "for number in numbers:\n",
    "    df = pd.read_csv(f\"data/output_sets/{receptor}/cOS_{generator}_{type_cluster}_{number}_all_columns.csv\")\n",
    "    delete_row = df.index[df.SMILES=='SMILES'].tolist()\n",
    "    df = df.drop(delete_row)\n",
    "    print(\"DF1 \", len(df))\n",
    "    morphs = df.drop_duplicates(subset='SMILES', keep='last')\n",
    "    # Převod na numerické hodnoty\n",
    "    morphs['SA'] = pd.to_numeric(morphs['SA'], errors='coerce')\n",
    "    morphs[f'QSPRPRED_reshape'] = pd.to_numeric(morphs[f'QSPRPRED_reshape'], errors='coerce')\n",
    "    print(\"DF2 \", len(morphs))\n",
    "    morphs = morphs[[f'QSPRPRED_reshape', 'SA']]\n",
    "    morphs.columns = ['pchembl', 'SA']\n",
    "    #print(morphs)\n",
    "    morphs.to_csv(f\"data/output_sets/{receptor}/{generator}_pchembl_sa_{type_cluster}_{number}.csv\", index=False)\n",
    "\n",
    "\n"
   ]
  },
  {
   "cell_type": "code",
   "execution_count": 9,
   "id": "1fa9f724-e536-4850-ae2a-3985e18274f1",
   "metadata": {},
   "outputs": [
    {
     "name": "stderr",
     "output_type": "stream",
     "text": [
      "/var/tmp/pbs.102393.lich-compute.vscht.cz/ipykernel_25909/3668371988.py:2: DtypeWarning: Columns (2,3,4,5,6) have mixed types. Specify dtype option on import or set low_memory=False.\n",
      "  df = pd.read_csv(f\"data/output_sets/{receptor}/cOS_{generator}_{type_cluster}_{number}_all_columns.csv\")\n"
     ]
    },
    {
     "name": "stdout",
     "output_type": "stream",
     "text": [
      "                                            SMILES   Frags Valid Accurate  \\\n",
      "0  COc1cc2cc(S(=O)(=O)NCC(C)c3ccc(F)cc3)ccc2cc1C#N  CCC.CO   1.0      1.0   \n",
      "\n",
      "  Desired QSPRPRED_reshape     SA  \n",
      "0     0.0            5.446  2.729  \n",
      "DF1  1000000\n"
     ]
    },
    {
     "name": "stderr",
     "output_type": "stream",
     "text": [
      "/var/tmp/pbs.102393.lich-compute.vscht.cz/ipykernel_25909/3668371988.py:9: SettingWithCopyWarning: \n",
      "A value is trying to be set on a copy of a slice from a DataFrame.\n",
      "Try using .loc[row_indexer,col_indexer] = value instead\n",
      "\n",
      "See the caveats in the documentation: https://pandas.pydata.org/pandas-docs/stable/user_guide/indexing.html#returning-a-view-versus-a-copy\n",
      "  morphs['SA'] = pd.to_numeric(morphs['SA'], errors='coerce')\n",
      "/var/tmp/pbs.102393.lich-compute.vscht.cz/ipykernel_25909/3668371988.py:10: SettingWithCopyWarning: \n",
      "A value is trying to be set on a copy of a slice from a DataFrame.\n",
      "Try using .loc[row_indexer,col_indexer] = value instead\n",
      "\n",
      "See the caveats in the documentation: https://pandas.pydata.org/pandas-docs/stable/user_guide/indexing.html#returning-a-view-versus-a-copy\n",
      "  morphs[f'QSPRPRED_reshape'] = pd.to_numeric(morphs[f'QSPRPRED_reshape'], errors='coerce')\n"
     ]
    },
    {
     "name": "stdout",
     "output_type": "stream",
     "text": [
      "DF2  898760\n",
      "DF3  529037\n"
     ]
    },
    {
     "name": "stderr",
     "output_type": "stream",
     "text": [
      "/var/tmp/pbs.102393.lich-compute.vscht.cz/ipykernel_25909/3668371988.py:2: DtypeWarning: Columns (2,3,4,5,6) have mixed types. Specify dtype option on import or set low_memory=False.\n",
      "  df = pd.read_csv(f\"data/output_sets/{receptor}/cOS_{generator}_{type_cluster}_{number}_all_columns.csv\")\n"
     ]
    },
    {
     "name": "stdout",
     "output_type": "stream",
     "text": [
      "                                              SMILES  \\\n",
      "0  Cc1ncccc1NC(=O)c1ccc2c(c1)C=CC1CC(O)(C(F)(F)F)...   \n",
      "\n",
      "                           Frags Valid Accurate Desired QSPRPRED_reshape  \\\n",
      "0  FC(F)F.OC1CCC2c3ccccc3C=CC2C1   1.0      1.0     1.0            8.184   \n",
      "\n",
      "      SA  \n",
      "0  3.942  \n",
      "DF1  1000000\n"
     ]
    },
    {
     "name": "stderr",
     "output_type": "stream",
     "text": [
      "/var/tmp/pbs.102393.lich-compute.vscht.cz/ipykernel_25909/3668371988.py:9: SettingWithCopyWarning: \n",
      "A value is trying to be set on a copy of a slice from a DataFrame.\n",
      "Try using .loc[row_indexer,col_indexer] = value instead\n",
      "\n",
      "See the caveats in the documentation: https://pandas.pydata.org/pandas-docs/stable/user_guide/indexing.html#returning-a-view-versus-a-copy\n",
      "  morphs['SA'] = pd.to_numeric(morphs['SA'], errors='coerce')\n",
      "/var/tmp/pbs.102393.lich-compute.vscht.cz/ipykernel_25909/3668371988.py:10: SettingWithCopyWarning: \n",
      "A value is trying to be set on a copy of a slice from a DataFrame.\n",
      "Try using .loc[row_indexer,col_indexer] = value instead\n",
      "\n",
      "See the caveats in the documentation: https://pandas.pydata.org/pandas-docs/stable/user_guide/indexing.html#returning-a-view-versus-a-copy\n",
      "  morphs[f'QSPRPRED_reshape'] = pd.to_numeric(morphs[f'QSPRPRED_reshape'], errors='coerce')\n"
     ]
    },
    {
     "name": "stdout",
     "output_type": "stream",
     "text": [
      "DF2  907063\n",
      "DF3  517842\n"
     ]
    },
    {
     "name": "stderr",
     "output_type": "stream",
     "text": [
      "/var/tmp/pbs.102393.lich-compute.vscht.cz/ipykernel_25909/3668371988.py:2: DtypeWarning: Columns (2,3,4,5,6) have mixed types. Specify dtype option on import or set low_memory=False.\n",
      "  df = pd.read_csv(f\"data/output_sets/{receptor}/cOS_{generator}_{type_cluster}_{number}_all_columns.csv\")\n"
     ]
    },
    {
     "name": "stdout",
     "output_type": "stream",
     "text": [
      "                                              SMILES  \\\n",
      "0  CC#CC1(O)CCC2C3CCC4=CC(=O)CCC4=C3C(c3cc(C)c(OC...   \n",
      "\n",
      "                                     Frags Valid Accurate Desired  \\\n",
      "0  CC#CC1(O)CCC2C3CCC4=CC(=O)CCC4=C3CCC21C   1.0      1.0     1.0   \n",
      "\n",
      "  QSPRPRED_reshape     SA  \n",
      "0            8.235  4.487  \n",
      "DF1  1000000\n"
     ]
    },
    {
     "name": "stderr",
     "output_type": "stream",
     "text": [
      "/var/tmp/pbs.102393.lich-compute.vscht.cz/ipykernel_25909/3668371988.py:9: SettingWithCopyWarning: \n",
      "A value is trying to be set on a copy of a slice from a DataFrame.\n",
      "Try using .loc[row_indexer,col_indexer] = value instead\n",
      "\n",
      "See the caveats in the documentation: https://pandas.pydata.org/pandas-docs/stable/user_guide/indexing.html#returning-a-view-versus-a-copy\n",
      "  morphs['SA'] = pd.to_numeric(morphs['SA'], errors='coerce')\n",
      "/var/tmp/pbs.102393.lich-compute.vscht.cz/ipykernel_25909/3668371988.py:10: SettingWithCopyWarning: \n",
      "A value is trying to be set on a copy of a slice from a DataFrame.\n",
      "Try using .loc[row_indexer,col_indexer] = value instead\n",
      "\n",
      "See the caveats in the documentation: https://pandas.pydata.org/pandas-docs/stable/user_guide/indexing.html#returning-a-view-versus-a-copy\n",
      "  morphs[f'QSPRPRED_reshape'] = pd.to_numeric(morphs[f'QSPRPRED_reshape'], errors='coerce')\n"
     ]
    },
    {
     "name": "stdout",
     "output_type": "stream",
     "text": [
      "DF2  899657\n",
      "DF3  494713\n"
     ]
    }
   ],
   "source": [
    "for number in numbers:\n",
    "    df = pd.read_csv(f\"data/output_sets/{receptor}/cOS_{generator}_{type_cluster}_{number}_all_columns.csv\")\n",
    "    delete_row = df.index[df.SMILES=='SMILES'].tolist()\n",
    "    df = df.drop(delete_row)\n",
    "    print(df[:1])\n",
    "    print(\"DF1 \", len(df))\n",
    "    morphs = df.drop_duplicates(subset='SMILES', keep='last')\n",
    "    # Převod na numerické hodnoty\n",
    "    morphs['SA'] = pd.to_numeric(morphs['SA'], errors='coerce')\n",
    "    morphs[f'QSPRPRED_reshape'] = pd.to_numeric(morphs[f'QSPRPRED_reshape'], errors='coerce')\n",
    "    print(\"DF2 \", len(morphs))\n",
    "    # Filtrování na základě obou podmínek\n",
    "    filtered_morphs = morphs[(morphs['SA'] <= 6) & (morphs[f'QSPRPRED_reshape'] >= 7)]\n",
    "    print(\"DF3 \", len(filtered_morphs))\n",
    "    filtered_morphs.SMILES.to_csv(f\"data/output_sets/{receptor}/cOS_{generator}_desired_{type_cluster}_{number}_one_column.csv\", header=False, index=False)\n",
    "\n",
    "\n",
    "    # Nastavení velikosti grafu\n",
    "    #plt.figure(figsize=(12, 6))\n",
    "#\n",
    "    ## Plot pro SA\n",
    "    #plt.subplot(1, 2, 1)\n",
    "    #sns.histplot(morphs['SA'].dropna(), kde=True, color='blue', bins=20)\n",
    "    #plt.title('Histogram of SA')\n",
    "    #plt.xlabel('SA')\n",
    "    #plt.ylabel('Frequency')\n",
    "#\n",
    "    ## Plot pro QSPRpred_cIS_Glucocorticoid_receptor_with_p_chembl_dis_0\n",
    "    #plt.subplot(1, 2, 2)\n",
    "    #sns.histplot(morphs[f'QSPRpred_cIS_Glucocorticoid_receptor_with_p_chembl_{type_cluster}_{number}'].dropna(), kde=True, color='green', bins=20)\n",
    "    #plt.title(f'Histogram of QSPRpred_cIS_Glucocorticoid_receptor_with_p_chembl_{type_cluster}_{number}')\n",
    "    #plt.xlabel(f'QSPRpred_cIS_Glucocorticoid_receptor_with_p_chembl_{type_cluster}_{number}')\n",
    "    #plt.ylabel('Frequency')\n",
    "#\n",
    "    ## Zobrazení grafu\n",
    "    #plt.tight_layout()\n",
    "    #plt.show()\n",
    "#"
   ]
  },
  {
   "cell_type": "code",
   "execution_count": null,
   "id": "c972628a-4af3-4db1-8bc7-8ca8cea8bc5d",
   "metadata": {},
   "outputs": [],
   "source": []
  },
  {
   "cell_type": "code",
   "execution_count": null,
   "id": "74879c7d-aa0e-49ab-8545-cb62dfca4731",
   "metadata": {},
   "outputs": [],
   "source": []
  },
  {
   "cell_type": "code",
   "execution_count": null,
   "id": "caec054e-0047-472c-8fdd-0d67644284c3",
   "metadata": {},
   "outputs": [],
   "source": []
  },
  {
   "cell_type": "code",
   "execution_count": null,
   "id": "6494f4dd-8049-4c80-a37d-324bfb728647",
   "metadata": {},
   "outputs": [],
   "source": []
  },
  {
   "cell_type": "code",
   "execution_count": 17,
   "id": "db260435-2fab-47ed-838f-acb1bbbd9e37",
   "metadata": {},
   "outputs": [
    {
     "data": {
      "image/png": "[encoded data removed]",
      "text/plain": [
       "<Figure size 1200x600 with 2 Axes>"
      ]
     },
     "metadata": {},
     "output_type": "display_data"
    }
   ],
   "source": []
  },
  {
   "cell_type": "code",
   "execution_count": null,
   "id": "40737e47-5122-433b-975c-ace3344be5c7",
   "metadata": {},
   "outputs": [],
   "source": []
  },
  {
   "cell_type": "code",
   "execution_count": null,
   "id": "6b7d437a-8d66-4ee4-b258-bb686f04b4c9",
   "metadata": {},
   "outputs": [],
   "source": []
  },
  {
   "cell_type": "code",
   "execution_count": null,
   "id": "786d5d88-91ab-4831-9cab-ea3430afce46",
   "metadata": {},
   "outputs": [],
   "source": []
  },
  {
   "cell_type": "code",
   "execution_count": null,
   "id": "dd8d08b6-0c55-495f-bf8a-af9f604d6dbd",
   "metadata": {},
   "outputs": [],
   "source": []
  },
  {
   "cell_type": "code",
   "execution_count": null,
   "id": "2b7eb0ec-628b-4b6e-a2e6-ed5004414f52",
   "metadata": {},
   "outputs": [],
   "source": []
  },
  {
   "cell_type": "markdown",
   "id": "7b369f2e-eeff-4512-97ef-460368f0c3ee",
   "metadata": {},
   "source": [
    "# REINVENT"
   ]
  },
  {
   "cell_type": "code",
   "execution_count": 13,
   "id": "6d17a7e5-f76d-4647-8dcd-5af458534ceb",
   "metadata": {},
   "outputs": [],
   "source": [
    "number = 0\n",
    "receptor = 'Glucocorticoid_receptor' \n",
    "type_cluster = 'dis'\n",
    "generator = 'REINVENTn' "
   ]
  },
  {
   "cell_type": "code",
   "execution_count": 15,
   "id": "97f061a2-9641-4ed6-b497-6aef06847e1e",
   "metadata": {},
   "outputs": [
    {
     "data": {
      "text/html": [
       "<div>\n",
       "<style scoped>\n",
       "    .dataframe tbody tr th:only-of-type {\n",
       "        vertical-align: middle;\n",
       "    }\n",
       "\n",
       "    .dataframe tbody tr th {\n",
       "        vertical-align: top;\n",
       "    }\n",
       "\n",
       "    .dataframe thead th {\n",
       "        text-align: right;\n",
       "    }\n",
       "</style>\n",
       "<table border=\"1\" class=\"dataframe\">\n",
       "  <thead>\n",
       "    <tr style=\"text-align: right;\">\n",
       "      <th></th>\n",
       "      <th>SMILES</th>\n",
       "      <th>NLL</th>\n",
       "    </tr>\n",
       "  </thead>\n",
       "  <tbody>\n",
       "    <tr>\n",
       "      <th>0</th>\n",
       "      <td>Cc1ccc(N(C(=O)c2csnn2)C(C(=O)NC(C)(C)C)c2ccco2...</td>\n",
       "      <td>23.803497</td>\n",
       "    </tr>\n",
       "    <tr>\n",
       "      <th>1</th>\n",
       "      <td>Cn1c(=O)[nH]c2cc(-c3cc4cnn(-c5ccc6c(c5)CCC6)c4...</td>\n",
       "      <td>32.488194</td>\n",
       "    </tr>\n",
       "    <tr>\n",
       "      <th>2</th>\n",
       "      <td>O=S(=O)(N=c1cc[nH]c(=Nc2ccccc2C2CC2)[nH]1)C(F)...</td>\n",
       "      <td>28.983135</td>\n",
       "    </tr>\n",
       "    <tr>\n",
       "      <th>3</th>\n",
       "      <td>CC1(C)CC(C(O)(Cc2ccc3c(c2)OC(F)(F)O3)c2cccc(F)...</td>\n",
       "      <td>26.833748</td>\n",
       "    </tr>\n",
       "    <tr>\n",
       "      <th>4</th>\n",
       "      <td>O=C(NCCS)c1cnccc1C(F)(F)F</td>\n",
       "      <td>25.808182</td>\n",
       "    </tr>\n",
       "    <tr>\n",
       "      <th>...</th>\n",
       "      <td>...</td>\n",
       "      <td>...</td>\n",
       "    </tr>\n",
       "    <tr>\n",
       "      <th>935400</th>\n",
       "      <td>COc1ccc2c(c1)CC(C)(C)N(c1ccc(C(C)N(C)C(=O)CN(C...</td>\n",
       "      <td>26.185453</td>\n",
       "    </tr>\n",
       "    <tr>\n",
       "      <th>935401</th>\n",
       "      <td>CC1=NC(C)=C(C(=O)OCc2ccccc2)C(C(F)(F)F)C1</td>\n",
       "      <td>24.012506</td>\n",
       "    </tr>\n",
       "    <tr>\n",
       "      <th>935402</th>\n",
       "      <td>Cc1noc(=O)c2ccc(NC(CC3CCN(C(=O)OC(C)(C)C)CC3)(...</td>\n",
       "      <td>29.085760</td>\n",
       "    </tr>\n",
       "    <tr>\n",
       "      <th>935403</th>\n",
       "      <td>Fc1ccc(-c2[nH]c(CNc3cccc(C(F)F)c3)nc2-c2ccc3nc...</td>\n",
       "      <td>24.837856</td>\n",
       "    </tr>\n",
       "    <tr>\n",
       "      <th>935404</th>\n",
       "      <td>CC(C)CC1OC(c2ccccc2)OCC2OC(C)(C)OC12O</td>\n",
       "      <td>26.518835</td>\n",
       "    </tr>\n",
       "  </tbody>\n",
       "</table>\n",
       "<p>935405 rows × 2 columns</p>\n",
       "</div>"
      ],
      "text/plain": [
       "                                                   SMILES        NLL\n",
       "0       Cc1ccc(N(C(=O)c2csnn2)C(C(=O)NC(C)(C)C)c2ccco2...  23.803497\n",
       "1       Cn1c(=O)[nH]c2cc(-c3cc4cnn(-c5ccc6c(c5)CCC6)c4...  32.488194\n",
       "2       O=S(=O)(N=c1cc[nH]c(=Nc2ccccc2C2CC2)[nH]1)C(F)...  28.983135\n",
       "3       CC1(C)CC(C(O)(Cc2ccc3c(c2)OC(F)(F)O3)c2cccc(F)...  26.833748\n",
       "4                               O=C(NCCS)c1cnccc1C(F)(F)F  25.808182\n",
       "...                                                   ...        ...\n",
       "935400  COc1ccc2c(c1)CC(C)(C)N(c1ccc(C(C)N(C)C(=O)CN(C...  26.185453\n",
       "935401          CC1=NC(C)=C(C(=O)OCc2ccccc2)C(C(F)(F)F)C1  24.012506\n",
       "935402  Cc1noc(=O)c2ccc(NC(CC3CCN(C(=O)OC(C)(C)C)CC3)(...  29.085760\n",
       "935403  Fc1ccc(-c2[nH]c(CNc3cccc(C(F)F)c3)nc2-c2ccc3nc...  24.837856\n",
       "935404              CC(C)CC1OC(c2ccccc2)OCC2OC(C)(C)OC12O  26.518835\n",
       "\n",
       "[935405 rows x 2 columns]"
      ]
     },
     "execution_count": 15,
     "metadata": {},
     "output_type": "execute_result"
    }
   ],
   "source": [
    "df = pd.read_csv(f\"data/output_sets/{receptor}/cOS_{generator}_{type_cluster}_{number}_one_column.csv\")\n",
    "df"
   ]
  },
  {
   "cell_type": "code",
   "execution_count": 16,
   "id": "880f0522-9a6b-4bfd-8d6b-c60df428668c",
   "metadata": {},
   "outputs": [
    {
     "data": {
      "text/plain": [
       "935405"
      ]
     },
     "execution_count": 16,
     "metadata": {},
     "output_type": "execute_result"
    }
   ],
   "source": [
    "virtual_compounds = df.SMILES\n",
    "len(virtual_compounds)"
   ]
  },
  {
   "cell_type": "code",
   "execution_count": 17,
   "id": "4860de0b-8894-4845-aacf-e05db2687543",
   "metadata": {},
   "outputs": [],
   "source": [
    "virtual_compounds.to_csv(f\"data/output_sets/{receptor}/cOS_{generator}_{type_cluster}_{number}_one_column.csv\", header=False, index=False)"
   ]
  },
  {
   "cell_type": "code",
   "execution_count": 2,
   "id": "71ce673c-d28a-4681-9dfb-fbbbe778ff81",
   "metadata": {},
   "outputs": [
    {
     "data": {
      "text/plain": [
       "'/home/filv/phd_projects/iga_2023/git_reccal/new/recall_metrics'"
      ]
     },
     "execution_count": 2,
     "metadata": {},
     "output_type": "execute_result"
    }
   ],
   "source": [
    "pwd"
   ]
  },
  {
   "cell_type": "code",
   "execution_count": 5,
   "id": "cc6468aa-516e-4d02-8aad-858953a1de45",
   "metadata": {},
   "outputs": [
    {
     "data": {
      "text/html": [
       "<div>\n",
       "<style scoped>\n",
       "    .dataframe tbody tr th:only-of-type {\n",
       "        vertical-align: middle;\n",
       "    }\n",
       "\n",
       "    .dataframe tbody tr th {\n",
       "        vertical-align: top;\n",
       "    }\n",
       "\n",
       "    .dataframe thead th {\n",
       "        text-align: right;\n",
       "    }\n",
       "</style>\n",
       "<table border=\"1\" class=\"dataframe\">\n",
       "  <thead>\n",
       "    <tr style=\"text-align: right;\">\n",
       "      <th></th>\n",
       "      <th>Agent</th>\n",
       "      <th>Prior</th>\n",
       "      <th>Target</th>\n",
       "      <th>Score</th>\n",
       "      <th>SMILES</th>\n",
       "      <th>SMILES_state</th>\n",
       "      <th>SAScore</th>\n",
       "      <th>SAScore (raw)</th>\n",
       "      <th>QSAR</th>\n",
       "      <th>QSAR (raw)</th>\n",
       "      <th>step</th>\n",
       "    </tr>\n",
       "  </thead>\n",
       "  <tbody>\n",
       "    <tr>\n",
       "      <th>0</th>\n",
       "      <td>36.5722</td>\n",
       "      <td>36.5722</td>\n",
       "      <td>24.8532</td>\n",
       "      <td>0.4798858</td>\n",
       "      <td>O=C(CNC(=O)c1cc(Cl)ccc1Br)NCC(=O)NC(Cc1c[nH]c2...</td>\n",
       "      <td>1</td>\n",
       "      <td>0.5888531</td>\n",
       "      <td>2.8659</td>\n",
       "      <td>0.4690979</td>\n",
       "      <td>0.4691</td>\n",
       "      <td>1</td>\n",
       "    </tr>\n",
       "    <tr>\n",
       "      <th>1</th>\n",
       "      <td>20.2209</td>\n",
       "      <td>20.2209</td>\n",
       "      <td>73.6989</td>\n",
       "      <td>0.7337485</td>\n",
       "      <td>CCN(CC(O)(CNc1cccc2c1cnn2-c1ccc(Br)cc1)C(F)(F)...</td>\n",
       "      <td>1</td>\n",
       "      <td>0.3726996</td>\n",
       "      <td>3.3168</td>\n",
       "      <td>0.7911063</td>\n",
       "      <td>0.7911</td>\n",
       "      <td>1</td>\n",
       "    </tr>\n",
       "    <tr>\n",
       "      <th>2</th>\n",
       "      <td>38.2675</td>\n",
       "      <td>38.2675</td>\n",
       "      <td>41.4851</td>\n",
       "      <td>0.6230669</td>\n",
       "      <td>CCc1nc(-c2c(C)cc(Cl)cc2OCCn2cc(Cl)cn2)cc(-c2c(...</td>\n",
       "      <td>1</td>\n",
       "      <td>0.5490900</td>\n",
       "      <td>2.9490</td>\n",
       "      <td>0.6318787</td>\n",
       "      <td>0.6319</td>\n",
       "      <td>1</td>\n",
       "    </tr>\n",
       "    <tr>\n",
       "      <th>3</th>\n",
       "      <td>37.2985</td>\n",
       "      <td>37.2985</td>\n",
       "      <td>10.1184</td>\n",
       "      <td>0.3704444</td>\n",
       "      <td>N#CCCOC1CC(n2cnc3c(C#N)cc(Cl)cc32)CC1F</td>\n",
       "      <td>1</td>\n",
       "      <td>0.1010946</td>\n",
       "      <td>4.1698</td>\n",
       "      <td>0.4279462</td>\n",
       "      <td>0.4279</td>\n",
       "      <td>1</td>\n",
       "    </tr>\n",
       "    <tr>\n",
       "      <th>4</th>\n",
       "      <td>39.1280</td>\n",
       "      <td>39.1280</td>\n",
       "      <td>15.8611</td>\n",
       "      <td>0.4296019</td>\n",
       "      <td>CC(C)=C(Cl)C(N)Oc1ccc(-c2nc(-c3ccc(N=C(N)c4ccc...</td>\n",
       "      <td>1</td>\n",
       "      <td>0.3495890</td>\n",
       "      <td>3.3682</td>\n",
       "      <td>0.4395533</td>\n",
       "      <td>0.4396</td>\n",
       "      <td>1</td>\n",
       "    </tr>\n",
       "    <tr>\n",
       "      <th>...</th>\n",
       "      <td>...</td>\n",
       "      <td>...</td>\n",
       "      <td>...</td>\n",
       "      <td>...</td>\n",
       "      <td>...</td>\n",
       "      <td>...</td>\n",
       "      <td>...</td>\n",
       "      <td>...</td>\n",
       "      <td>...</td>\n",
       "      <td>...</td>\n",
       "      <td>...</td>\n",
       "    </tr>\n",
       "    <tr>\n",
       "      <th>988288</th>\n",
       "      <td>34.5464</td>\n",
       "      <td>34.5464</td>\n",
       "      <td>33.2591</td>\n",
       "      <td>0.5297304</td>\n",
       "      <td>Fc1ccc(-n2c(-c3ccncc3)c(CN3CCCCC3Cn3cncn3)c3cc...</td>\n",
       "      <td>1</td>\n",
       "      <td>0.3651760</td>\n",
       "      <td>3.3334</td>\n",
       "      <td>0.5520840</td>\n",
       "      <td>0.5521</td>\n",
       "      <td>1</td>\n",
       "    </tr>\n",
       "    <tr>\n",
       "      <th>988289</th>\n",
       "      <td>26.8833</td>\n",
       "      <td>26.8833</td>\n",
       "      <td>19.8076</td>\n",
       "      <td>0.3647727</td>\n",
       "      <td>Cc1ccc(-n2nnnc2-c2ccc(Cl)cc2N)cc1</td>\n",
       "      <td>1</td>\n",
       "      <td>0.8652785</td>\n",
       "      <td>2.0969</td>\n",
       "      <td>0.3313910</td>\n",
       "      <td>0.3314</td>\n",
       "      <td>1</td>\n",
       "    </tr>\n",
       "    <tr>\n",
       "      <th>988290</th>\n",
       "      <td>31.5010</td>\n",
       "      <td>31.5010</td>\n",
       "      <td>37.6496</td>\n",
       "      <td>0.5402391</td>\n",
       "      <td>CCOc1cc(F)c(-c2noc(-c3c(Cl)cc(OCC(C)(C)NC(C)C(...</td>\n",
       "      <td>1</td>\n",
       "      <td>0.2592558</td>\n",
       "      <td>3.5880</td>\n",
       "      <td>0.5861579</td>\n",
       "      <td>0.5862</td>\n",
       "      <td>1</td>\n",
       "    </tr>\n",
       "    <tr>\n",
       "      <th>988291</th>\n",
       "      <td>30.3840</td>\n",
       "      <td>30.3840</td>\n",
       "      <td>28.0406</td>\n",
       "      <td>0.4564419</td>\n",
       "      <td>Cc1nc(-c2cccc(OC(CC(=O)O)c3cc(Cl)ccc3-c3ccccc3...</td>\n",
       "      <td>1</td>\n",
       "      <td>0.5485390</td>\n",
       "      <td>2.9502</td>\n",
       "      <td>0.4472150</td>\n",
       "      <td>0.4472</td>\n",
       "      <td>1</td>\n",
       "    </tr>\n",
       "    <tr>\n",
       "      <th>988292</th>\n",
       "      <td>26.6655</td>\n",
       "      <td>26.6655</td>\n",
       "      <td>34.4406</td>\n",
       "      <td>0.4773918</td>\n",
       "      <td>CNC(=O)c1c(NC(=O)c2cc(-c3c(Cl)cccc3Cl)sn2)cnn1C</td>\n",
       "      <td>1</td>\n",
       "      <td>0.5848270</td>\n",
       "      <td>2.8744</td>\n",
       "      <td>0.4667456</td>\n",
       "      <td>0.4667</td>\n",
       "      <td>1</td>\n",
       "    </tr>\n",
       "  </tbody>\n",
       "</table>\n",
       "<p>988293 rows × 11 columns</p>\n",
       "</div>"
      ],
      "text/plain": [
       "          Agent    Prior   Target      Score  \\\n",
       "0       36.5722  36.5722  24.8532  0.4798858   \n",
       "1       20.2209  20.2209  73.6989  0.7337485   \n",
       "2       38.2675  38.2675  41.4851  0.6230669   \n",
       "3       37.2985  37.2985  10.1184  0.3704444   \n",
       "4       39.1280  39.1280  15.8611  0.4296019   \n",
       "...         ...      ...      ...        ...   \n",
       "988288  34.5464  34.5464  33.2591  0.5297304   \n",
       "988289  26.8833  26.8833  19.8076  0.3647727   \n",
       "988290  31.5010  31.5010  37.6496  0.5402391   \n",
       "988291  30.3840  30.3840  28.0406  0.4564419   \n",
       "988292  26.6655  26.6655  34.4406  0.4773918   \n",
       "\n",
       "                                                   SMILES SMILES_state  \\\n",
       "0       O=C(CNC(=O)c1cc(Cl)ccc1Br)NCC(=O)NC(Cc1c[nH]c2...            1   \n",
       "1       CCN(CC(O)(CNc1cccc2c1cnn2-c1ccc(Br)cc1)C(F)(F)...            1   \n",
       "2       CCc1nc(-c2c(C)cc(Cl)cc2OCCn2cc(Cl)cn2)cc(-c2c(...            1   \n",
       "3                  N#CCCOC1CC(n2cnc3c(C#N)cc(Cl)cc32)CC1F            1   \n",
       "4       CC(C)=C(Cl)C(N)Oc1ccc(-c2nc(-c3ccc(N=C(N)c4ccc...            1   \n",
       "...                                                   ...          ...   \n",
       "988288  Fc1ccc(-n2c(-c3ccncc3)c(CN3CCCCC3Cn3cncn3)c3cc...            1   \n",
       "988289                  Cc1ccc(-n2nnnc2-c2ccc(Cl)cc2N)cc1            1   \n",
       "988290  CCOc1cc(F)c(-c2noc(-c3c(Cl)cc(OCC(C)(C)NC(C)C(...            1   \n",
       "988291  Cc1nc(-c2cccc(OC(CC(=O)O)c3cc(Cl)ccc3-c3ccccc3...            1   \n",
       "988292    CNC(=O)c1c(NC(=O)c2cc(-c3c(Cl)cccc3Cl)sn2)cnn1C            1   \n",
       "\n",
       "          SAScore SAScore (raw)       QSAR QSAR (raw) step  \n",
       "0       0.5888531        2.8659  0.4690979     0.4691    1  \n",
       "1       0.3726996        3.3168  0.7911063     0.7911    1  \n",
       "2       0.5490900        2.9490  0.6318787     0.6319    1  \n",
       "3       0.1010946        4.1698  0.4279462     0.4279    1  \n",
       "4       0.3495890        3.3682  0.4395533     0.4396    1  \n",
       "...           ...           ...        ...        ...  ...  \n",
       "988288  0.3651760        3.3334  0.5520840     0.5521    1  \n",
       "988289  0.8652785        2.0969  0.3313910     0.3314    1  \n",
       "988290  0.2592558        3.5880  0.5861579     0.5862    1  \n",
       "988291  0.5485390        2.9502  0.4472150     0.4472    1  \n",
       "988292  0.5848270        2.8744  0.4667456     0.4667    1  \n",
       "\n",
       "[988293 rows x 11 columns]"
      ]
     },
     "execution_count": 5,
     "metadata": {},
     "output_type": "execute_result"
    }
   ],
   "source": [
    "df = pd.read_csv(\"data/output_sets/Glucocorticoid_receptor/RL_dis_final_1.csv\")\n",
    "df"
   ]
  },
  {
   "cell_type": "code",
   "execution_count": 6,
   "id": "ebfb92f9-e330-4fb1-be61-ebb5ab0f0ffa",
   "metadata": {},
   "outputs": [
    {
     "name": "stdout",
     "output_type": "stream",
     "text": [
      "656643\n"
     ]
    }
   ],
   "source": [
    "delete_row = df.index[df.SMILES=='SMILES'].tolist()\n",
    "df = df.drop(delete_row)\n",
    "df = df.reset_index(drop=True)\n",
    "#pri odstraneni duplikaci spis odstranit neaktivni podle hodnot SAcore a QSAR\n",
    "morphs = df.SMILES.drop_duplicates(keep='last')\n",
    "print(len(morphs))\n",
    "\n",
    "morphs.to_csv(f\"data/output_sets/Glucocorticoid_receptor/cOS_REINVENTnew_dis_0_one_column.csv\", header=False, index=False)\n"
   ]
  },
  {
   "cell_type": "code",
   "execution_count": null,
   "id": "a9014d58-eb22-449d-828d-c72e911625a9",
   "metadata": {},
   "outputs": [],
   "source": []
  }
 ],
 "metadata": {
  "kernelspec": {
   "display_name": "Python 3 (ipykernel)",
   "language": "python",
   "name": "python3"
  },
  "language_info": {
   "codemirror_mode": {
    "name": "ipython",
    "version": 3
   },
   "file_extension": ".py",
   "mimetype": "text/x-python",
   "name": "python",
   "nbconvert_exporter": "python",
   "pygments_lexer": "ipython3",
   "version": "3.10.6"
  }
 },
 "nbformat": 4,
 "nbformat_minor": 5
}

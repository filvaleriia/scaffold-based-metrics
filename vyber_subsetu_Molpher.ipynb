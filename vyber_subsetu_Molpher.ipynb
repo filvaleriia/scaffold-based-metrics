{
 "cells": [
  {
   "cell_type": "code",
   "execution_count": 2,
   "id": "39e39da6-ed07-4e97-86e0-cff88043bc3a",
   "metadata": {},
   "outputs": [],
   "source": [
    "import pandas as pd\n",
    "from itertools import combinations"
   ]
  },
  {
   "cell_type": "code",
   "execution_count": null,
   "id": "741eb581-d1ab-4651-bc06-24c42aa4fb75",
   "metadata": {},
   "outputs": [],
   "source": []
  },
  {
   "cell_type": "code",
   "execution_count": 25,
   "id": "8cc9208d-7c5d-443b-85f5-d49b502f6957",
   "metadata": {
    "tags": []
   },
   "outputs": [
    {
     "name": "stdout",
     "output_type": "stream",
     "text": [
      "Vybraná kombinace (9 řádků):\n",
      "Součet count: 1096\n",
      "\n",
      "Filtrujeme původní DataFrame na základě id_input a id_output:\n",
      "1096\n",
      "Vybraná kombinace (6 řádků):\n",
      "Součet count: 1052\n",
      "\n",
      "Filtrujeme původní DataFrame na základě id_input a id_output:\n",
      "1052\n",
      "Vybraná kombinace (10 řádků):\n",
      "Součet count: 1050\n",
      "\n",
      "Filtrujeme původní DataFrame na základě id_input a id_output:\n",
      "1050\n",
      "Vybraná kombinace (10 řádků):\n",
      "Součet count: 1221\n",
      "\n",
      "Filtrujeme původní DataFrame na základě id_input a id_output:\n",
      "1221\n",
      "Vybraná kombinace (9 řádků):\n",
      "Součet count: 1026\n",
      "\n",
      "Filtrujeme původní DataFrame na základě id_input a id_output:\n",
      "1026\n",
      "Vybraná kombinace (8 řádků):\n",
      "Součet count: 1086\n",
      "\n",
      "Filtrujeme původní DataFrame na základě id_input a id_output:\n",
      "1086\n",
      "Vybraná kombinace (13 řádků):\n",
      "Součet count: 1238\n",
      "\n",
      "Filtrujeme původní DataFrame na základě id_input a id_output:\n",
      "1238\n",
      "Vybraná kombinace (9 řádků):\n",
      "Součet count: 1038\n",
      "\n",
      "Filtrujeme původní DataFrame na základě id_input a id_output:\n",
      "1038\n",
      "Vybraná kombinace (8 řádků):\n",
      "Součet count: 1089\n",
      "\n",
      "Filtrujeme původní DataFrame na základě id_input a id_output:\n",
      "1089\n",
      "Vybraná kombinace (10 řádků):\n",
      "Součet count: 1258\n",
      "\n",
      "Filtrujeme původní DataFrame na základě id_input a id_output:\n",
      "1258\n"
     ]
    }
   ],
   "source": [
    "for type_split in ['dis', 'sim']:\n",
    "    for number in [0,1,2,3,4]:\n",
    "        df = pd.read_csv(f\"data/output_sets/Glucocorticoid_receptor/cOS_Molpher_{type_split}_{number}_all_columns.csv\", header = None)\n",
    "        df.columns = ['id_input', 'id_output', 'smiles_input', 'smiles_output', 'molpher','5','count','7','8','9']\n",
    "    \n",
    "    \n",
    "        grouped = df.groupby(['id_input', 'id_output']).agg({\n",
    "            'count': 'first',    # Hodnota 'count' zůstává stejná\n",
    "            'molpher': 'first'   # Vezmeme první hodnotu z 'molpher'\n",
    "        }).reset_index()\n",
    "        \n",
    "\n",
    "        # Cílový součet\n",
    "        target = 1000 \n",
    "        \n",
    "        # Funkce pro náhodný výběr řádků a jejich součet\n",
    "        def random_selection(df, target):\n",
    "            selected_rows = []\n",
    "            selected_rows_idx = []\n",
    "            current_sum = 0\n",
    "            \n",
    "            # Provedeme náhodný výběr, dokud součet count není 1000\n",
    "            while current_sum < target:\n",
    "                random_row = grouped.sample(n=1)  # Vybereme náhodný řádek\n",
    "\n",
    "                if random_row.index.item() not in selected_rows_idx:\n",
    "                    selected_rows_idx.append(random_row.index.item())\n",
    "                    selected_rows.append(random_row)\n",
    "                    current_sum += random_row['count'].values[0]  # Přičteme hodnotu count\n",
    "            # Spojíme všechny vybrané řádky do DataFrame\n",
    "            result_df = pd.concat(selected_rows, ignore_index=True)\n",
    "            return result_df, current_sum\n",
    "    \n",
    "        # Použití funkce\n",
    "        result, total_sum = random_selection(grouped, target)\n",
    "    \n",
    "        print(f\"Vybraná kombinace ({len(result)} řádků):\")\n",
    "\n",
    "        print(f\"Součet count: {total_sum}\")\n",
    "        \n",
    "        # Získání id_input a id_output z výsledného DataFrame\n",
    "        ids_to_filter = result[['id_input', 'id_output']]\n",
    "\n",
    "        # Filtrace původního DataFrame na základě id_input a id_output\n",
    "        filtered_df = df[df[['id_input', 'id_output']].apply(tuple, axis=1).isin(ids_to_filter.apply(tuple, axis=1))]\n",
    "    \n",
    "        print(\"\\nFiltrujeme původní DataFrame na základě id_input a id_output:\")\n",
    "        \n",
    "        filtered_df = filtered_df.reset_index(drop=True)\n",
    "\n",
    "        morphs = filtered_df['molpher']\n",
    "        print(len(morphs))\n",
    "        morphs.to_csv(f\"data/output_sets/Glucocorticoid_receptor/cOS_Molpher_1k_{type_split}_{number}_one_column.csv\", index = False, index_label = False, header = False)"
   ]
  },
  {
   "cell_type": "code",
   "execution_count": 15,
   "id": "1c6c1ad9-c872-4386-bf3a-c694c8e4f994",
   "metadata": {},
   "outputs": [],
   "source": [
    "grouped = filtered_df.groupby(['id_input', 'id_output']).agg({\n",
    "            'count': 'first',    # Hodnota 'count' zůstává stejná\n",
    "            'molpher': 'first'   # Vezmeme první hodnotu z 'molpher'\n",
    "        }).reset_index()"
   ]
  },
  {
   "cell_type": "code",
   "execution_count": 16,
   "id": "109e9cc5-d4e3-4221-95ae-c07b12a06bce",
   "metadata": {},
   "outputs": [
    {
     "data": {
      "text/plain": [
       "386170"
      ]
     },
     "execution_count": 16,
     "metadata": {},
     "output_type": "execute_result"
    }
   ],
   "source": [
    "grouped['count'].sum()"
   ]
  },
  {
   "cell_type": "code",
   "execution_count": null,
   "id": "1057900b-b294-4bb0-8871-15e50ab445dc",
   "metadata": {},
   "outputs": [],
   "source": []
  }
 ],
 "metadata": {
  "kernelspec": {
   "display_name": "Python 3 (ipykernel)",
   "language": "python",
   "name": "python3"
  },
  "language_info": {
   "codemirror_mode": {
    "name": "ipython",
    "version": 3
   },
   "file_extension": ".py",
   "mimetype": "text/x-python",
   "name": "python",
   "nbconvert_exporter": "python",
   "pygments_lexer": "ipython3",
   "version": "3.10.6"
  }
 },
 "nbformat": 4,
 "nbformat_minor": 5
}

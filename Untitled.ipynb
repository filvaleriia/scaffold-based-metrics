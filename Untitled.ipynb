{
 "cells": [
  {
   "cell_type": "code",
   "execution_count": 23,
   "id": "42b11adf-0e5a-422a-af9c-36a06c2b5fa2",
   "metadata": {},
   "outputs": [],
   "source": [
    "from rdkit import Chem\n",
    "from rdkit.Chem import ChemicalFeatures\n",
    "from rdkit.Chem.Pharm2D.SigFactory import SigFactory\n",
    "from rdkit.Chem.Pharm2D import Generate\n",
    "from rdkit import DataStructs\n",
    "import pandas as pd\n",
    "import argparse\n",
    "from pathlib import Path\n",
    "import numpy as np"
   ]
  },
  {
   "cell_type": "code",
   "execution_count": 92,
   "id": "e9b2f7be-fb9e-40c0-bd44-92a254266284",
   "metadata": {},
   "outputs": [],
   "source": [
    "def prepradet_for_2Df_rdkit():\n",
    "\n",
    "    fdefName = f'BaseFeatures.fdef'\n",
    "    featFactory = ChemicalFeatures.BuildFeatureFactory(fdefName)\n",
    "    \n",
    "    sigFactory = SigFactory(featFactory,minPointCount=2,maxPointCount=3)\n",
    "    #sigFactory.SetBins([(0,2),(2,4),(4,6),(6,8)])\n",
    "    sigFactory.SetBins([(0,1),(1,2),(2,4),(3,4),(4,5),(5,6),(6,7),(7,8)])\n",
    "    sigFactory.Init()\n",
    "    return sigFactory\n"
   ]
  },
  {
   "cell_type": "code",
   "execution_count": 93,
   "id": "dcd493ab-723f-4497-af65-2429d54ca199",
   "metadata": {},
   "outputs": [],
   "source": [
    "def convert_to_phfp_rdkit(mol):\n",
    "    #print(\"MOL: \", mol)\n",
    "\n",
    "    sigFactory = prepradet_for_2Df_rdkit()\n",
    "    fp = Generate.Gen2DFingerprint(Chem.MolFromSmiles(mol), sigFactory)\n",
    "    return np.array(fp)\n"
   ]
  },
  {
   "cell_type": "code",
   "execution_count": 94,
   "id": "24c4df54-b4f5-48e1-afa4-06cfe332174e",
   "metadata": {},
   "outputs": [
    {
     "data": {
      "text/html": [
       "<div>\n",
       "<style scoped>\n",
       "    .dataframe tbody tr th:only-of-type {\n",
       "        vertical-align: middle;\n",
       "    }\n",
       "\n",
       "    .dataframe tbody tr th {\n",
       "        vertical-align: top;\n",
       "    }\n",
       "\n",
       "    .dataframe thead th {\n",
       "        text-align: right;\n",
       "    }\n",
       "</style>\n",
       "<table border=\"1\" class=\"dataframe\">\n",
       "  <thead>\n",
       "    <tr style=\"text-align: right;\">\n",
       "      <th></th>\n",
       "      <th>0</th>\n",
       "    </tr>\n",
       "  </thead>\n",
       "  <tbody>\n",
       "    <tr>\n",
       "      <th>4</th>\n",
       "      <td>CC1=CC(C)=C(C(OC2=CC=C3C(=C2)C=NN3C2=CC=CC=C2)...</td>\n",
       "    </tr>\n",
       "    <tr>\n",
       "      <th>5</th>\n",
       "      <td>CC1=CC(C)=C(C(OC2=CC=C3C(=C2)C=NN3C2=CC=CC=C2)...</td>\n",
       "    </tr>\n",
       "    <tr>\n",
       "      <th>6</th>\n",
       "      <td>CC1=C(C)C(C)=C(C(OC2=CC=C3C(=C2)C=NN3C2=CC=CC=...</td>\n",
       "    </tr>\n",
       "    <tr>\n",
       "      <th>7</th>\n",
       "      <td>CC1=C(C)C=C(C(OC2=CC=C3C(=C2)C=NN3C2=CC=CC=C2)...</td>\n",
       "    </tr>\n",
       "    <tr>\n",
       "      <th>8</th>\n",
       "      <td>CC1=C(C)C=C(C(OC2=CC=C3C(=C2)C=NN3C2=CC=CC=C2)...</td>\n",
       "    </tr>\n",
       "    <tr>\n",
       "      <th>9</th>\n",
       "      <td>CC1=CC=C(C(OC2=CC=C3C(=C2)C=NN3C2=CC=CC=C2)C(C...</td>\n",
       "    </tr>\n",
       "  </tbody>\n",
       "</table>\n",
       "</div>"
      ],
      "text/plain": [
       "                                                   0\n",
       "4  CC1=CC(C)=C(C(OC2=CC=C3C(=C2)C=NN3C2=CC=CC=C2)...\n",
       "5  CC1=CC(C)=C(C(OC2=CC=C3C(=C2)C=NN3C2=CC=CC=C2)...\n",
       "6  CC1=C(C)C(C)=C(C(OC2=CC=C3C(=C2)C=NN3C2=CC=CC=...\n",
       "7  CC1=C(C)C=C(C(OC2=CC=C3C(=C2)C=NN3C2=CC=CC=C2)...\n",
       "8  CC1=C(C)C=C(C(OC2=CC=C3C(=C2)C=NN3C2=CC=CC=C2)...\n",
       "9  CC1=CC=C(C(OC2=CC=C3C(=C2)C=NN3C2=CC=CC=C2)C(C..."
      ]
     },
     "execution_count": 94,
     "metadata": {},
     "output_type": "execute_result"
    }
   ],
   "source": [
    "df = pd.read_csv('data/output_sets/Glucocorticoid_receptor/Molpher_10k/cOS_Molpher_10k_dis_0_one_column.csv', header = None)[4:10]\n",
    "df"
   ]
  },
  {
   "cell_type": "code",
   "execution_count": 95,
   "id": "69bca227-052e-4950-8e34-7a5077e6da83",
   "metadata": {},
   "outputs": [
    {
     "name": "stdout",
     "output_type": "stream",
     "text": [
      "50928\n",
      "50928\n",
      "50928\n",
      "50928\n",
      "50928\n",
      "50928\n"
     ]
    }
   ],
   "source": [
    "for x in df[0].tolist():\n",
    "    a = convert_to_phfp_rdkit(x)\n",
    "    print(len(a))"
   ]
  },
  {
   "cell_type": "code",
   "execution_count": null,
   "id": "ecee0593-9950-42eb-a8b3-99ef4c4d53fb",
   "metadata": {},
   "outputs": [],
   "source": []
  }
 ],
 "metadata": {
  "kernelspec": {
   "display_name": "Python 3 (ipykernel)",
   "language": "python",
   "name": "python3"
  },
  "language_info": {
   "codemirror_mode": {
    "name": "ipython",
    "version": 3
   },
   "file_extension": ".py",
   "mimetype": "text/x-python",
   "name": "python",
   "nbconvert_exporter": "python",
   "pygments_lexer": "ipython3",
   "version": "3.9.13"
  }
 },
 "nbformat": 4,
 "nbformat_minor": 5
}

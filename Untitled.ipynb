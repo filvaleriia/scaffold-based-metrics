{
 "cells": [
  {
   "cell_type": "code",
   "execution_count": null,
   "id": "1848c867-da38-4183-9196-ce5e15d7ea0c",
   "metadata": {},
   "outputs": [],
   "source": [
    "output = [i for i in set(list(nuclear_glucocor.canonical_smiles)) if i in set(list(nuclear_non.smiles))]\n",
    "len(output)\n",
    "\n",
    "import matplotlib.pyplot as plt\n",
    "from matplotlib_venn import venn2, venn2_circles, venn2_unweighted\n",
    "from matplotlib_venn import venn3, venn3_circles\n",
    "\n",
    "venn2(subsets=(len(set(list(nuclear_non.smiles))), len(set(list(nuclear_glucocor.canonical_smiles))), len(output)), set_labels=('inactive', 'active'))\n",
    "plt.show()"
   ]
  },
  {
   "cell_type": "code",
   "execution_count": null,
   "id": "99360796-5d65-4563-99f7-0a4624be51db",
   "metadata": {},
   "outputs": [],
   "source": [
    "master_set = pd.concat([df_old_active, df_old_nonactive], ignore_index=True)\n",
    "master_set\n",
    "\n",
    "concatenated_df = master_set.groupby('canonical_smiles').agg({\n",
    "     'source': lambda x: list(set(x)),\n",
    "     'pchembl_value': lambda x: list(set(x)) \n",
    "}).reset_index()\n",
    "\n",
    "concatenated_df\n",
    "\n",
    "def has_multiple_unique_values(values_list):\n",
    "    return len(set(values_list)) > 1\n",
    "\n",
    "multi_unique = concatenated_df[concatenated_df['source'].apply(has_multiple_unique_values)]\n",
    "display(multi_unique)\n",
    "\n",
    "overrepresented = 0\n",
    "minimum = 7\n",
    "\n",
    "arr = []\n",
    "for i, row in multi_unique.iterrows():\n",
    "    values_list = row['pchembl_value']\n",
    "    average = sum(values_list) / len(values_list)\n",
    "    if average < 7.0:\n",
    "        overrepresented += 1\n",
    "        #print(f'{average}: {row[\"canonical_smiles\"]}')\n",
    "        arr.append([average,row[\"canonical_smiles\"]])\n",
    "    if average < minimum:\n",
    "        minimum = average\n",
    "arr_df = pd.DataFrame(data = arr, columns = ['pchembl_value', 'canonical_smiles'])\n",
    "print(overrepresented)\n",
    "print(minimum)"
   ]
  },
  {
   "cell_type": "code",
   "execution_count": null,
   "id": "b794551a-77d4-4364-b372-c2d3a1af4fdd",
   "metadata": {},
   "outputs": [],
   "source": []
  },
  {
   "cell_type": "code",
   "execution_count": 1,
   "id": "f680f300-5c2f-4091-97e0-efb64818a251",
   "metadata": {},
   "outputs": [],
   "source": [
    "import numpy as np"
   ]
  },
  {
   "cell_type": "code",
   "execution_count": 2,
   "id": "b03663d0-10b3-45a7-8ae3-300921bfe173",
   "metadata": {},
   "outputs": [
    {
     "data": {
      "text/plain": [
       "(3,)"
      ]
     },
     "execution_count": 2,
     "metadata": {},
     "output_type": "execute_result"
    }
   ],
   "source": [
    "a = np.array([1,2,3])\n",
    "a.shape"
   ]
  },
  {
   "cell_type": "code",
   "execution_count": 6,
   "id": "556e3ef7-661a-4284-91f5-5d604c9e32a5",
   "metadata": {},
   "outputs": [
    {
     "data": {
      "text/plain": [
       "array([1, 2, 3])"
      ]
     },
     "execution_count": 6,
     "metadata": {},
     "output_type": "execute_result"
    }
   ],
   "source": [
    "b = np.array([[1],[2],[3]])\n",
    "b.reshape(3,)"
   ]
  },
  {
   "cell_type": "code",
   "execution_count": 5,
   "id": "2ddf5fc7-afbc-4471-a7b5-495145fc6d79",
   "metadata": {},
   "outputs": [
    {
     "name": "stdout",
     "output_type": "stream",
     "text": [
      "1\n"
     ]
    }
   ],
   "source": [
    "arr = np.array([1,2,3])\n",
    "print(arr.ndim)"
   ]
  },
  {
   "cell_type": "code",
   "execution_count": 7,
   "id": "c10e2605-596f-42af-9485-7e5863d14c9d",
   "metadata": {},
   "outputs": [],
   "source": [
    "import pandas as pd"
   ]
  },
  {
   "cell_type": "code",
   "execution_count": 16,
   "id": "a0ba82c7-d144-4127-ba20-e2db4c7aa0d7",
   "metadata": {},
   "outputs": [
    {
     "data": {
      "text/html": [
       "<div>\n",
       "<style scoped>\n",
       "    .dataframe tbody tr th:only-of-type {\n",
       "        vertical-align: middle;\n",
       "    }\n",
       "\n",
       "    .dataframe tbody tr th {\n",
       "        vertical-align: top;\n",
       "    }\n",
       "\n",
       "    .dataframe thead th {\n",
       "        text-align: right;\n",
       "    }\n",
       "</style>\n",
       "<table border=\"1\" class=\"dataframe\">\n",
       "  <thead>\n",
       "    <tr style=\"text-align: right;\">\n",
       "      <th></th>\n",
       "      <th>virtual</th>\n",
       "    </tr>\n",
       "  </thead>\n",
       "  <tbody>\n",
       "    <tr>\n",
       "      <th>0</th>\n",
       "      <td>CC(CCC(=O)Oc1ccc2c(c1)OC(c1cccc(NC(=O)c3ccc(C#...</td>\n",
       "    </tr>\n",
       "    <tr>\n",
       "      <th>1</th>\n",
       "      <td>COC1(C(C=O)C2=CC(C)(C)Nc3ccc4c(c32)COc2ccc(O)c...</td>\n",
       "    </tr>\n",
       "    <tr>\n",
       "      <th>2</th>\n",
       "      <td>CCC(O)Cc1c(N)cnc(CC(=O)Nc2ccc(C(C)c3ccc4c(CC(C...</td>\n",
       "    </tr>\n",
       "    <tr>\n",
       "      <th>3</th>\n",
       "      <td>C=CCOc1cccc2c1C1CCC3(C)C(CCC3(O)C#CC(Cc3ccccn3...</td>\n",
       "    </tr>\n",
       "    <tr>\n",
       "      <th>4</th>\n",
       "      <td>CC(c1cccnc1)N1NN=C2C=CC(c3cc(NC(=O)c4cnn(CN5CC...</td>\n",
       "    </tr>\n",
       "    <tr>\n",
       "      <th>...</th>\n",
       "      <td>...</td>\n",
       "    </tr>\n",
       "    <tr>\n",
       "      <th>999995</th>\n",
       "      <td>CC1(C)C=C(C(c2ccccc2)c2cccc(Cl)c2)c2c(ccc3c2CO...</td>\n",
       "    </tr>\n",
       "    <tr>\n",
       "      <th>999996</th>\n",
       "      <td>O=C(NC(=Cc1nccc2c1CCCC2)C1CCNCC1)C(F)(F)F</td>\n",
       "    </tr>\n",
       "    <tr>\n",
       "      <th>999997</th>\n",
       "      <td>COC(=O)C12CCC3(C)C(CCC3(O)C#CC(N)(Cc3ccccn3)C(...</td>\n",
       "    </tr>\n",
       "    <tr>\n",
       "      <th>999998</th>\n",
       "      <td>CC1Oc2ccc(O)cc2-c2ccc3c(c21)C(CCC(=NO)c1ccsc1)...</td>\n",
       "    </tr>\n",
       "    <tr>\n",
       "      <th>999999</th>\n",
       "      <td>CC(CN1CCN(c2ccccc2)CC1)N(C=O)CCO</td>\n",
       "    </tr>\n",
       "  </tbody>\n",
       "</table>\n",
       "<p>1000000 rows × 1 columns</p>\n",
       "</div>"
      ],
      "text/plain": [
       "                                                  virtual\n",
       "0       CC(CCC(=O)Oc1ccc2c(c1)OC(c1cccc(NC(=O)c3ccc(C#...\n",
       "1       COC1(C(C=O)C2=CC(C)(C)Nc3ccc4c(c32)COc2ccc(O)c...\n",
       "2       CCC(O)Cc1c(N)cnc(CC(=O)Nc2ccc(C(C)c3ccc4c(CC(C...\n",
       "3       C=CCOc1cccc2c1C1CCC3(C)C(CCC3(O)C#CC(Cc3ccccn3...\n",
       "4       CC(c1cccnc1)N1NN=C2C=CC(c3cc(NC(=O)c4cnn(CN5CC...\n",
       "...                                                   ...\n",
       "999995  CC1(C)C=C(C(c2ccccc2)c2cccc(Cl)c2)c2c(ccc3c2CO...\n",
       "999996          O=C(NC(=Cc1nccc2c1CCCC2)C1CCNCC1)C(F)(F)F\n",
       "999997  COC(=O)C12CCC3(C)C(CCC3(O)C#CC(N)(Cc3ccccn3)C(...\n",
       "999998  CC1Oc2ccc(O)cc2-c2ccc3c(c21)C(CCC(=NO)c1ccsc1)...\n",
       "999999                   CC(CN1CCN(c2ccccc2)CC1)N(C=O)CCO\n",
       "\n",
       "[1000000 rows x 1 columns]"
      ]
     },
     "execution_count": 16,
     "metadata": {},
     "output_type": "execute_result"
    }
   ],
   "source": [
    "df = pd.read_csv(\"data/output_sets/Glucocorticoid_receptor/cOS_DrugEx_dis_3_one_column.csv\", header = None)\n",
    "df.columns = ['virtual']\n",
    "df"
   ]
  },
  {
   "cell_type": "code",
   "execution_count": 17,
   "id": "81afd080-0194-46e0-b9c1-d6b8bc9d7244",
   "metadata": {},
   "outputs": [
    {
     "data": {
      "text/plain": [
       "979340"
      ]
     },
     "execution_count": 17,
     "metadata": {},
     "output_type": "execute_result"
    }
   ],
   "source": [
    "len(set(df.virtual))"
   ]
  },
  {
   "cell_type": "code",
   "execution_count": null,
   "id": "4fde0be5-353d-47b5-9dea-b5ce460a8385",
   "metadata": {},
   "outputs": [],
   "source": []
  },
  {
   "cell_type": "code",
   "execution_count": null,
   "id": "517d7dd8-e254-440c-9b9d-0fa4144fffe6",
   "metadata": {},
   "outputs": [],
   "source": []
  },
  {
   "cell_type": "code",
   "execution_count": 14,
   "id": "b15bcae6-7dc8-4b10-bc60-2f9bb97dcc2d",
   "metadata": {},
   "outputs": [],
   "source": [
    "import pandas as pd\n",
    "import numpy as np"
   ]
  },
  {
   "cell_type": "code",
   "execution_count": 2,
   "id": "5aed7589-6c20-4794-821c-b2393370faa5",
   "metadata": {},
   "outputs": [
    {
     "data": {
      "text/html": [
       "<div>\n",
       "<style scoped>\n",
       "    .dataframe tbody tr th:only-of-type {\n",
       "        vertical-align: middle;\n",
       "    }\n",
       "\n",
       "    .dataframe tbody tr th {\n",
       "        vertical-align: top;\n",
       "    }\n",
       "\n",
       "    .dataframe thead th {\n",
       "        text-align: right;\n",
       "    }\n",
       "</style>\n",
       "<table border=\"1\" class=\"dataframe\">\n",
       "  <thead>\n",
       "    <tr style=\"text-align: right;\">\n",
       "      <th></th>\n",
       "      <th>Unnamed: 0</th>\n",
       "      <th>0</th>\n",
       "    </tr>\n",
       "  </thead>\n",
       "  <tbody>\n",
       "    <tr>\n",
       "      <th>0</th>\n",
       "      <td>0</td>\n",
       "      <td>C1CCC(CCCCCC2CCC3C(CCC3C3CCCCC3)C2)CC1</td>\n",
       "    </tr>\n",
       "    <tr>\n",
       "      <th>1</th>\n",
       "      <td>1</td>\n",
       "      <td>C1CCC(CCCCCC2CCC3C(CCC3C3CCCCC3)C2)CC1</td>\n",
       "    </tr>\n",
       "    <tr>\n",
       "      <th>2</th>\n",
       "      <td>2</td>\n",
       "      <td>C1CCC(CCCCCC2CCCC3C(C4CCCCC4)CCC23)CC1</td>\n",
       "    </tr>\n",
       "    <tr>\n",
       "      <th>3</th>\n",
       "      <td>3</td>\n",
       "      <td>C1CCC(CCCCCC2CCCC3C(C4CCCCC4)CCC23)CC1</td>\n",
       "    </tr>\n",
       "    <tr>\n",
       "      <th>4</th>\n",
       "      <td>4</td>\n",
       "      <td>C1CCC(CCCCCC2CCCC(CC3CCCCC3)C2)CC1</td>\n",
       "    </tr>\n",
       "    <tr>\n",
       "      <th>...</th>\n",
       "      <td>...</td>\n",
       "      <td>...</td>\n",
       "    </tr>\n",
       "    <tr>\n",
       "      <th>916546</th>\n",
       "      <td>916546</td>\n",
       "      <td>C(CCC1CCCCC2CCCCC12)CC1CCC2CCCCC2C1</td>\n",
       "    </tr>\n",
       "    <tr>\n",
       "      <th>916547</th>\n",
       "      <td>916547</td>\n",
       "      <td>C(CCC1CCCCC2CCCCC12)CC1CCC2CCCCC2C1</td>\n",
       "    </tr>\n",
       "    <tr>\n",
       "      <th>916548</th>\n",
       "      <td>916548</td>\n",
       "      <td>C(CCC1CCCCC2CCCCC12)CC1CCC2CCCCC2C1</td>\n",
       "    </tr>\n",
       "    <tr>\n",
       "      <th>916549</th>\n",
       "      <td>916549</td>\n",
       "      <td>C(CCC1CCCCC2CCCCC12)CC1CCC2CCCCC2C1</td>\n",
       "    </tr>\n",
       "    <tr>\n",
       "      <th>916550</th>\n",
       "      <td>916550</td>\n",
       "      <td>C(CCC1CCCCC2CCCCC12)CC1CCC2CCCCC2C1</td>\n",
       "    </tr>\n",
       "  </tbody>\n",
       "</table>\n",
       "<p>916551 rows × 2 columns</p>\n",
       "</div>"
      ],
      "text/plain": [
       "        Unnamed: 0                                       0\n",
       "0                0  C1CCC(CCCCCC2CCC3C(CCC3C3CCCCC3)C2)CC1\n",
       "1                1  C1CCC(CCCCCC2CCC3C(CCC3C3CCCCC3)C2)CC1\n",
       "2                2  C1CCC(CCCCCC2CCCC3C(C4CCCCC4)CCC23)CC1\n",
       "3                3  C1CCC(CCCCCC2CCCC3C(C4CCCCC4)CCC23)CC1\n",
       "4                4      C1CCC(CCCCCC2CCCC(CC3CCCCC3)C2)CC1\n",
       "...            ...                                     ...\n",
       "916546      916546     C(CCC1CCCCC2CCCCC12)CC1CCC2CCCCC2C1\n",
       "916547      916547     C(CCC1CCCCC2CCCCC12)CC1CCC2CCCCC2C1\n",
       "916548      916548     C(CCC1CCCCC2CCCCC12)CC1CCC2CCCCC2C1\n",
       "916549      916549     C(CCC1CCCCC2CCCCC12)CC1CCC2CCCCC2C1\n",
       "916550      916550     C(CCC1CCCCC2CCCCC12)CC1CCC2CCCCC2C1\n",
       "\n",
       "[916551 rows x 2 columns]"
      ]
     },
     "execution_count": 2,
     "metadata": {},
     "output_type": "execute_result"
    }
   ],
   "source": [
    "df = pd.read_csv(\"../../phd_projects/new_output.csv\")\n",
    "df"
   ]
  },
  {
   "cell_type": "code",
   "execution_count": 5,
   "id": "f0a449f8-9dbe-403a-a326-38df1567618a",
   "metadata": {},
   "outputs": [
    {
     "data": {
      "text/html": [
       "<div>\n",
       "<style scoped>\n",
       "    .dataframe tbody tr th:only-of-type {\n",
       "        vertical-align: middle;\n",
       "    }\n",
       "\n",
       "    .dataframe tbody tr th {\n",
       "        vertical-align: top;\n",
       "    }\n",
       "\n",
       "    .dataframe thead th {\n",
       "        text-align: right;\n",
       "    }\n",
       "</style>\n",
       "<table border=\"1\" class=\"dataframe\">\n",
       "  <thead>\n",
       "    <tr style=\"text-align: right;\">\n",
       "      <th></th>\n",
       "      <th>index</th>\n",
       "      <th>csk</th>\n",
       "    </tr>\n",
       "  </thead>\n",
       "  <tbody>\n",
       "    <tr>\n",
       "      <th>0</th>\n",
       "      <td>0</td>\n",
       "      <td>C1CCC(CCCCCC2CCC3C(CCC3C3CCCCC3)C2)CC1</td>\n",
       "    </tr>\n",
       "    <tr>\n",
       "      <th>1</th>\n",
       "      <td>1</td>\n",
       "      <td>C1CCC(CCCCCC2CCC3C(CCC3C3CCCCC3)C2)CC1</td>\n",
       "    </tr>\n",
       "    <tr>\n",
       "      <th>2</th>\n",
       "      <td>2</td>\n",
       "      <td>C1CCC(CCCCCC2CCCC3C(C4CCCCC4)CCC23)CC1</td>\n",
       "    </tr>\n",
       "    <tr>\n",
       "      <th>3</th>\n",
       "      <td>3</td>\n",
       "      <td>C1CCC(CCCCCC2CCCC3C(C4CCCCC4)CCC23)CC1</td>\n",
       "    </tr>\n",
       "    <tr>\n",
       "      <th>4</th>\n",
       "      <td>4</td>\n",
       "      <td>C1CCC(CCCCCC2CCCC(CC3CCCCC3)C2)CC1</td>\n",
       "    </tr>\n",
       "    <tr>\n",
       "      <th>...</th>\n",
       "      <td>...</td>\n",
       "      <td>...</td>\n",
       "    </tr>\n",
       "    <tr>\n",
       "      <th>916546</th>\n",
       "      <td>916546</td>\n",
       "      <td>C(CCC1CCCCC2CCCCC12)CC1CCC2CCCCC2C1</td>\n",
       "    </tr>\n",
       "    <tr>\n",
       "      <th>916547</th>\n",
       "      <td>916547</td>\n",
       "      <td>C(CCC1CCCCC2CCCCC12)CC1CCC2CCCCC2C1</td>\n",
       "    </tr>\n",
       "    <tr>\n",
       "      <th>916548</th>\n",
       "      <td>916548</td>\n",
       "      <td>C(CCC1CCCCC2CCCCC12)CC1CCC2CCCCC2C1</td>\n",
       "    </tr>\n",
       "    <tr>\n",
       "      <th>916549</th>\n",
       "      <td>916549</td>\n",
       "      <td>C(CCC1CCCCC2CCCCC12)CC1CCC2CCCCC2C1</td>\n",
       "    </tr>\n",
       "    <tr>\n",
       "      <th>916550</th>\n",
       "      <td>916550</td>\n",
       "      <td>C(CCC1CCCCC2CCCCC12)CC1CCC2CCCCC2C1</td>\n",
       "    </tr>\n",
       "  </tbody>\n",
       "</table>\n",
       "<p>916551 rows × 2 columns</p>\n",
       "</div>"
      ],
      "text/plain": [
       "         index                                     csk\n",
       "0            0  C1CCC(CCCCCC2CCC3C(CCC3C3CCCCC3)C2)CC1\n",
       "1            1  C1CCC(CCCCCC2CCC3C(CCC3C3CCCCC3)C2)CC1\n",
       "2            2  C1CCC(CCCCCC2CCCC3C(C4CCCCC4)CCC23)CC1\n",
       "3            3  C1CCC(CCCCCC2CCCC3C(C4CCCCC4)CCC23)CC1\n",
       "4            4      C1CCC(CCCCCC2CCCC(CC3CCCCC3)C2)CC1\n",
       "...        ...                                     ...\n",
       "916546  916546     C(CCC1CCCCC2CCCCC12)CC1CCC2CCCCC2C1\n",
       "916547  916547     C(CCC1CCCCC2CCCCC12)CC1CCC2CCCCC2C1\n",
       "916548  916548     C(CCC1CCCCC2CCCCC12)CC1CCC2CCCCC2C1\n",
       "916549  916549     C(CCC1CCCCC2CCCCC12)CC1CCC2CCCCC2C1\n",
       "916550  916550     C(CCC1CCCCC2CCCCC12)CC1CCC2CCCCC2C1\n",
       "\n",
       "[916551 rows x 2 columns]"
      ]
     },
     "execution_count": 5,
     "metadata": {},
     "output_type": "execute_result"
    }
   ],
   "source": [
    "df.columns = ['index','csk']\n",
    "df"
   ]
  },
  {
   "cell_type": "code",
   "execution_count": 10,
   "id": "359237e8-f0d8-497d-8f56-29380586f32c",
   "metadata": {},
   "outputs": [
    {
     "data": {
      "text/html": [
       "<div>\n",
       "<style scoped>\n",
       "    .dataframe tbody tr th:only-of-type {\n",
       "        vertical-align: middle;\n",
       "    }\n",
       "\n",
       "    .dataframe tbody tr th {\n",
       "        vertical-align: top;\n",
       "    }\n",
       "\n",
       "    .dataframe thead th {\n",
       "        text-align: right;\n",
       "    }\n",
       "</style>\n",
       "<table border=\"1\" class=\"dataframe\">\n",
       "  <thead>\n",
       "    <tr style=\"text-align: right;\">\n",
       "      <th></th>\n",
       "      <th>index</th>\n",
       "      <th>csk</th>\n",
       "    </tr>\n",
       "  </thead>\n",
       "  <tbody>\n",
       "    <tr>\n",
       "      <th>759700</th>\n",
       "      <td>759700</td>\n",
       "      <td>C1CCC2CC(C3CCC(CC4CC4)CC3)CC2C1</td>\n",
       "    </tr>\n",
       "    <tr>\n",
       "      <th>759701</th>\n",
       "      <td>759701</td>\n",
       "      <td>C1CC(CCC2CC2)CC(C2CC3CCCCC3C2)C1</td>\n",
       "    </tr>\n",
       "    <tr>\n",
       "      <th>759702</th>\n",
       "      <td>759702</td>\n",
       "      <td>NaN</td>\n",
       "    </tr>\n",
       "    <tr>\n",
       "      <th>759703</th>\n",
       "      <td>759703</td>\n",
       "      <td>C1CC(CCC2CC2)CC(C2CC3CCCCC3C2)C1</td>\n",
       "    </tr>\n",
       "    <tr>\n",
       "      <th>759704</th>\n",
       "      <td>759704</td>\n",
       "      <td>C1CC(CCC2CCCC(C3CC4CCCCC4C3)C2)C1</td>\n",
       "    </tr>\n",
       "  </tbody>\n",
       "</table>\n",
       "</div>"
      ],
      "text/plain": [
       "         index                                csk\n",
       "759700  759700    C1CCC2CC(C3CCC(CC4CC4)CC3)CC2C1\n",
       "759701  759701   C1CC(CCC2CC2)CC(C2CC3CCCCC3C2)C1\n",
       "759702  759702                                NaN\n",
       "759703  759703   C1CC(CCC2CC2)CC(C2CC3CCCCC3C2)C1\n",
       "759704  759704  C1CC(CCC2CCCC(C3CC4CCCCC4C3)C2)C1"
      ]
     },
     "execution_count": 10,
     "metadata": {},
     "output_type": "execute_result"
    }
   ],
   "source": [
    "df[759700:759705]"
   ]
  },
  {
   "cell_type": "code",
   "execution_count": 15,
   "id": "a305073d-94bc-4242-a759-94d7d677299f",
   "metadata": {},
   "outputs": [
    {
     "data": {
      "text/html": [
       "<div>\n",
       "<style scoped>\n",
       "    .dataframe tbody tr th:only-of-type {\n",
       "        vertical-align: middle;\n",
       "    }\n",
       "\n",
       "    .dataframe tbody tr th {\n",
       "        vertical-align: top;\n",
       "    }\n",
       "\n",
       "    .dataframe thead th {\n",
       "        text-align: right;\n",
       "    }\n",
       "</style>\n",
       "<table border=\"1\" class=\"dataframe\">\n",
       "  <thead>\n",
       "    <tr style=\"text-align: right;\">\n",
       "      <th></th>\n",
       "      <th>index</th>\n",
       "      <th>csk</th>\n",
       "    </tr>\n",
       "  </thead>\n",
       "  <tbody>\n",
       "  </tbody>\n",
       "</table>\n",
       "</div>"
      ],
      "text/plain": [
       "Empty DataFrame\n",
       "Columns: [index, csk]\n",
       "Index: []"
      ]
     },
     "execution_count": 15,
     "metadata": {},
     "output_type": "execute_result"
    }
   ],
   "source": [
    "df[df['csk'] == np.NaN]"
   ]
  },
  {
   "cell_type": "code",
   "execution_count": 16,
   "id": "1a9c6096-24c4-49ef-ba43-379c5182060a",
   "metadata": {},
   "outputs": [
    {
     "data": {
      "text/plain": [
       "nan"
      ]
     },
     "execution_count": 16,
     "metadata": {},
     "output_type": "execute_result"
    }
   ],
   "source": [
    "df['csk'][759702]"
   ]
  },
  {
   "cell_type": "code",
   "execution_count": 19,
   "id": "875b664a-9da4-469f-aefc-34a13535e9d3",
   "metadata": {},
   "outputs": [],
   "source": [
    "df = df.dropna()"
   ]
  },
  {
   "cell_type": "code",
   "execution_count": 20,
   "id": "fde1e2fb-cc83-4344-8ebe-c5de476e36ae",
   "metadata": {},
   "outputs": [
    {
     "data": {
      "text/html": [
       "<div>\n",
       "<style scoped>\n",
       "    .dataframe tbody tr th:only-of-type {\n",
       "        vertical-align: middle;\n",
       "    }\n",
       "\n",
       "    .dataframe tbody tr th {\n",
       "        vertical-align: top;\n",
       "    }\n",
       "\n",
       "    .dataframe thead th {\n",
       "        text-align: right;\n",
       "    }\n",
       "</style>\n",
       "<table border=\"1\" class=\"dataframe\">\n",
       "  <thead>\n",
       "    <tr style=\"text-align: right;\">\n",
       "      <th></th>\n",
       "      <th>index</th>\n",
       "      <th>csk</th>\n",
       "    </tr>\n",
       "  </thead>\n",
       "  <tbody>\n",
       "    <tr>\n",
       "      <th>0</th>\n",
       "      <td>0</td>\n",
       "      <td>C1CCC(CCCCCC2CCC3C(CCC3C3CCCCC3)C2)CC1</td>\n",
       "    </tr>\n",
       "    <tr>\n",
       "      <th>1</th>\n",
       "      <td>1</td>\n",
       "      <td>C1CCC(CCCCCC2CCC3C(CCC3C3CCCCC3)C2)CC1</td>\n",
       "    </tr>\n",
       "    <tr>\n",
       "      <th>2</th>\n",
       "      <td>2</td>\n",
       "      <td>C1CCC(CCCCCC2CCCC3C(C4CCCCC4)CCC23)CC1</td>\n",
       "    </tr>\n",
       "    <tr>\n",
       "      <th>3</th>\n",
       "      <td>3</td>\n",
       "      <td>C1CCC(CCCCCC2CCCC3C(C4CCCCC4)CCC23)CC1</td>\n",
       "    </tr>\n",
       "    <tr>\n",
       "      <th>4</th>\n",
       "      <td>4</td>\n",
       "      <td>C1CCC(CCCCCC2CCCC(CC3CCCCC3)C2)CC1</td>\n",
       "    </tr>\n",
       "    <tr>\n",
       "      <th>...</th>\n",
       "      <td>...</td>\n",
       "      <td>...</td>\n",
       "    </tr>\n",
       "    <tr>\n",
       "      <th>916546</th>\n",
       "      <td>916546</td>\n",
       "      <td>C(CCC1CCCCC2CCCCC12)CC1CCC2CCCCC2C1</td>\n",
       "    </tr>\n",
       "    <tr>\n",
       "      <th>916547</th>\n",
       "      <td>916547</td>\n",
       "      <td>C(CCC1CCCCC2CCCCC12)CC1CCC2CCCCC2C1</td>\n",
       "    </tr>\n",
       "    <tr>\n",
       "      <th>916548</th>\n",
       "      <td>916548</td>\n",
       "      <td>C(CCC1CCCCC2CCCCC12)CC1CCC2CCCCC2C1</td>\n",
       "    </tr>\n",
       "    <tr>\n",
       "      <th>916549</th>\n",
       "      <td>916549</td>\n",
       "      <td>C(CCC1CCCCC2CCCCC12)CC1CCC2CCCCC2C1</td>\n",
       "    </tr>\n",
       "    <tr>\n",
       "      <th>916550</th>\n",
       "      <td>916550</td>\n",
       "      <td>C(CCC1CCCCC2CCCCC12)CC1CCC2CCCCC2C1</td>\n",
       "    </tr>\n",
       "  </tbody>\n",
       "</table>\n",
       "<p>916546 rows × 2 columns</p>\n",
       "</div>"
      ],
      "text/plain": [
       "         index                                     csk\n",
       "0            0  C1CCC(CCCCCC2CCC3C(CCC3C3CCCCC3)C2)CC1\n",
       "1            1  C1CCC(CCCCCC2CCC3C(CCC3C3CCCCC3)C2)CC1\n",
       "2            2  C1CCC(CCCCCC2CCCC3C(C4CCCCC4)CCC23)CC1\n",
       "3            3  C1CCC(CCCCCC2CCCC3C(C4CCCCC4)CCC23)CC1\n",
       "4            4      C1CCC(CCCCCC2CCCC(CC3CCCCC3)C2)CC1\n",
       "...        ...                                     ...\n",
       "916546  916546     C(CCC1CCCCC2CCCCC12)CC1CCC2CCCCC2C1\n",
       "916547  916547     C(CCC1CCCCC2CCCCC12)CC1CCC2CCCCC2C1\n",
       "916548  916548     C(CCC1CCCCC2CCCCC12)CC1CCC2CCCCC2C1\n",
       "916549  916549     C(CCC1CCCCC2CCCCC12)CC1CCC2CCCCC2C1\n",
       "916550  916550     C(CCC1CCCCC2CCCCC12)CC1CCC2CCCCC2C1\n",
       "\n",
       "[916546 rows x 2 columns]"
      ]
     },
     "execution_count": 20,
     "metadata": {},
     "output_type": "execute_result"
    }
   ],
   "source": [
    "df"
   ]
  },
  {
   "cell_type": "code",
   "execution_count": null,
   "id": "c04de452-a8b6-4390-bc42-7a2902ddbed3",
   "metadata": {},
   "outputs": [],
   "source": []
  }
 ],
 "metadata": {
  "kernelspec": {
   "display_name": "Python 3 (ipykernel)",
   "language": "python",
   "name": "python3"
  },
  "language_info": {
   "codemirror_mode": {
    "name": "ipython",
    "version": 3
   },
   "file_extension": ".py",
   "mimetype": "text/x-python",
   "name": "python",
   "nbconvert_exporter": "python",
   "pygments_lexer": "ipython3",
   "version": "3.8.16"
  }
 },
 "nbformat": 4,
 "nbformat_minor": 5
}

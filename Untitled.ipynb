{
 "cells": [
  {
   "cell_type": "code",
   "execution_count": null,
   "id": "1848c867-da38-4183-9196-ce5e15d7ea0c",
   "metadata": {},
   "outputs": [],
   "source": [
    "output = [i for i in set(list(nuclear_glucocor.canonical_smiles)) if i in set(list(nuclear_non.smiles))]\n",
    "len(output)\n",
    "\n",
    "import matplotlib.pyplot as plt\n",
    "from matplotlib_venn import venn2, venn2_circles, venn2_unweighted\n",
    "from matplotlib_venn import venn3, venn3_circles\n",
    "\n",
    "venn2(subsets=(len(set(list(nuclear_non.smiles))), len(set(list(nuclear_glucocor.canonical_smiles))), len(output)), set_labels=('inactive', 'active'))\n",
    "plt.show()"
   ]
  },
  {
   "cell_type": "code",
   "execution_count": null,
   "id": "99360796-5d65-4563-99f7-0a4624be51db",
   "metadata": {},
   "outputs": [],
   "source": [
    "master_set = pd.concat([df_old_active, df_old_nonactive], ignore_index=True)\n",
    "master_set\n",
    "\n",
    "concatenated_df = master_set.groupby('canonical_smiles').agg({\n",
    "     'source': lambda x: list(set(x)),\n",
    "     'pchembl_value': lambda x: list(set(x)) \n",
    "}).reset_index()\n",
    "\n",
    "concatenated_df\n",
    "\n",
    "def has_multiple_unique_values(values_list):\n",
    "    return len(set(values_list)) > 1\n",
    "\n",
    "multi_unique = concatenated_df[concatenated_df['source'].apply(has_multiple_unique_values)]\n",
    "display(multi_unique)\n",
    "\n",
    "overrepresented = 0\n",
    "minimum = 7\n",
    "\n",
    "arr = []\n",
    "for i, row in multi_unique.iterrows():\n",
    "    values_list = row['pchembl_value']\n",
    "    average = sum(values_list) / len(values_list)\n",
    "    if average < 7.0:\n",
    "        overrepresented += 1\n",
    "        #print(f'{average}: {row[\"canonical_smiles\"]}')\n",
    "        arr.append([average,row[\"canonical_smiles\"]])\n",
    "    if average < minimum:\n",
    "        minimum = average\n",
    "arr_df = pd.DataFrame(data = arr, columns = ['pchembl_value', 'canonical_smiles'])\n",
    "print(overrepresented)\n",
    "print(minimum)"
   ]
  }
 ],
 "metadata": {
  "kernelspec": {
   "display_name": "Python 3 (ipykernel)",
   "language": "python",
   "name": "python3"
  },
  "language_info": {
   "codemirror_mode": {
    "name": "ipython",
    "version": 3
   },
   "file_extension": ".py",
   "mimetype": "text/x-python",
   "name": "python",
   "nbconvert_exporter": "python",
   "pygments_lexer": "ipython3",
   "version": "3.8.16"
  }
 },
 "nbformat": 4,
 "nbformat_minor": 5
}

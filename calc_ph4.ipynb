{
 "cells": [
  {
   "cell_type": "code",
   "execution_count": 1,
   "id": "03f6c29b-76fe-471b-9db1-36ff96dbde6f",
   "metadata": {},
   "outputs": [
    {
     "ename": "ModuleNotFoundError",
     "evalue": "No module named 'CDPL'",
     "output_type": "error",
     "traceback": [
      "\u001b[0;31m---------------------------------------------------------------------------\u001b[0m",
      "\u001b[0;31mModuleNotFoundError\u001b[0m                       Traceback (most recent call last)",
      "Cell \u001b[0;32mIn[1], line 2\u001b[0m\n\u001b[1;32m      1\u001b[0m \u001b[38;5;28;01mimport\u001b[39;00m\u001b[38;5;250m \u001b[39m\u001b[38;5;21;01mtime\u001b[39;00m\n\u001b[0;32m----> 2\u001b[0m \u001b[38;5;28;01mfrom\u001b[39;00m\u001b[38;5;250m \u001b[39m\u001b[38;5;21;01msrc\u001b[39;00m\u001b[38;5;250m \u001b[39m\u001b[38;5;28;01mimport\u001b[39;00m metrics_ph4 \u001b[38;5;66;03m# Importing custom metric functions\u001b[39;00m\n\u001b[1;32m      3\u001b[0m \u001b[38;5;28;01mimport\u001b[39;00m\u001b[38;5;250m \u001b[39m\u001b[38;5;21;01mimportlib\u001b[39;00m\u001b[38;5;250m \u001b[39m\u001b[38;5;28;01mas\u001b[39;00m\u001b[38;5;250m \u001b[39m\u001b[38;5;21;01mimp\u001b[39;00m\n\u001b[1;32m      4\u001b[0m imp\u001b[38;5;241m.\u001b[39mreload(metrics_ph4)\n",
      "File \u001b[0;32m~/phd_projects/iga_2023/git_reccal/new/recall_metrics/src/metrics_ph4.py:21\u001b[0m\n\u001b[1;32m     18\u001b[0m \u001b[38;5;28;01mimport\u001b[39;00m\u001b[38;5;250m \u001b[39m\u001b[38;5;21;01margparse\u001b[39;00m\n\u001b[1;32m     19\u001b[0m \u001b[38;5;28;01mfrom\u001b[39;00m\u001b[38;5;250m \u001b[39m\u001b[38;5;21;01mpathlib\u001b[39;00m\u001b[38;5;250m \u001b[39m\u001b[38;5;28;01mimport\u001b[39;00m Path\n\u001b[0;32m---> 21\u001b[0m \u001b[38;5;28;01mimport\u001b[39;00m\u001b[38;5;250m \u001b[39m\u001b[38;5;21;01mCDPL\u001b[39;00m\n\u001b[1;32m     22\u001b[0m \u001b[38;5;28;01mimport\u001b[39;00m\u001b[38;5;250m \u001b[39m\u001b[38;5;21;01mCDPL\u001b[39;00m\u001b[38;5;21;01m.\u001b[39;00m\u001b[38;5;21;01mChem\u001b[39;00m\u001b[38;5;250m \u001b[39m\u001b[38;5;28;01mas\u001b[39;00m\u001b[38;5;250m \u001b[39m\u001b[38;5;21;01mCDPLChem\u001b[39;00m\n\u001b[1;32m     23\u001b[0m \u001b[38;5;28;01mimport\u001b[39;00m\u001b[38;5;250m \u001b[39m\u001b[38;5;21;01mCDPL\u001b[39;00m\u001b[38;5;21;01m.\u001b[39;00m\u001b[38;5;21;01mPharm\u001b[39;00m\u001b[38;5;250m \u001b[39m\u001b[38;5;28;01mas\u001b[39;00m\u001b[38;5;250m \u001b[39m\u001b[38;5;21;01mCDPLPharm\u001b[39;00m\n",
      "\u001b[0;31mModuleNotFoundError\u001b[0m: No module named 'CDPL'"
     ]
    }
   ],
   "source": [
    "import time\n",
    "from src import metrics_ph4 # Importing custom metric functions\n",
    "import importlib as imp\n",
    "imp.reload(metrics_ph4)"
   ]
  },
  {
   "cell_type": "code",
   "execution_count": null,
   "id": "734f52ca-636e-4805-93bb-7449a2b60dc9",
   "metadata": {},
   "outputs": [],
   "source": [
    "def calculate_metrics(type_cluster, type_phfp, generator, receptor, number, ncpus = 1):\n",
    "    \"\"\"\n",
    "    Function to calculate molecular generation metrics.\n",
    "    \n",
    "    Parameters:\n",
    "    - scaffold_type: Type of scaffold (e.g., 'csk' or 'murcko')\n",
    "    - type_cluster: Cluster type  (e.g., 'dis' or 'sim')\n",
    "    - generator: Name of the molecular generator\n",
    "    - receptor: Target receptor for drug design\n",
    "\n",
    "    Returns:\n",
    "    - Computed metrics\n",
    "    \"\"\"\n",
    "    mt = metrics_ph4.Metrics_phfp(type_cluster, type_phfp, generator, receptor,number, ncpus)     \n",
    "    result = mt.calculate_metrics()\n",
    "    display(result)\n",
    "    return result"
   ]
  },
  {
   "cell_type": "code",
   "execution_count": null,
   "id": "1c3a5377-ae2f-4c5e-bc2c-69dd8322f562",
   "metadata": {},
   "outputs": [],
   "source": [
    "type_cluster = 'dis' #options: 'dis'|'sim' \n",
    "type_phfp = 'cdpkit' #options: 'csk'|'murcko'\n",
    "generator = 'Molpher_10k' #options: 'Molpher'|'DrugEx'|'REINVENT'|'addcarbon'\n",
    "receptor = 'Leukocyte_elastase' #options: 'Glucocorticoid_receptor'|'Leukocyte_elastase'\n",
    "\n",
    "\n",
    "for number in range(2,5):\n",
    "    start_time = time.time() \n",
    "    calculate_metrics(type_cluster,type_phfp,generator,receptor,number, ncpus = 10)\n",
    "    \n",
    "    \n",
    "    end_time = time.time()  # Konec měření\n",
    "    \n",
    "    elapsed_time = end_time - start_time  # Výpočet doby běhu\n",
    "    print(f\"Čas běhu: {elapsed_time:.2f} sekund\")"
   ]
  }
 ],
 "metadata": {
  "kernelspec": {
   "display_name": "Python 3 (ipykernel)",
   "language": "python",
   "name": "python3"
  },
  "language_info": {
   "codemirror_mode": {
    "name": "ipython",
    "version": 3
   },
   "file_extension": ".py",
   "mimetype": "text/x-python",
   "name": "python",
   "nbconvert_exporter": "python",
   "pygments_lexer": "ipython3",
   "version": "3.9.13"
  }
 },
 "nbformat": 4,
 "nbformat_minor": 5
}

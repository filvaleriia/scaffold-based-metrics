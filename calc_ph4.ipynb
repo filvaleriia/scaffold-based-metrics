{
 "cells": [
  {
   "cell_type": "code",
   "execution_count": 1,
   "id": "03f6c29b-76fe-471b-9db1-36ff96dbde6f",
   "metadata": {},
   "outputs": [],
   "source": [
    "import time\n",
    "from src import metrics_ph4 # Importing custom metric functions\n",
    "import importlib as imp\n",
    "imp.reload(metrics_ph4)\n",
    "import gc"
   ]
  },
  {
   "cell_type": "code",
   "execution_count": 2,
   "id": "734f52ca-636e-4805-93bb-7449a2b60dc9",
   "metadata": {},
   "outputs": [],
   "source": [
    "def calculate_metrics(type_cluster, type_phfp, generator, receptor, number, ncpus = 1):\n",
    "    \"\"\"\n",
    "    Function to calculate molecular generation metrics.\n",
    "    \n",
    "    Parameters:\n",
    "    - scaffold_type: Type of scaffold (e.g., 'csk' or 'murcko')\n",
    "    - type_cluster: Cluster type  (e.g., 'dis' or 'sim')\n",
    "    - generator: Name of the molecular generator\n",
    "    - receptor: Target receptor for drug design\n",
    "\n",
    "    Returns:\n",
    "    - Computed metrics\n",
    "    \"\"\"\n",
    "    mt = metrics_ph4.Metrics_phfp(type_cluster, type_phfp, generator, receptor,number, ncpus)     \n",
    "    result = mt.calculate_metrics()\n",
    "    display(result)\n",
    "    return result"
   ]
  },
  {
   "cell_type": "code",
   "execution_count": 3,
   "id": "1c3a5377-ae2f-4c5e-bc2c-69dd8322f562",
   "metadata": {},
   "outputs": [
    {
     "name": "stdout",
     "output_type": "stream",
     "text": [
      "NUMBER:  0\n",
      "/home/filv/PhD/github/recall_metrics/data/output_sets/Leukocyte_elastase/Molpher_250k/cOS_Molpher_250k_sim_0_one_column.csv\n",
      "EXIST\n",
      "MAIN FUNCTION\n"
     ]
    },
    {
     "data": {
      "text/plain": [
       "None"
      ]
     },
     "metadata": {},
     "output_type": "display_data"
    },
    {
     "name": "stdout",
     "output_type": "stream",
     "text": [
      "Čas běhu: 455.84 sekund\n",
      "NUMBER:  1\n",
      "/home/filv/PhD/github/recall_metrics/data/output_sets/Leukocyte_elastase/Molpher_250k/cOS_Molpher_250k_sim_1_one_column.csv\n",
      "EXIST\n",
      "MAIN FUNCTION\n"
     ]
    },
    {
     "data": {
      "text/plain": [
       "None"
      ]
     },
     "metadata": {},
     "output_type": "display_data"
    },
    {
     "name": "stdout",
     "output_type": "stream",
     "text": [
      "Čas běhu: 428.20 sekund\n",
      "NUMBER:  2\n",
      "/home/filv/PhD/github/recall_metrics/data/output_sets/Leukocyte_elastase/Molpher_250k/cOS_Molpher_250k_sim_2_one_column.csv\n",
      "EXIST\n",
      "MAIN FUNCTION\n"
     ]
    },
    {
     "data": {
      "text/plain": [
       "None"
      ]
     },
     "metadata": {},
     "output_type": "display_data"
    },
    {
     "name": "stdout",
     "output_type": "stream",
     "text": [
      "Čas běhu: 427.36 sekund\n",
      "NUMBER:  3\n",
      "/home/filv/PhD/github/recall_metrics/data/output_sets/Leukocyte_elastase/Molpher_250k/cOS_Molpher_250k_sim_3_one_column.csv\n",
      "EXIST\n",
      "MAIN FUNCTION\n"
     ]
    },
    {
     "data": {
      "text/plain": [
       "None"
      ]
     },
     "metadata": {},
     "output_type": "display_data"
    },
    {
     "name": "stdout",
     "output_type": "stream",
     "text": [
      "Čas běhu: 595.75 sekund\n",
      "NUMBER:  4\n",
      "/home/filv/PhD/github/recall_metrics/data/output_sets/Leukocyte_elastase/Molpher_250k/cOS_Molpher_250k_sim_4_one_column.csv\n",
      "EXIST\n",
      "MAIN FUNCTION\n"
     ]
    },
    {
     "data": {
      "text/plain": [
       "None"
      ]
     },
     "metadata": {},
     "output_type": "display_data"
    },
    {
     "name": "stdout",
     "output_type": "stream",
     "text": [
      "Čas běhu: 577.91 sekund\n"
     ]
    }
   ],
   "source": [
    "#type_cluster = 'dis' #options: 'dis'|'sim' \n",
    "type_phfp = 'cdpkit' #options: 'csk'|'murcko'\n",
    "#generator = 'Molpher_10k' #options: 'Molpher'|'DrugEx'|'REINVENT'|'addcarbon'\n",
    "#receptor = 'Leukocyte_elastase' #options: 'Glucocorticoid_receptor'|'Leukocyte_elastase'\n",
    "\n",
    "\n",
    "for receptor in ['Leukocyte_elastase', 'Glucocorticoid_receptor']:\n",
    "    for generator in ['REINVENT_250k']:\n",
    "        for type_cluster in ['dis','sim']:\n",
    "            for number in range(5):\n",
    "                start_time = time.time() \n",
    "                calculate_metrics(type_cluster,type_phfp,generator,receptor,number, ncpus = 10)\n",
    "        \n",
    "        \n",
    "                end_time = time.time()  # Konec měření\n",
    "        \n",
    "                elapsed_time = end_time - start_time  # Výpočet doby běhu\n",
    "                print(f\"Čas běhu: {elapsed_time:.2f} sekund\")\n",
    "                gc.collect() "
   ]
  },
  {
   "cell_type": "code",
   "execution_count": 7,
   "id": "fab3a4f9-bcaf-4d31-9aee-3ac00d85b782",
   "metadata": {
    "scrolled": true
   },
   "outputs": [
    {
     "name": "stdout",
     "output_type": "stream",
     "text": [
      "NUMBER:  0\n",
      "/home/filv/PhD/github/recall_metrics/data/output_sets/Leukocyte_elastase/DrugEx_GT_epsilon_0.6_250k/cOS_DrugEx_GT_epsilon_0.6_250k_dis_0_one_column.csv\n",
      "EXIST\n",
      "MAIN FUNCTION\n"
     ]
    },
    {
     "data": {
      "text/plain": [
       "None"
      ]
     },
     "metadata": {},
     "output_type": "display_data"
    },
    {
     "name": "stdout",
     "output_type": "stream",
     "text": [
      "Čas běhu: 750.39 sekund\n",
      "NUMBER:  1\n",
      "/home/filv/PhD/github/recall_metrics/data/output_sets/Leukocyte_elastase/DrugEx_GT_epsilon_0.6_250k/cOS_DrugEx_GT_epsilon_0.6_250k_dis_1_one_column.csv\n",
      "EXIST\n",
      "MAIN FUNCTION\n"
     ]
    },
    {
     "data": {
      "text/plain": [
       "None"
      ]
     },
     "metadata": {},
     "output_type": "display_data"
    },
    {
     "name": "stdout",
     "output_type": "stream",
     "text": [
      "Čas běhu: 750.31 sekund\n",
      "NUMBER:  2\n",
      "/home/filv/PhD/github/recall_metrics/data/output_sets/Leukocyte_elastase/DrugEx_GT_epsilon_0.6_250k/cOS_DrugEx_GT_epsilon_0.6_250k_dis_2_one_column.csv\n",
      "EXIST\n",
      "MAIN FUNCTION\n"
     ]
    },
    {
     "data": {
      "text/plain": [
       "None"
      ]
     },
     "metadata": {},
     "output_type": "display_data"
    },
    {
     "name": "stdout",
     "output_type": "stream",
     "text": [
      "Čas běhu: 781.07 sekund\n",
      "NUMBER:  3\n",
      "/home/filv/PhD/github/recall_metrics/data/output_sets/Leukocyte_elastase/DrugEx_GT_epsilon_0.6_250k/cOS_DrugEx_GT_epsilon_0.6_250k_dis_3_one_column.csv\n",
      "EXIST\n",
      "MAIN FUNCTION\n"
     ]
    },
    {
     "data": {
      "text/plain": [
       "None"
      ]
     },
     "metadata": {},
     "output_type": "display_data"
    },
    {
     "name": "stdout",
     "output_type": "stream",
     "text": [
      "Čas běhu: 759.24 sekund\n",
      "NUMBER:  4\n",
      "/home/filv/PhD/github/recall_metrics/data/output_sets/Leukocyte_elastase/DrugEx_GT_epsilon_0.6_250k/cOS_DrugEx_GT_epsilon_0.6_250k_dis_4_one_column.csv\n",
      "EXIST\n",
      "MAIN FUNCTION\n"
     ]
    },
    {
     "data": {
      "text/plain": [
       "None"
      ]
     },
     "metadata": {},
     "output_type": "display_data"
    },
    {
     "name": "stdout",
     "output_type": "stream",
     "text": [
      "Čas běhu: 795.20 sekund\n",
      "NUMBER:  0\n",
      "/home/filv/PhD/github/recall_metrics/data/output_sets/Leukocyte_elastase/DrugEx_GT_epsilon_0.6_250k/cOS_DrugEx_GT_epsilon_0.6_250k_sim_0_one_column.csv\n",
      "EXIST\n",
      "MAIN FUNCTION\n"
     ]
    },
    {
     "data": {
      "text/plain": [
       "None"
      ]
     },
     "metadata": {},
     "output_type": "display_data"
    },
    {
     "name": "stdout",
     "output_type": "stream",
     "text": [
      "Čas běhu: 808.36 sekund\n",
      "NUMBER:  1\n",
      "/home/filv/PhD/github/recall_metrics/data/output_sets/Leukocyte_elastase/DrugEx_GT_epsilon_0.6_250k/cOS_DrugEx_GT_epsilon_0.6_250k_sim_1_one_column.csv\n",
      "EXIST\n",
      "MAIN FUNCTION\n"
     ]
    },
    {
     "data": {
      "text/plain": [
       "None"
      ]
     },
     "metadata": {},
     "output_type": "display_data"
    },
    {
     "name": "stdout",
     "output_type": "stream",
     "text": [
      "Čas běhu: 25209.25 sekund\n",
      "NUMBER:  2\n",
      "/home/filv/PhD/github/recall_metrics/data/output_sets/Leukocyte_elastase/DrugEx_GT_epsilon_0.6_250k/cOS_DrugEx_GT_epsilon_0.6_250k_sim_2_one_column.csv\n",
      "EXIST\n",
      "MAIN FUNCTION\n"
     ]
    },
    {
     "data": {
      "text/plain": [
       "None"
      ]
     },
     "metadata": {},
     "output_type": "display_data"
    },
    {
     "name": "stdout",
     "output_type": "stream",
     "text": [
      "Čas běhu: 448.90 sekund\n",
      "NUMBER:  3\n",
      "/home/filv/PhD/github/recall_metrics/data/output_sets/Leukocyte_elastase/DrugEx_GT_epsilon_0.6_250k/cOS_DrugEx_GT_epsilon_0.6_250k_sim_3_one_column.csv\n",
      "EXIST\n",
      "MAIN FUNCTION\n"
     ]
    },
    {
     "data": {
      "text/plain": [
       "None"
      ]
     },
     "metadata": {},
     "output_type": "display_data"
    },
    {
     "name": "stdout",
     "output_type": "stream",
     "text": [
      "Čas běhu: 439.52 sekund\n",
      "NUMBER:  4\n",
      "/home/filv/PhD/github/recall_metrics/data/output_sets/Leukocyte_elastase/DrugEx_GT_epsilon_0.6_250k/cOS_DrugEx_GT_epsilon_0.6_250k_sim_4_one_column.csv\n",
      "EXIST\n",
      "MAIN FUNCTION\n"
     ]
    },
    {
     "data": {
      "text/plain": [
       "None"
      ]
     },
     "metadata": {},
     "output_type": "display_data"
    },
    {
     "name": "stdout",
     "output_type": "stream",
     "text": [
      "Čas běhu: 438.65 sekund\n",
      "NUMBER:  0\n",
      "/home/filv/PhD/github/recall_metrics/data/output_sets/Leukocyte_elastase/DrugEx_RNN_epsilon_0.1_250k/cOS_DrugEx_RNN_epsilon_0.1_250k_dis_0_one_column.csv\n",
      "EXIST\n",
      "MAIN FUNCTION\n"
     ]
    },
    {
     "data": {
      "text/plain": [
       "None"
      ]
     },
     "metadata": {},
     "output_type": "display_data"
    },
    {
     "name": "stdout",
     "output_type": "stream",
     "text": [
      "Čas běhu: 350.27 sekund\n",
      "NUMBER:  1\n",
      "/home/filv/PhD/github/recall_metrics/data/output_sets/Leukocyte_elastase/DrugEx_RNN_epsilon_0.1_250k/cOS_DrugEx_RNN_epsilon_0.1_250k_dis_1_one_column.csv\n",
      "EXIST\n",
      "MAIN FUNCTION\n"
     ]
    },
    {
     "data": {
      "text/plain": [
       "None"
      ]
     },
     "metadata": {},
     "output_type": "display_data"
    },
    {
     "name": "stdout",
     "output_type": "stream",
     "text": [
      "Čas běhu: 346.80 sekund\n",
      "NUMBER:  2\n",
      "/home/filv/PhD/github/recall_metrics/data/output_sets/Leukocyte_elastase/DrugEx_RNN_epsilon_0.1_250k/cOS_DrugEx_RNN_epsilon_0.1_250k_dis_2_one_column.csv\n",
      "EXIST\n",
      "MAIN FUNCTION\n"
     ]
    },
    {
     "data": {
      "text/plain": [
       "None"
      ]
     },
     "metadata": {},
     "output_type": "display_data"
    },
    {
     "name": "stdout",
     "output_type": "stream",
     "text": [
      "Čas běhu: 340.86 sekund\n",
      "NUMBER:  3\n",
      "/home/filv/PhD/github/recall_metrics/data/output_sets/Leukocyte_elastase/DrugEx_RNN_epsilon_0.1_250k/cOS_DrugEx_RNN_epsilon_0.1_250k_dis_3_one_column.csv\n",
      "EXIST\n",
      "MAIN FUNCTION\n"
     ]
    },
    {
     "data": {
      "text/plain": [
       "None"
      ]
     },
     "metadata": {},
     "output_type": "display_data"
    },
    {
     "name": "stdout",
     "output_type": "stream",
     "text": [
      "Čas běhu: 348.47 sekund\n",
      "NUMBER:  4\n",
      "/home/filv/PhD/github/recall_metrics/data/output_sets/Leukocyte_elastase/DrugEx_RNN_epsilon_0.1_250k/cOS_DrugEx_RNN_epsilon_0.1_250k_dis_4_one_column.csv\n",
      "EXIST\n",
      "MAIN FUNCTION\n"
     ]
    },
    {
     "data": {
      "text/plain": [
       "None"
      ]
     },
     "metadata": {},
     "output_type": "display_data"
    },
    {
     "name": "stdout",
     "output_type": "stream",
     "text": [
      "Čas běhu: 356.37 sekund\n",
      "NUMBER:  0\n",
      "/home/filv/PhD/github/recall_metrics/data/output_sets/Leukocyte_elastase/DrugEx_RNN_epsilon_0.1_250k/cOS_DrugEx_RNN_epsilon_0.1_250k_sim_0_one_column.csv\n",
      "EXIST\n",
      "MAIN FUNCTION\n"
     ]
    },
    {
     "data": {
      "text/plain": [
       "None"
      ]
     },
     "metadata": {},
     "output_type": "display_data"
    },
    {
     "name": "stdout",
     "output_type": "stream",
     "text": [
      "Čas běhu: 339.32 sekund\n",
      "NUMBER:  1\n",
      "/home/filv/PhD/github/recall_metrics/data/output_sets/Leukocyte_elastase/DrugEx_RNN_epsilon_0.1_250k/cOS_DrugEx_RNN_epsilon_0.1_250k_sim_1_one_column.csv\n",
      "EXIST\n",
      "MAIN FUNCTION\n"
     ]
    },
    {
     "data": {
      "text/plain": [
       "None"
      ]
     },
     "metadata": {},
     "output_type": "display_data"
    },
    {
     "name": "stdout",
     "output_type": "stream",
     "text": [
      "Čas běhu: 350.04 sekund\n",
      "NUMBER:  2\n",
      "/home/filv/PhD/github/recall_metrics/data/output_sets/Leukocyte_elastase/DrugEx_RNN_epsilon_0.1_250k/cOS_DrugEx_RNN_epsilon_0.1_250k_sim_2_one_column.csv\n",
      "EXIST\n",
      "MAIN FUNCTION\n"
     ]
    },
    {
     "data": {
      "text/plain": [
       "None"
      ]
     },
     "metadata": {},
     "output_type": "display_data"
    },
    {
     "name": "stdout",
     "output_type": "stream",
     "text": [
      "Čas běhu: 351.45 sekund\n",
      "NUMBER:  3\n",
      "/home/filv/PhD/github/recall_metrics/data/output_sets/Leukocyte_elastase/DrugEx_RNN_epsilon_0.1_250k/cOS_DrugEx_RNN_epsilon_0.1_250k_sim_3_one_column.csv\n",
      "EXIST\n",
      "MAIN FUNCTION\n"
     ]
    },
    {
     "data": {
      "text/plain": [
       "None"
      ]
     },
     "metadata": {},
     "output_type": "display_data"
    },
    {
     "name": "stdout",
     "output_type": "stream",
     "text": [
      "Čas běhu: 346.29 sekund\n",
      "NUMBER:  4\n",
      "/home/filv/PhD/github/recall_metrics/data/output_sets/Leukocyte_elastase/DrugEx_RNN_epsilon_0.1_250k/cOS_DrugEx_RNN_epsilon_0.1_250k_sim_4_one_column.csv\n",
      "EXIST\n",
      "MAIN FUNCTION\n"
     ]
    },
    {
     "data": {
      "text/plain": [
       "None"
      ]
     },
     "metadata": {},
     "output_type": "display_data"
    },
    {
     "name": "stdout",
     "output_type": "stream",
     "text": [
      "Čas běhu: 347.66 sekund\n",
      "NUMBER:  0\n",
      "/home/filv/PhD/github/recall_metrics/data/output_sets/Leukocyte_elastase/DrugEx_RNN_epsilon_0.6_250k/cOS_DrugEx_RNN_epsilon_0.6_250k_dis_0_one_column.csv\n",
      "EXIST\n",
      "MAIN FUNCTION\n"
     ]
    },
    {
     "data": {
      "text/plain": [
       "None"
      ]
     },
     "metadata": {},
     "output_type": "display_data"
    },
    {
     "name": "stdout",
     "output_type": "stream",
     "text": [
      "Čas běhu: 375.84 sekund\n",
      "NUMBER:  1\n",
      "/home/filv/PhD/github/recall_metrics/data/output_sets/Leukocyte_elastase/DrugEx_RNN_epsilon_0.6_250k/cOS_DrugEx_RNN_epsilon_0.6_250k_dis_1_one_column.csv\n",
      "EXIST\n",
      "MAIN FUNCTION\n"
     ]
    },
    {
     "data": {
      "text/plain": [
       "None"
      ]
     },
     "metadata": {},
     "output_type": "display_data"
    },
    {
     "name": "stdout",
     "output_type": "stream",
     "text": [
      "Čas běhu: 365.43 sekund\n",
      "NUMBER:  2\n",
      "/home/filv/PhD/github/recall_metrics/data/output_sets/Leukocyte_elastase/DrugEx_RNN_epsilon_0.6_250k/cOS_DrugEx_RNN_epsilon_0.6_250k_dis_2_one_column.csv\n",
      "EXIST\n",
      "MAIN FUNCTION\n"
     ]
    },
    {
     "data": {
      "text/plain": [
       "None"
      ]
     },
     "metadata": {},
     "output_type": "display_data"
    },
    {
     "name": "stdout",
     "output_type": "stream",
     "text": [
      "Čas běhu: 374.93 sekund\n",
      "NUMBER:  3\n",
      "/home/filv/PhD/github/recall_metrics/data/output_sets/Leukocyte_elastase/DrugEx_RNN_epsilon_0.6_250k/cOS_DrugEx_RNN_epsilon_0.6_250k_dis_3_one_column.csv\n",
      "EXIST\n",
      "MAIN FUNCTION\n"
     ]
    },
    {
     "data": {
      "text/plain": [
       "None"
      ]
     },
     "metadata": {},
     "output_type": "display_data"
    },
    {
     "name": "stdout",
     "output_type": "stream",
     "text": [
      "Čas běhu: 361.03 sekund\n",
      "NUMBER:  4\n",
      "/home/filv/PhD/github/recall_metrics/data/output_sets/Leukocyte_elastase/DrugEx_RNN_epsilon_0.6_250k/cOS_DrugEx_RNN_epsilon_0.6_250k_dis_4_one_column.csv\n",
      "EXIST\n",
      "MAIN FUNCTION\n"
     ]
    },
    {
     "data": {
      "text/plain": [
       "None"
      ]
     },
     "metadata": {},
     "output_type": "display_data"
    },
    {
     "name": "stdout",
     "output_type": "stream",
     "text": [
      "Čas běhu: 359.00 sekund\n",
      "NUMBER:  0\n",
      "/home/filv/PhD/github/recall_metrics/data/output_sets/Leukocyte_elastase/DrugEx_RNN_epsilon_0.6_250k/cOS_DrugEx_RNN_epsilon_0.6_250k_sim_0_one_column.csv\n",
      "EXIST\n",
      "MAIN FUNCTION\n"
     ]
    },
    {
     "data": {
      "text/plain": [
       "None"
      ]
     },
     "metadata": {},
     "output_type": "display_data"
    },
    {
     "name": "stdout",
     "output_type": "stream",
     "text": [
      "Čas běhu: 365.96 sekund\n",
      "NUMBER:  1\n",
      "/home/filv/PhD/github/recall_metrics/data/output_sets/Leukocyte_elastase/DrugEx_RNN_epsilon_0.6_250k/cOS_DrugEx_RNN_epsilon_0.6_250k_sim_1_one_column.csv\n",
      "EXIST\n",
      "MAIN FUNCTION\n"
     ]
    },
    {
     "data": {
      "text/plain": [
       "None"
      ]
     },
     "metadata": {},
     "output_type": "display_data"
    },
    {
     "name": "stdout",
     "output_type": "stream",
     "text": [
      "Čas běhu: 373.00 sekund\n",
      "NUMBER:  2\n",
      "/home/filv/PhD/github/recall_metrics/data/output_sets/Leukocyte_elastase/DrugEx_RNN_epsilon_0.6_250k/cOS_DrugEx_RNN_epsilon_0.6_250k_sim_2_one_column.csv\n",
      "EXIST\n",
      "MAIN FUNCTION\n"
     ]
    },
    {
     "data": {
      "text/plain": [
       "None"
      ]
     },
     "metadata": {},
     "output_type": "display_data"
    },
    {
     "name": "stdout",
     "output_type": "stream",
     "text": [
      "Čas běhu: 377.46 sekund\n",
      "NUMBER:  3\n",
      "/home/filv/PhD/github/recall_metrics/data/output_sets/Leukocyte_elastase/DrugEx_RNN_epsilon_0.6_250k/cOS_DrugEx_RNN_epsilon_0.6_250k_sim_3_one_column.csv\n",
      "EXIST\n",
      "MAIN FUNCTION\n"
     ]
    },
    {
     "data": {
      "text/plain": [
       "None"
      ]
     },
     "metadata": {},
     "output_type": "display_data"
    },
    {
     "name": "stdout",
     "output_type": "stream",
     "text": [
      "Čas běhu: 371.02 sekund\n",
      "NUMBER:  4\n",
      "/home/filv/PhD/github/recall_metrics/data/output_sets/Leukocyte_elastase/DrugEx_RNN_epsilon_0.6_250k/cOS_DrugEx_RNN_epsilon_0.6_250k_sim_4_one_column.csv\n",
      "EXIST\n",
      "MAIN FUNCTION\n"
     ]
    },
    {
     "data": {
      "text/plain": [
       "None"
      ]
     },
     "metadata": {},
     "output_type": "display_data"
    },
    {
     "name": "stdout",
     "output_type": "stream",
     "text": [
      "Čas běhu: 365.81 sekund\n",
      "NUMBER:  0\n",
      "/home/filv/PhD/github/recall_metrics/data/output_sets/Leukocyte_elastase/GB_GA_mut_r_0.01_250k/cOS_GB_GA_mut_r_0.01_250k_dis_0_one_column.csv\n",
      "EXIST\n",
      "MAIN FUNCTION\n"
     ]
    },
    {
     "data": {
      "text/plain": [
       "None"
      ]
     },
     "metadata": {},
     "output_type": "display_data"
    },
    {
     "name": "stdout",
     "output_type": "stream",
     "text": [
      "Čas běhu: 396.61 sekund\n",
      "NUMBER:  1\n",
      "/home/filv/PhD/github/recall_metrics/data/output_sets/Leukocyte_elastase/GB_GA_mut_r_0.01_250k/cOS_GB_GA_mut_r_0.01_250k_dis_1_one_column.csv\n",
      "EXIST\n",
      "MAIN FUNCTION\n"
     ]
    },
    {
     "data": {
      "text/plain": [
       "None"
      ]
     },
     "metadata": {},
     "output_type": "display_data"
    },
    {
     "name": "stdout",
     "output_type": "stream",
     "text": [
      "Čas běhu: 401.45 sekund\n",
      "NUMBER:  2\n",
      "/home/filv/PhD/github/recall_metrics/data/output_sets/Leukocyte_elastase/GB_GA_mut_r_0.01_250k/cOS_GB_GA_mut_r_0.01_250k_dis_2_one_column.csv\n",
      "EXIST\n",
      "MAIN FUNCTION\n"
     ]
    },
    {
     "data": {
      "text/plain": [
       "None"
      ]
     },
     "metadata": {},
     "output_type": "display_data"
    },
    {
     "name": "stdout",
     "output_type": "stream",
     "text": [
      "Čas běhu: 395.70 sekund\n",
      "NUMBER:  3\n",
      "/home/filv/PhD/github/recall_metrics/data/output_sets/Leukocyte_elastase/GB_GA_mut_r_0.01_250k/cOS_GB_GA_mut_r_0.01_250k_dis_3_one_column.csv\n",
      "EXIST\n",
      "MAIN FUNCTION\n"
     ]
    },
    {
     "data": {
      "text/plain": [
       "None"
      ]
     },
     "metadata": {},
     "output_type": "display_data"
    },
    {
     "name": "stdout",
     "output_type": "stream",
     "text": [
      "Čas běhu: 390.13 sekund\n",
      "NUMBER:  4\n",
      "/home/filv/PhD/github/recall_metrics/data/output_sets/Leukocyte_elastase/GB_GA_mut_r_0.01_250k/cOS_GB_GA_mut_r_0.01_250k_dis_4_one_column.csv\n",
      "EXIST\n",
      "MAIN FUNCTION\n"
     ]
    },
    {
     "data": {
      "text/plain": [
       "None"
      ]
     },
     "metadata": {},
     "output_type": "display_data"
    },
    {
     "name": "stdout",
     "output_type": "stream",
     "text": [
      "Čas běhu: 405.53 sekund\n",
      "NUMBER:  0\n",
      "/home/filv/PhD/github/recall_metrics/data/output_sets/Leukocyte_elastase/GB_GA_mut_r_0.01_250k/cOS_GB_GA_mut_r_0.01_250k_sim_0_one_column.csv\n",
      "EXIST\n",
      "MAIN FUNCTION\n"
     ]
    },
    {
     "data": {
      "text/plain": [
       "None"
      ]
     },
     "metadata": {},
     "output_type": "display_data"
    },
    {
     "name": "stdout",
     "output_type": "stream",
     "text": [
      "Čas běhu: 399.15 sekund\n",
      "NUMBER:  1\n",
      "/home/filv/PhD/github/recall_metrics/data/output_sets/Leukocyte_elastase/GB_GA_mut_r_0.01_250k/cOS_GB_GA_mut_r_0.01_250k_sim_1_one_column.csv\n",
      "EXIST\n",
      "MAIN FUNCTION\n"
     ]
    },
    {
     "data": {
      "text/plain": [
       "None"
      ]
     },
     "metadata": {},
     "output_type": "display_data"
    },
    {
     "name": "stdout",
     "output_type": "stream",
     "text": [
      "Čas běhu: 401.47 sekund\n",
      "NUMBER:  2\n",
      "/home/filv/PhD/github/recall_metrics/data/output_sets/Leukocyte_elastase/GB_GA_mut_r_0.01_250k/cOS_GB_GA_mut_r_0.01_250k_sim_2_one_column.csv\n",
      "EXIST\n",
      "MAIN FUNCTION\n"
     ]
    },
    {
     "data": {
      "text/plain": [
       "None"
      ]
     },
     "metadata": {},
     "output_type": "display_data"
    },
    {
     "name": "stdout",
     "output_type": "stream",
     "text": [
      "Čas běhu: 398.11 sekund\n",
      "NUMBER:  3\n",
      "/home/filv/PhD/github/recall_metrics/data/output_sets/Leukocyte_elastase/GB_GA_mut_r_0.01_250k/cOS_GB_GA_mut_r_0.01_250k_sim_3_one_column.csv\n",
      "EXIST\n",
      "MAIN FUNCTION\n"
     ]
    },
    {
     "data": {
      "text/plain": [
       "None"
      ]
     },
     "metadata": {},
     "output_type": "display_data"
    },
    {
     "name": "stdout",
     "output_type": "stream",
     "text": [
      "Čas běhu: 395.85 sekund\n",
      "NUMBER:  4\n",
      "/home/filv/PhD/github/recall_metrics/data/output_sets/Leukocyte_elastase/GB_GA_mut_r_0.01_250k/cOS_GB_GA_mut_r_0.01_250k_sim_4_one_column.csv\n",
      "EXIST\n",
      "MAIN FUNCTION\n"
     ]
    },
    {
     "data": {
      "text/plain": [
       "None"
      ]
     },
     "metadata": {},
     "output_type": "display_data"
    },
    {
     "name": "stdout",
     "output_type": "stream",
     "text": [
      "Čas běhu: 396.63 sekund\n",
      "NUMBER:  0\n",
      "/home/filv/PhD/github/recall_metrics/data/output_sets/Leukocyte_elastase/GB_GA_mut_r_0.5_250k/cOS_GB_GA_mut_r_0.5_250k_dis_0_one_column.csv\n",
      "EXIST\n",
      "MAIN FUNCTION\n"
     ]
    },
    {
     "data": {
      "text/plain": [
       "None"
      ]
     },
     "metadata": {},
     "output_type": "display_data"
    },
    {
     "name": "stdout",
     "output_type": "stream",
     "text": [
      "Čas běhu: 403.07 sekund\n",
      "NUMBER:  1\n",
      "/home/filv/PhD/github/recall_metrics/data/output_sets/Leukocyte_elastase/GB_GA_mut_r_0.5_250k/cOS_GB_GA_mut_r_0.5_250k_dis_1_one_column.csv\n",
      "EXIST\n",
      "MAIN FUNCTION\n"
     ]
    },
    {
     "data": {
      "text/plain": [
       "None"
      ]
     },
     "metadata": {},
     "output_type": "display_data"
    },
    {
     "name": "stdout",
     "output_type": "stream",
     "text": [
      "Čas běhu: 404.26 sekund\n",
      "NUMBER:  2\n",
      "/home/filv/PhD/github/recall_metrics/data/output_sets/Leukocyte_elastase/GB_GA_mut_r_0.5_250k/cOS_GB_GA_mut_r_0.5_250k_dis_2_one_column.csv\n",
      "EXIST\n",
      "MAIN FUNCTION\n"
     ]
    },
    {
     "data": {
      "text/plain": [
       "None"
      ]
     },
     "metadata": {},
     "output_type": "display_data"
    },
    {
     "name": "stdout",
     "output_type": "stream",
     "text": [
      "Čas běhu: 400.19 sekund\n",
      "NUMBER:  3\n",
      "/home/filv/PhD/github/recall_metrics/data/output_sets/Leukocyte_elastase/GB_GA_mut_r_0.5_250k/cOS_GB_GA_mut_r_0.5_250k_dis_3_one_column.csv\n",
      "EXIST\n",
      "MAIN FUNCTION\n"
     ]
    },
    {
     "data": {
      "text/plain": [
       "None"
      ]
     },
     "metadata": {},
     "output_type": "display_data"
    },
    {
     "name": "stdout",
     "output_type": "stream",
     "text": [
      "Čas běhu: 396.37 sekund\n",
      "NUMBER:  4\n",
      "/home/filv/PhD/github/recall_metrics/data/output_sets/Leukocyte_elastase/GB_GA_mut_r_0.5_250k/cOS_GB_GA_mut_r_0.5_250k_dis_4_one_column.csv\n",
      "EXIST\n",
      "MAIN FUNCTION\n"
     ]
    },
    {
     "data": {
      "text/plain": [
       "None"
      ]
     },
     "metadata": {},
     "output_type": "display_data"
    },
    {
     "name": "stdout",
     "output_type": "stream",
     "text": [
      "Čas běhu: 408.92 sekund\n",
      "NUMBER:  0\n",
      "/home/filv/PhD/github/recall_metrics/data/output_sets/Leukocyte_elastase/GB_GA_mut_r_0.5_250k/cOS_GB_GA_mut_r_0.5_250k_sim_0_one_column.csv\n",
      "EXIST\n",
      "MAIN FUNCTION\n"
     ]
    },
    {
     "data": {
      "text/plain": [
       "None"
      ]
     },
     "metadata": {},
     "output_type": "display_data"
    },
    {
     "name": "stdout",
     "output_type": "stream",
     "text": [
      "Čas běhu: 397.36 sekund\n",
      "NUMBER:  1\n",
      "/home/filv/PhD/github/recall_metrics/data/output_sets/Leukocyte_elastase/GB_GA_mut_r_0.5_250k/cOS_GB_GA_mut_r_0.5_250k_sim_1_one_column.csv\n",
      "EXIST\n",
      "MAIN FUNCTION\n"
     ]
    },
    {
     "data": {
      "text/plain": [
       "None"
      ]
     },
     "metadata": {},
     "output_type": "display_data"
    },
    {
     "name": "stdout",
     "output_type": "stream",
     "text": [
      "Čas běhu: 403.09 sekund\n",
      "NUMBER:  2\n",
      "/home/filv/PhD/github/recall_metrics/data/output_sets/Leukocyte_elastase/GB_GA_mut_r_0.5_250k/cOS_GB_GA_mut_r_0.5_250k_sim_2_one_column.csv\n",
      "EXIST\n",
      "MAIN FUNCTION\n"
     ]
    },
    {
     "data": {
      "text/plain": [
       "None"
      ]
     },
     "metadata": {},
     "output_type": "display_data"
    },
    {
     "name": "stdout",
     "output_type": "stream",
     "text": [
      "Čas běhu: 403.03 sekund\n",
      "NUMBER:  3\n",
      "/home/filv/PhD/github/recall_metrics/data/output_sets/Leukocyte_elastase/GB_GA_mut_r_0.5_250k/cOS_GB_GA_mut_r_0.5_250k_sim_3_one_column.csv\n",
      "EXIST\n",
      "MAIN FUNCTION\n"
     ]
    },
    {
     "data": {
      "text/plain": [
       "None"
      ]
     },
     "metadata": {},
     "output_type": "display_data"
    },
    {
     "name": "stdout",
     "output_type": "stream",
     "text": [
      "Čas běhu: 401.62 sekund\n",
      "NUMBER:  4\n",
      "/home/filv/PhD/github/recall_metrics/data/output_sets/Leukocyte_elastase/GB_GA_mut_r_0.5_250k/cOS_GB_GA_mut_r_0.5_250k_sim_4_one_column.csv\n",
      "EXIST\n",
      "MAIN FUNCTION\n"
     ]
    },
    {
     "data": {
      "text/plain": [
       "None"
      ]
     },
     "metadata": {},
     "output_type": "display_data"
    },
    {
     "name": "stdout",
     "output_type": "stream",
     "text": [
      "Čas běhu: 401.06 sekund\n",
      "NUMBER:  0\n",
      "/home/filv/PhD/github/recall_metrics/data/output_sets/Leukocyte_elastase/addcarbon_250k/cOS_addcarbon_250k_dis_0_one_column.csv\n",
      "EXIST\n",
      "MAIN FUNCTION\n"
     ]
    },
    {
     "data": {
      "text/plain": [
       "None"
      ]
     },
     "metadata": {},
     "output_type": "display_data"
    },
    {
     "name": "stdout",
     "output_type": "stream",
     "text": [
      "Čas běhu: 438.09 sekund\n",
      "NUMBER:  1\n",
      "/home/filv/PhD/github/recall_metrics/data/output_sets/Leukocyte_elastase/addcarbon_250k/cOS_addcarbon_250k_dis_1_one_column.csv\n",
      "EXIST\n",
      "MAIN FUNCTION\n"
     ]
    },
    {
     "data": {
      "text/plain": [
       "None"
      ]
     },
     "metadata": {},
     "output_type": "display_data"
    },
    {
     "name": "stdout",
     "output_type": "stream",
     "text": [
      "Čas běhu: 420.29 sekund\n",
      "NUMBER:  2\n",
      "/home/filv/PhD/github/recall_metrics/data/output_sets/Leukocyte_elastase/addcarbon_250k/cOS_addcarbon_250k_dis_2_one_column.csv\n",
      "EXIST\n",
      "MAIN FUNCTION\n"
     ]
    },
    {
     "data": {
      "text/plain": [
       "None"
      ]
     },
     "metadata": {},
     "output_type": "display_data"
    },
    {
     "name": "stdout",
     "output_type": "stream",
     "text": [
      "Čas běhu: 425.51 sekund\n",
      "NUMBER:  3\n",
      "/home/filv/PhD/github/recall_metrics/data/output_sets/Leukocyte_elastase/addcarbon_250k/cOS_addcarbon_250k_dis_3_one_column.csv\n",
      "EXIST\n",
      "MAIN FUNCTION\n"
     ]
    },
    {
     "data": {
      "text/plain": [
       "None"
      ]
     },
     "metadata": {},
     "output_type": "display_data"
    },
    {
     "name": "stdout",
     "output_type": "stream",
     "text": [
      "Čas běhu: 419.12 sekund\n",
      "NUMBER:  4\n",
      "/home/filv/PhD/github/recall_metrics/data/output_sets/Leukocyte_elastase/addcarbon_250k/cOS_addcarbon_250k_dis_4_one_column.csv\n",
      "EXIST\n",
      "MAIN FUNCTION\n"
     ]
    },
    {
     "data": {
      "text/plain": [
       "None"
      ]
     },
     "metadata": {},
     "output_type": "display_data"
    },
    {
     "name": "stdout",
     "output_type": "stream",
     "text": [
      "Čas běhu: 439.02 sekund\n",
      "NUMBER:  0\n",
      "/home/filv/PhD/github/recall_metrics/data/output_sets/Leukocyte_elastase/addcarbon_250k/cOS_addcarbon_250k_sim_0_one_column.csv\n",
      "EXIST\n",
      "MAIN FUNCTION\n"
     ]
    },
    {
     "data": {
      "text/plain": [
       "None"
      ]
     },
     "metadata": {},
     "output_type": "display_data"
    },
    {
     "name": "stdout",
     "output_type": "stream",
     "text": [
      "Čas běhu: 450.40 sekund\n",
      "NUMBER:  1\n",
      "/home/filv/PhD/github/recall_metrics/data/output_sets/Leukocyte_elastase/addcarbon_250k/cOS_addcarbon_250k_sim_1_one_column.csv\n",
      "EXIST\n",
      "MAIN FUNCTION\n"
     ]
    },
    {
     "data": {
      "text/plain": [
       "None"
      ]
     },
     "metadata": {},
     "output_type": "display_data"
    },
    {
     "name": "stdout",
     "output_type": "stream",
     "text": [
      "Čas běhu: 424.25 sekund\n",
      "NUMBER:  2\n",
      "/home/filv/PhD/github/recall_metrics/data/output_sets/Leukocyte_elastase/addcarbon_250k/cOS_addcarbon_250k_sim_2_one_column.csv\n",
      "EXIST\n",
      "MAIN FUNCTION\n"
     ]
    },
    {
     "data": {
      "text/plain": [
       "None"
      ]
     },
     "metadata": {},
     "output_type": "display_data"
    },
    {
     "name": "stdout",
     "output_type": "stream",
     "text": [
      "Čas běhu: 427.39 sekund\n",
      "NUMBER:  3\n",
      "/home/filv/PhD/github/recall_metrics/data/output_sets/Leukocyte_elastase/addcarbon_250k/cOS_addcarbon_250k_sim_3_one_column.csv\n",
      "EXIST\n",
      "MAIN FUNCTION\n"
     ]
    },
    {
     "data": {
      "text/plain": [
       "None"
      ]
     },
     "metadata": {},
     "output_type": "display_data"
    },
    {
     "name": "stdout",
     "output_type": "stream",
     "text": [
      "Čas běhu: 425.45 sekund\n",
      "NUMBER:  4\n",
      "/home/filv/PhD/github/recall_metrics/data/output_sets/Leukocyte_elastase/addcarbon_250k/cOS_addcarbon_250k_sim_4_one_column.csv\n",
      "EXIST\n",
      "MAIN FUNCTION\n"
     ]
    },
    {
     "data": {
      "text/plain": [
       "None"
      ]
     },
     "metadata": {},
     "output_type": "display_data"
    },
    {
     "name": "stdout",
     "output_type": "stream",
     "text": [
      "Čas běhu: 425.22 sekund\n"
     ]
    }
   ],
   "source": [
    "#type_cluster = 'dis' #options: 'dis'|'sim' \n",
    "type_phfp = 'cdpkit' #options: 'csk'|'murcko'\n",
    "#generator = 'Molpher_10k' #options: 'Molpher'|'DrugEx'|'REINVENT'|'addcarbon'\n",
    "#receptor = 'Leukocyte_elastase' #options: 'Glucocorticoid_receptor'|'Leukocyte_elastase'\n",
    "\n",
    "\n",
    "for receptor in ['Leukocyte_elastase']:\n",
    "    for generator in ['DrugEx_GT_epsilon_0.6_250k', 'DrugEx_RNN_epsilon_0.1_250k', 'DrugEx_RNN_epsilon_0.6_250k', 'GB_GA_mut_r_0.01_250k', 'GB_GA_mut_r_0.5_250k', 'addcarbon_250k']:\n",
    "        for type_cluster in ['dis', 'sim']:\n",
    "            for number in range(5):\n",
    "                start_time = time.time() \n",
    "                calculate_metrics(type_cluster,type_phfp,generator,receptor,number, ncpus = 10)\n",
    "        \n",
    "        \n",
    "                end_time = time.time()  # Konec měření\n",
    "        \n",
    "                elapsed_time = end_time - start_time  # Výpočet doby běhu\n",
    "                print(f\"Čas běhu: {elapsed_time:.2f} sekund\")\n",
    "                gc.collect() "
   ]
  },
  {
   "cell_type": "code",
   "execution_count": 3,
   "id": "a662648e-44a1-485f-b291-6d8a2b1c885f",
   "metadata": {},
   "outputs": [
    {
     "name": "stdout",
     "output_type": "stream",
     "text": [
      "NUMBER:  0\n",
      "/home/filv/PhD/github/recall_metrics/data/output_sets/Glucocorticoid_receptor/addcarbon_250k/cOS_addcarbon_250k_dis_0_one_column.csv\n",
      "EXIST\n",
      "MAIN FUNCTION\n"
     ]
    },
    {
     "data": {
      "text/plain": [
       "None"
      ]
     },
     "metadata": {},
     "output_type": "display_data"
    },
    {
     "name": "stdout",
     "output_type": "stream",
     "text": [
      "Čas běhu: 452.03 sekund\n",
      "NUMBER:  1\n",
      "/home/filv/PhD/github/recall_metrics/data/output_sets/Glucocorticoid_receptor/addcarbon_250k/cOS_addcarbon_250k_dis_1_one_column.csv\n",
      "EXIST\n",
      "MAIN FUNCTION\n"
     ]
    },
    {
     "data": {
      "text/plain": [
       "None"
      ]
     },
     "metadata": {},
     "output_type": "display_data"
    },
    {
     "name": "stdout",
     "output_type": "stream",
     "text": [
      "Čas běhu: 441.70 sekund\n",
      "NUMBER:  2\n",
      "/home/filv/PhD/github/recall_metrics/data/output_sets/Glucocorticoid_receptor/addcarbon_250k/cOS_addcarbon_250k_dis_2_one_column.csv\n",
      "EXIST\n",
      "MAIN FUNCTION\n"
     ]
    },
    {
     "data": {
      "text/plain": [
       "None"
      ]
     },
     "metadata": {},
     "output_type": "display_data"
    },
    {
     "name": "stdout",
     "output_type": "stream",
     "text": [
      "Čas běhu: 453.57 sekund\n",
      "NUMBER:  3\n",
      "/home/filv/PhD/github/recall_metrics/data/output_sets/Glucocorticoid_receptor/addcarbon_250k/cOS_addcarbon_250k_dis_3_one_column.csv\n",
      "EXIST\n",
      "MAIN FUNCTION\n"
     ]
    },
    {
     "data": {
      "text/plain": [
       "None"
      ]
     },
     "metadata": {},
     "output_type": "display_data"
    },
    {
     "name": "stdout",
     "output_type": "stream",
     "text": [
      "Čas běhu: 478.32 sekund\n",
      "NUMBER:  4\n",
      "/home/filv/PhD/github/recall_metrics/data/output_sets/Glucocorticoid_receptor/addcarbon_250k/cOS_addcarbon_250k_dis_4_one_column.csv\n",
      "EXIST\n",
      "MAIN FUNCTION\n"
     ]
    },
    {
     "data": {
      "text/plain": [
       "None"
      ]
     },
     "metadata": {},
     "output_type": "display_data"
    },
    {
     "name": "stdout",
     "output_type": "stream",
     "text": [
      "Čas běhu: 485.32 sekund\n",
      "NUMBER:  0\n",
      "/home/filv/PhD/github/recall_metrics/data/output_sets/Glucocorticoid_receptor/addcarbon_250k/cOS_addcarbon_250k_sim_0_one_column.csv\n",
      "EXIST\n",
      "MAIN FUNCTION\n"
     ]
    },
    {
     "data": {
      "text/plain": [
       "None"
      ]
     },
     "metadata": {},
     "output_type": "display_data"
    },
    {
     "name": "stdout",
     "output_type": "stream",
     "text": [
      "Čas běhu: 506.20 sekund\n",
      "NUMBER:  1\n",
      "/home/filv/PhD/github/recall_metrics/data/output_sets/Glucocorticoid_receptor/addcarbon_250k/cOS_addcarbon_250k_sim_1_one_column.csv\n",
      "EXIST\n",
      "MAIN FUNCTION\n"
     ]
    },
    {
     "data": {
      "text/plain": [
       "None"
      ]
     },
     "metadata": {},
     "output_type": "display_data"
    },
    {
     "name": "stdout",
     "output_type": "stream",
     "text": [
      "Čas běhu: 486.40 sekund\n",
      "NUMBER:  2\n",
      "/home/filv/PhD/github/recall_metrics/data/output_sets/Glucocorticoid_receptor/addcarbon_250k/cOS_addcarbon_250k_sim_2_one_column.csv\n",
      "EXIST\n",
      "MAIN FUNCTION\n"
     ]
    },
    {
     "data": {
      "text/plain": [
       "None"
      ]
     },
     "metadata": {},
     "output_type": "display_data"
    },
    {
     "name": "stdout",
     "output_type": "stream",
     "text": [
      "Čas běhu: 487.01 sekund\n",
      "NUMBER:  3\n",
      "/home/filv/PhD/github/recall_metrics/data/output_sets/Glucocorticoid_receptor/addcarbon_250k/cOS_addcarbon_250k_sim_3_one_column.csv\n",
      "EXIST\n",
      "MAIN FUNCTION\n"
     ]
    },
    {
     "data": {
      "text/plain": [
       "None"
      ]
     },
     "metadata": {},
     "output_type": "display_data"
    },
    {
     "name": "stdout",
     "output_type": "stream",
     "text": [
      "Čas běhu: 486.85 sekund\n",
      "NUMBER:  4\n",
      "/home/filv/PhD/github/recall_metrics/data/output_sets/Glucocorticoid_receptor/addcarbon_250k/cOS_addcarbon_250k_sim_4_one_column.csv\n",
      "EXIST\n",
      "MAIN FUNCTION\n"
     ]
    },
    {
     "data": {
      "text/plain": [
       "None"
      ]
     },
     "metadata": {},
     "output_type": "display_data"
    },
    {
     "name": "stdout",
     "output_type": "stream",
     "text": [
      "Čas běhu: 542.40 sekund\n"
     ]
    }
   ],
   "source": [
    "#type_cluster = 'dis' #options: 'dis'|'sim' \n",
    "type_phfp = 'cdpkit' #options: 'csk'|'murcko'\n",
    "#generator = 'Molpher_10k' #options: 'Molpher'|'DrugEx'|'REINVENT'|'addcarbon'\n",
    "#receptor = 'Leukocyte_elastase' #options: 'Glucocorticoid_receptor'|'Leukocyte_elastase'\n",
    "\n",
    "\n",
    "for receptor in ['Glucocorticoid_receptor']:\n",
    "    for generator in ['addcarbon_250k']:\n",
    "        for type_cluster in ['dis', 'sim']:\n",
    "            for number in range(5):\n",
    "                start_time = time.time() \n",
    "                calculate_metrics(type_cluster,type_phfp,generator,receptor,number, ncpus = 10)\n",
    "        \n",
    "        \n",
    "                end_time = time.time()  # Konec měření\n",
    "        \n",
    "                elapsed_time = end_time - start_time  # Výpočet doby běhu\n",
    "                print(f\"Čas běhu: {elapsed_time:.2f} sekund\")\n",
    "                gc.collect() "
   ]
  },
  {
   "cell_type": "code",
   "execution_count": 73,
   "id": "22b795f9-0487-4c4b-adf3-b3e276773013",
   "metadata": {},
   "outputs": [],
   "source": [
    "import rdkit\n",
    "import rdkit.Chem as Chem"
   ]
  },
  {
   "cell_type": "code",
   "execution_count": 82,
   "id": "24185932-1064-42f6-ae56-fda698ed36c9",
   "metadata": {},
   "outputs": [],
   "source": [
    "a = 'CC(C)(Cc1ccccc1)C(=O)OO[si]1cccc(C(F)(F)F)c1'\n",
    "b = 'N#Cc1cccc(C(=O)c2cc(=O)c(-c3ccccc3)c(-c3cccc(C(F)(F)F)c3)o2)c1'"
   ]
  },
  {
   "cell_type": "code",
   "execution_count": 83,
   "id": "8f814d38-6907-4e1c-abe3-55d832a235c0",
   "metadata": {},
   "outputs": [
    {
     "data": {
      "image/png": "[encoded data removed]",
      "text/plain": [
       "<rdkit.Chem.rdchem.Mol at 0x772146134270>"
      ]
     },
     "execution_count": 83,
     "metadata": {},
     "output_type": "execute_result"
    }
   ],
   "source": [
    "Chem.MolFromSmiles(a)"
   ]
  },
  {
   "cell_type": "code",
   "execution_count": null,
   "id": "a0080efe-da5c-4c18-a0c4-0ea08c3da19f",
   "metadata": {},
   "outputs": [],
   "source": []
  },
  {
   "cell_type": "code",
   "execution_count": 1,
   "id": "b87aed23-20b5-4fa6-9177-e81b77604a62",
   "metadata": {},
   "outputs": [
    {
     "data": {
      "text/plain": [
       "<module 'src.metrics_ph4_calculate' from '/home/filv/PhD/github/recall_metrics/src/metrics_ph4_calculate.py'>"
      ]
     },
     "execution_count": 1,
     "metadata": {},
     "output_type": "execute_result"
    }
   ],
   "source": [
    "import time\n",
    "from src import metrics_ph4_calculate # Importing custom metric functions\n",
    "import importlib as imp\n",
    "imp.reload(metrics_ph4_calculate)"
   ]
  },
  {
   "cell_type": "code",
   "execution_count": 2,
   "id": "2fbb5f5b-b21e-40ce-b2cf-c4a73c1c1ff8",
   "metadata": {},
   "outputs": [],
   "source": [
    "def calculate_metrics_(type_cluster, type_phfp, generator, receptor, ncpus=1):\n",
    "    \"\"\"\n",
    "    Function to calculate molecular generation metrics.\n",
    "    \n",
    "    Parameters:\n",
    "    - scaffold_type: Type of scaffold (e.g., 'csk' or 'murcko')\n",
    "    - type_cluster: Cluster type  (e.g., 'dis' or 'sim')\n",
    "    - generator: Name of the molecular generator\n",
    "    - receptor: Target receptor for drug design\n",
    "\n",
    "    Returns:\n",
    "    - Computed metrics\n",
    "    \"\"\"\n",
    "    mt = metrics_ph4_calculate.Metrics_phfp(type_cluster, type_phfp, generator, receptor, ncpus)     \n",
    "    result = mt.calculate()\n",
    "    display(result)\n",
    "    return result"
   ]
  },
  {
   "cell_type": "code",
   "execution_count": 4,
   "id": "63b29688-166e-494d-aad3-e0aa35c0ae4b",
   "metadata": {
    "scrolled": true
   },
   "outputs": [
    {
     "name": "stdout",
     "output_type": "stream",
     "text": [
      "/home/filv/PhD/github/recall_metrics/data/results_phram_fp/Leukocyte_elastase/cdpkit/dis/DrugEx_RNN_epsilon_0.6_250k/phfp_of_output_set_cluster_0_dis_DrugEx_RNN_epsilon_0.6_250k.csv\n",
      "EXIST\n",
      "ORIGINAL RECALL LEN:  364\n",
      "UNIQUE RECALL LEN:  275\n",
      "RECAL FP LEN:  275\n",
      "END CREATE MATCHING\n",
      "END CALCULATE METRICS\n",
      "DIVERSITY END\n",
      "                            name type_cluster    phfp     UFo     SSo  TUPOR_  \\\n",
      "0  DrugEx_RNN_epsilon_0.6_250k_0          dis  cdpkit  240720  250000  83/275   \n",
      "\n",
      "      TUPOR     SESY      ASER  CwAFo       ACR  DIV  \n",
      "0  0.301818  0.96288  0.001566    391  0.000345    0  \n",
      "/home/filv/PhD/github/recall_metrics/data/results_phram_fp/Leukocyte_elastase/cdpkit/dis/DrugEx_RNN_epsilon_0.6_250k/phfp_of_output_set_cluster_1_dis_DrugEx_RNN_epsilon_0.6_250k.csv\n",
      "EXIST\n",
      "ORIGINAL RECALL LEN:  238\n",
      "UNIQUE RECALL LEN:  179\n",
      "RECAL FP LEN:  179\n",
      "END CREATE MATCHING\n",
      "END CALCULATE METRICS\n",
      "DIVERSITY END\n",
      "                            name type_cluster    phfp     UFo     SSo  TUPOR_  \\\n",
      "0  DrugEx_RNN_epsilon_0.6_250k_1          dis  cdpkit  240214  250000  10/179   \n",
      "\n",
      "      TUPOR      SESY     ASER  CwAFo       ACR  DIV  \n",
      "0  0.055866  0.960856  0.00022     55  0.000042    0  \n",
      "/home/filv/PhD/github/recall_metrics/data/results_phram_fp/Leukocyte_elastase/cdpkit/dis/DrugEx_RNN_epsilon_0.6_250k/phfp_of_output_set_cluster_2_dis_DrugEx_RNN_epsilon_0.6_250k.csv\n",
      "EXIST\n",
      "ORIGINAL RECALL LEN:  156\n",
      "UNIQUE RECALL LEN:  130\n",
      "RECAL FP LEN:  130\n",
      "END CREATE MATCHING\n",
      "END CALCULATE METRICS\n",
      "DIVERSITY END\n",
      "                            name type_cluster    phfp     UFo     SSo  TUPOR_  \\\n",
      "0  DrugEx_RNN_epsilon_0.6_250k_2          dis  cdpkit  243529  250000  43/130   \n",
      "\n",
      "      TUPOR      SESY      ASER  CwAFo       ACR  DIV  \n",
      "0  0.330769  0.974116  0.000476    119  0.000177    0  \n",
      "/home/filv/PhD/github/recall_metrics/data/results_phram_fp/Leukocyte_elastase/cdpkit/dis/DrugEx_RNN_epsilon_0.6_250k/phfp_of_output_set_cluster_3_dis_DrugEx_RNN_epsilon_0.6_250k.csv\n",
      "EXIST\n",
      "ORIGINAL RECALL LEN:  114\n",
      "UNIQUE RECALL LEN:  98\n",
      "RECAL FP LEN:  98\n",
      "END CREATE MATCHING\n",
      "END CALCULATE METRICS\n",
      "DIVERSITY END\n",
      "                            name type_cluster    phfp     UFo     SSo TUPOR_  \\\n",
      "0  DrugEx_RNN_epsilon_0.6_250k_3          dis  cdpkit  237572  250000   2/98   \n",
      "\n",
      "      TUPOR      SESY      ASER  CwAFo       ACR  DIV  \n",
      "0  0.020408  0.950288  0.000016      4  0.000008    0  \n",
      "/home/filv/PhD/github/recall_metrics/data/results_phram_fp/Leukocyte_elastase/cdpkit/dis/DrugEx_RNN_epsilon_0.6_250k/phfp_of_output_set_cluster_4_dis_DrugEx_RNN_epsilon_0.6_250k.csv\n",
      "EXIST\n",
      "ORIGINAL RECALL LEN:  188\n",
      "UNIQUE RECALL LEN:  152\n",
      "RECAL FP LEN:  152\n",
      "END CREATE MATCHING\n",
      "END CALCULATE METRICS\n",
      "DIVERSITY END\n",
      "                            name type_cluster    phfp     UFo     SSo  TUPOR_  \\\n",
      "0  DrugEx_RNN_epsilon_0.6_250k_4          dis  cdpkit  236346  250000  29/152   \n",
      "\n",
      "      TUPOR      SESY      ASER  CwAFo       ACR  DIV  \n",
      "0  0.190789  0.945384  0.000777    194  0.000123    0  \n"
     ]
    },
    {
     "data": {
      "text/plain": [
       "None"
      ]
     },
     "metadata": {},
     "output_type": "display_data"
    },
    {
     "name": "stdout",
     "output_type": "stream",
     "text": [
      "Čas běhu: 1168.08 sekund\n",
      "/home/filv/PhD/github/recall_metrics/data/results_phram_fp/Leukocyte_elastase/cdpkit/dis/GB_GA_mut_r_0.01_250k/phfp_of_output_set_cluster_0_dis_GB_GA_mut_r_0.01_250k.csv\n",
      "EXIST\n",
      "ORIGINAL RECALL LEN:  364\n",
      "UNIQUE RECALL LEN:  275\n",
      "RECAL FP LEN:  275\n",
      "END CREATE MATCHING\n",
      "END CALCULATE METRICS\n",
      "DIVERSITY END\n",
      "                      name type_cluster    phfp     UFo     SSo TUPOR_  TUPOR  \\\n",
      "0  GB_GA_mut_r_0.01_250k_0          dis  cdpkit  239191  250000  0/275    0.0   \n",
      "\n",
      "       SESY  ASER  CwAFo  ACR  DIV  \n",
      "0  0.956764   0.0      0  0.0    0  \n",
      "/home/filv/PhD/github/recall_metrics/data/results_phram_fp/Leukocyte_elastase/cdpkit/dis/GB_GA_mut_r_0.01_250k/phfp_of_output_set_cluster_1_dis_GB_GA_mut_r_0.01_250k.csv\n",
      "EXIST\n",
      "ORIGINAL RECALL LEN:  238\n",
      "UNIQUE RECALL LEN:  179\n",
      "RECAL FP LEN:  179\n",
      "END CREATE MATCHING\n",
      "END CALCULATE METRICS\n",
      "DIVERSITY END\n",
      "                      name type_cluster    phfp     UFo     SSo TUPOR_  TUPOR  \\\n",
      "0  GB_GA_mut_r_0.01_250k_1          dis  cdpkit  240619  250000  0/179    0.0   \n",
      "\n",
      "       SESY  ASER  CwAFo  ACR  DIV  \n",
      "0  0.962476   0.0      0  0.0    0  \n",
      "/home/filv/PhD/github/recall_metrics/data/results_phram_fp/Leukocyte_elastase/cdpkit/dis/GB_GA_mut_r_0.01_250k/phfp_of_output_set_cluster_2_dis_GB_GA_mut_r_0.01_250k.csv\n",
      "EXIST\n",
      "ORIGINAL RECALL LEN:  156\n",
      "UNIQUE RECALL LEN:  130\n",
      "RECAL FP LEN:  130\n",
      "END CREATE MATCHING\n",
      "END CALCULATE METRICS\n",
      "DIVERSITY END\n",
      "                      name type_cluster    phfp     UFo     SSo TUPOR_  TUPOR  \\\n",
      "0  GB_GA_mut_r_0.01_250k_2          dis  cdpkit  240079  250000  0/130    0.0   \n",
      "\n",
      "       SESY  ASER  CwAFo  ACR  DIV  \n",
      "0  0.960316   0.0      0  0.0    0  \n",
      "/home/filv/PhD/github/recall_metrics/data/results_phram_fp/Leukocyte_elastase/cdpkit/dis/GB_GA_mut_r_0.01_250k/phfp_of_output_set_cluster_3_dis_GB_GA_mut_r_0.01_250k.csv\n",
      "EXIST\n",
      "ORIGINAL RECALL LEN:  114\n",
      "UNIQUE RECALL LEN:  98\n",
      "RECAL FP LEN:  98\n",
      "END CREATE MATCHING\n",
      "END CALCULATE METRICS\n",
      "DIVERSITY END\n",
      "                      name type_cluster    phfp     UFo     SSo TUPOR_  TUPOR  \\\n",
      "0  GB_GA_mut_r_0.01_250k_3          dis  cdpkit  239496  250000   0/98    0.0   \n",
      "\n",
      "       SESY  ASER  CwAFo  ACR  DIV  \n",
      "0  0.957984   0.0      0  0.0    0  \n",
      "/home/filv/PhD/github/recall_metrics/data/results_phram_fp/Leukocyte_elastase/cdpkit/dis/GB_GA_mut_r_0.01_250k/phfp_of_output_set_cluster_4_dis_GB_GA_mut_r_0.01_250k.csv\n",
      "EXIST\n",
      "ORIGINAL RECALL LEN:  188\n",
      "UNIQUE RECALL LEN:  152\n",
      "RECAL FP LEN:  152\n",
      "END CREATE MATCHING\n",
      "END CALCULATE METRICS\n",
      "DIVERSITY END\n",
      "                      name type_cluster    phfp     UFo     SSo TUPOR_  TUPOR  \\\n",
      "0  GB_GA_mut_r_0.01_250k_4          dis  cdpkit  239364  250000  0/152    0.0   \n",
      "\n",
      "       SESY  ASER  CwAFo  ACR  DIV  \n",
      "0  0.957456   0.0      0  0.0    0  \n"
     ]
    },
    {
     "data": {
      "text/plain": [
       "None"
      ]
     },
     "metadata": {},
     "output_type": "display_data"
    },
    {
     "name": "stdout",
     "output_type": "stream",
     "text": [
      "Čas běhu: 1159.69 sekund\n",
      "/home/filv/PhD/github/recall_metrics/data/results_phram_fp/Leukocyte_elastase/cdpkit/dis/GB_GA_mut_r_0.5_250k/phfp_of_output_set_cluster_0_dis_GB_GA_mut_r_0.5_250k.csv\n",
      "EXIST\n",
      "ORIGINAL RECALL LEN:  364\n",
      "UNIQUE RECALL LEN:  275\n",
      "RECAL FP LEN:  275\n",
      "END CREATE MATCHING\n",
      "END CALCULATE METRICS\n",
      "DIVERSITY END\n",
      "                     name type_cluster    phfp     UFo     SSo TUPOR_  TUPOR  \\\n",
      "0  GB_GA_mut_r_0.5_250k_0          dis  cdpkit  242032  250000  0/275    0.0   \n",
      "\n",
      "       SESY  ASER  CwAFo  ACR  DIV  \n",
      "0  0.968128   0.0      0  0.0    0  \n",
      "/home/filv/PhD/github/recall_metrics/data/results_phram_fp/Leukocyte_elastase/cdpkit/dis/GB_GA_mut_r_0.5_250k/phfp_of_output_set_cluster_1_dis_GB_GA_mut_r_0.5_250k.csv\n",
      "EXIST\n",
      "ORIGINAL RECALL LEN:  238\n",
      "UNIQUE RECALL LEN:  179\n",
      "RECAL FP LEN:  179\n",
      "END CREATE MATCHING\n",
      "END CALCULATE METRICS\n",
      "DIVERSITY END\n",
      "                     name type_cluster    phfp     UFo     SSo TUPOR_  TUPOR  \\\n",
      "0  GB_GA_mut_r_0.5_250k_1          dis  cdpkit  242070  250000  0/179    0.0   \n",
      "\n",
      "      SESY  ASER  CwAFo  ACR  DIV  \n",
      "0  0.96828   0.0      0  0.0    0  \n",
      "/home/filv/PhD/github/recall_metrics/data/results_phram_fp/Leukocyte_elastase/cdpkit/dis/GB_GA_mut_r_0.5_250k/phfp_of_output_set_cluster_2_dis_GB_GA_mut_r_0.5_250k.csv\n",
      "EXIST\n",
      "ORIGINAL RECALL LEN:  156\n",
      "UNIQUE RECALL LEN:  130\n",
      "RECAL FP LEN:  130\n",
      "END CREATE MATCHING\n",
      "END CALCULATE METRICS\n",
      "DIVERSITY END\n",
      "                     name type_cluster    phfp     UFo     SSo TUPOR_  TUPOR  \\\n",
      "0  GB_GA_mut_r_0.5_250k_2          dis  cdpkit  243700  250000  0/130    0.0   \n",
      "\n",
      "     SESY  ASER  CwAFo  ACR  DIV  \n",
      "0  0.9748   0.0      0  0.0    0  \n",
      "/home/filv/PhD/github/recall_metrics/data/results_phram_fp/Leukocyte_elastase/cdpkit/dis/GB_GA_mut_r_0.5_250k/phfp_of_output_set_cluster_3_dis_GB_GA_mut_r_0.5_250k.csv\n",
      "EXIST\n",
      "ORIGINAL RECALL LEN:  114\n",
      "UNIQUE RECALL LEN:  98\n",
      "RECAL FP LEN:  98\n",
      "END CREATE MATCHING\n",
      "END CALCULATE METRICS\n",
      "DIVERSITY END\n",
      "                     name type_cluster    phfp     UFo     SSo TUPOR_  TUPOR  \\\n",
      "0  GB_GA_mut_r_0.5_250k_3          dis  cdpkit  245551  250000   0/98    0.0   \n",
      "\n",
      "       SESY  ASER  CwAFo  ACR  DIV  \n",
      "0  0.982204   0.0      0  0.0    0  \n",
      "/home/filv/PhD/github/recall_metrics/data/results_phram_fp/Leukocyte_elastase/cdpkit/dis/GB_GA_mut_r_0.5_250k/phfp_of_output_set_cluster_4_dis_GB_GA_mut_r_0.5_250k.csv\n",
      "EXIST\n",
      "ORIGINAL RECALL LEN:  188\n",
      "UNIQUE RECALL LEN:  152\n",
      "RECAL FP LEN:  152\n",
      "END CREATE MATCHING\n",
      "END CALCULATE METRICS\n",
      "DIVERSITY END\n",
      "                     name type_cluster    phfp     UFo     SSo TUPOR_  TUPOR  \\\n",
      "0  GB_GA_mut_r_0.5_250k_4          dis  cdpkit  242334  250000  0/152    0.0   \n",
      "\n",
      "       SESY  ASER  CwAFo  ACR  DIV  \n",
      "0  0.969336   0.0      0  0.0    0  \n"
     ]
    },
    {
     "data": {
      "text/plain": [
       "None"
      ]
     },
     "metadata": {},
     "output_type": "display_data"
    },
    {
     "name": "stdout",
     "output_type": "stream",
     "text": [
      "Čas běhu: 1144.87 sekund\n",
      "/home/filv/PhD/github/recall_metrics/data/results_phram_fp/Leukocyte_elastase/cdpkit/dis/addcarbon_250k/phfp_of_output_set_cluster_0_dis_addcarbon_250k.csv\n",
      "EXIST\n",
      "ORIGINAL RECALL LEN:  364\n",
      "UNIQUE RECALL LEN:  275\n",
      "RECAL FP LEN:  275\n",
      "END CREATE MATCHING\n",
      "END CALCULATE METRICS\n",
      "DIVERSITY END\n",
      "               name type_cluster    phfp    UFo     SSo  TUPOR_     TUPOR  \\\n",
      "0  addcarbon_250k_0          dis  cdpkit  10473  250000  35/275  0.127273   \n",
      "\n",
      "       SESY      ASER  CwAFo       ACR  DIV  \n",
      "0  0.041892  0.013968   3444  0.003353    0  \n",
      "/home/filv/PhD/github/recall_metrics/data/results_phram_fp/Leukocyte_elastase/cdpkit/dis/addcarbon_250k/phfp_of_output_set_cluster_1_dis_addcarbon_250k.csv\n",
      "EXIST\n",
      "ORIGINAL RECALL LEN:  238\n",
      "UNIQUE RECALL LEN:  179\n",
      "RECAL FP LEN:  179\n",
      "END CREATE MATCHING\n",
      "END CALCULATE METRICS\n",
      "DIVERSITY END\n",
      "               name type_cluster    phfp    UFo     SSo TUPOR_    TUPOR  \\\n",
      "0  addcarbon_250k_1          dis  cdpkit  12377  250000  6/179  0.03352   \n",
      "\n",
      "       SESY      ASER  CwAFo       ACR  DIV  \n",
      "0  0.049508  0.002345    585  0.000485    0  \n",
      "/home/filv/PhD/github/recall_metrics/data/results_phram_fp/Leukocyte_elastase/cdpkit/dis/addcarbon_250k/phfp_of_output_set_cluster_2_dis_addcarbon_250k.csv\n",
      "EXIST\n",
      "ORIGINAL RECALL LEN:  156\n",
      "UNIQUE RECALL LEN:  130\n",
      "RECAL FP LEN:  130\n",
      "END CREATE MATCHING\n",
      "END CALCULATE METRICS\n",
      "DIVERSITY END\n",
      "               name type_cluster    phfp    UFo     SSo  TUPOR_     TUPOR  \\\n",
      "0  addcarbon_250k_2          dis  cdpkit  12900  250000  35/130  0.269231   \n",
      "\n",
      "     SESY      ASER  CwAFo       ACR  DIV  \n",
      "0  0.0516  0.008821   2186  0.002721    0  \n",
      "/home/filv/PhD/github/recall_metrics/data/results_phram_fp/Leukocyte_elastase/cdpkit/dis/addcarbon_250k/phfp_of_output_set_cluster_3_dis_addcarbon_250k.csv\n",
      "EXIST\n",
      "ORIGINAL RECALL LEN:  114\n",
      "UNIQUE RECALL LEN:  98\n",
      "RECAL FP LEN:  98\n",
      "END CREATE MATCHING\n",
      "END CALCULATE METRICS\n",
      "DIVERSITY END\n",
      "               name type_cluster    phfp    UFo     SSo TUPOR_     TUPOR  \\\n",
      "0  addcarbon_250k_3          dis  cdpkit  12979  250000   3/98  0.030612   \n",
      "\n",
      "       SESY      ASER  CwAFo       ACR  DIV  \n",
      "0  0.051916  0.000432    108  0.000231    0  \n",
      "/home/filv/PhD/github/recall_metrics/data/results_phram_fp/Leukocyte_elastase/cdpkit/dis/addcarbon_250k/phfp_of_output_set_cluster_4_dis_addcarbon_250k.csv\n",
      "EXIST\n",
      "ORIGINAL RECALL LEN:  188\n",
      "UNIQUE RECALL LEN:  152\n",
      "RECAL FP LEN:  152\n",
      "END CREATE MATCHING\n",
      "END CALCULATE METRICS\n",
      "DIVERSITY END\n",
      "               name type_cluster    phfp    UFo     SSo  TUPOR_     TUPOR  \\\n",
      "0  addcarbon_250k_4          dis  cdpkit  13183  250000  15/152  0.098684   \n",
      "\n",
      "       SESY      ASER  CwAFo       ACR  DIV  \n",
      "0  0.052732  0.005231   1301  0.001139    0  \n"
     ]
    },
    {
     "data": {
      "text/plain": [
       "None"
      ]
     },
     "metadata": {},
     "output_type": "display_data"
    },
    {
     "name": "stdout",
     "output_type": "stream",
     "text": [
      "Čas běhu: 1619.05 sekund\n"
     ]
    }
   ],
   "source": [
    "#type_cluster = 'dis' #options: 'dis'|'sim' \n",
    "type_phfp = 'cdpkit' #options: 'csk'|'murcko'\n",
    "#generator = 'DrugEx_GT_epsilon_0.1' #options: 'Molpher'|'DrugEx'|'REINVENT'|'addcarbon'\n",
    "#receptor = 'Leukocyte_elastase' #options: 'Glucocorticoid_receptor'|'Leukocyte_elastase'\n",
    "#'Molpher_250k','REINVENT_250k', 'DrugEx_GT_epsilon_0.6_250k', 'DrugEx_RNN_epsilon_0.1_250k',\n",
    "\n",
    "for receptor in ['Leukocyte_elastase']:\n",
    "    for generator in [ 'DrugEx_RNN_epsilon_0.6_250k', 'GB_GA_mut_r_0.01_250k', 'GB_GA_mut_r_0.5_250k', 'addcarbon_250k']:\n",
    "        for type_cluster in ['dis']:\n",
    "            start_time = time.time() \n",
    "            calculate_metrics_(type_cluster,type_phfp,generator,receptor, 10)\n",
    "    \n",
    "    \n",
    "            end_time = time.time()  # Konec měření\n",
    "    \n",
    "            elapsed_time = end_time - start_time  # Výpočet doby běhu\n",
    "            print(f\"Čas běhu: {elapsed_time:.2f} sekund\")"
   ]
  },
  {
   "cell_type": "code",
   "execution_count": null,
   "id": "cde6203f-9caf-4da6-a3d1-7cbcf2fd49af",
   "metadata": {
    "scrolled": true
   },
   "outputs": [
    {
     "name": "stdout",
     "output_type": "stream",
     "text": [
      "/home/filv/PhD/github/recall_metrics/data/results_phram_fp/Glucocorticoid_receptor/cdpkit/dis/Molpher_250k/phfp_of_output_set_cluster_0_dis_Molpher_250k.csv\n",
      "EXIST\n",
      "ORIGINAL RECALL LEN:  180\n",
      "UNIQUE RECALL LEN:  149\n",
      "RECAL FP LEN:  149\n",
      "END CREATE MATCHING\n",
      "END CALCULATE METRICS\n",
      "DIVERSITY END\n",
      "             name type_cluster    phfp     UFo     SSo TUPOR_     TUPOR  \\\n",
      "0  Molpher_250k_0          dis  cdpkit  192880  250033  4/149  0.026846   \n",
      "\n",
      "       SESY      ASER  CwAFo       ACR  DIV  \n",
      "0  0.771418  0.000424    106  0.000021    0  \n",
      "/home/filv/PhD/github/recall_metrics/data/results_phram_fp/Glucocorticoid_receptor/cdpkit/dis/Molpher_250k/phfp_of_output_set_cluster_1_dis_Molpher_250k.csv\n",
      "EXIST\n",
      "ORIGINAL RECALL LEN:  63\n",
      "UNIQUE RECALL LEN:  53\n",
      "RECAL FP LEN:  53\n",
      "END CREATE MATCHING\n",
      "END CALCULATE METRICS\n",
      "DIVERSITY END\n",
      "             name type_cluster    phfp     UFo     SSo TUPOR_     TUPOR  \\\n",
      "0  Molpher_250k_1          dis  cdpkit  223258  285349   6/53  0.113208   \n",
      "\n",
      "       SESY      ASER  CwAFo       ACR  DIV  \n",
      "0  0.782403  0.000077     22  0.000027    0  \n",
      "/home/filv/PhD/github/recall_metrics/data/results_phram_fp/Glucocorticoid_receptor/cdpkit/dis/Molpher_250k/phfp_of_output_set_cluster_2_dis_Molpher_250k.csv\n",
      "EXIST\n",
      "ORIGINAL RECALL LEN:  186\n",
      "UNIQUE RECALL LEN:  154\n",
      "RECAL FP LEN:  154\n",
      "END CREATE MATCHING\n",
      "END CALCULATE METRICS\n",
      "DIVERSITY END\n",
      "             name type_cluster    phfp     UFo     SSo TUPOR_     TUPOR  \\\n",
      "0  Molpher_250k_2          dis  cdpkit  195388  250104  1/154  0.006494   \n",
      "\n",
      "       SESY      ASER  CwAFo       ACR  DIV  \n",
      "0  0.781227  0.000004      1  0.000005    0  \n",
      "/home/filv/PhD/github/recall_metrics/data/results_phram_fp/Glucocorticoid_receptor/cdpkit/dis/Molpher_250k/phfp_of_output_set_cluster_3_dis_Molpher_250k.csv\n",
      "EXIST\n",
      "ORIGINAL RECALL LEN:  229\n",
      "UNIQUE RECALL LEN:  196\n",
      "RECAL FP LEN:  196\n",
      "END CREATE MATCHING\n",
      "END CALCULATE METRICS\n",
      "DIVERSITY END\n",
      "             name type_cluster    phfp     UFo     SSo TUPOR_     TUPOR  \\\n",
      "0  Molpher_250k_3          dis  cdpkit  193432  250083  7/196  0.035714   \n",
      "\n",
      "       SESY      ASER  CwAFo       ACR  DIV  \n",
      "0  0.773471  0.000764    191  0.000036    0  \n",
      "/home/filv/PhD/github/recall_metrics/data/results_phram_fp/Glucocorticoid_receptor/cdpkit/dis/Molpher_250k/phfp_of_output_set_cluster_4_dis_Molpher_250k.csv\n",
      "EXIST\n",
      "ORIGINAL RECALL LEN:  304\n",
      "UNIQUE RECALL LEN:  279\n",
      "RECAL FP LEN:  279\n",
      "END CREATE MATCHING\n",
      "END CALCULATE METRICS\n",
      "DIVERSITY END\n",
      "             name type_cluster    phfp     UFo     SSo  TUPOR_     TUPOR  \\\n",
      "0  Molpher_250k_4          dis  cdpkit  192580  250280  10/279  0.035842   \n",
      "\n",
      "       SESY      ASER  CwAFo       ACR  DIV  \n",
      "0  0.769458  0.000644    161  0.000052    0  \n"
     ]
    },
    {
     "data": {
      "text/plain": [
       "None"
      ]
     },
     "metadata": {},
     "output_type": "display_data"
    },
    {
     "name": "stdout",
     "output_type": "stream",
     "text": [
      "Čas běhu: 1166.03 sekund\n",
      "/home/filv/PhD/github/recall_metrics/data/results_phram_fp/Glucocorticoid_receptor/cdpkit/sim/Molpher_250k/phfp_of_output_set_cluster_0_sim_Molpher_250k.csv\n",
      "EXIST\n",
      "ORIGINAL RECALL LEN:  486\n",
      "UNIQUE RECALL LEN:  411\n",
      "RECAL FP LEN:  411\n",
      "END CREATE MATCHING\n",
      "END CALCULATE METRICS\n",
      "DIVERSITY END\n",
      "             name type_cluster    phfp     UFo     SSo  TUPOR_     TUPOR  \\\n",
      "0  Molpher_250k_0          sim  cdpkit  193678  250545  34/411  0.082725   \n",
      "\n",
      "       SESY      ASER  CwAFo       ACR  DIV  \n",
      "0  0.773027  0.002004    501  0.000176    0  \n",
      "/home/filv/PhD/github/recall_metrics/data/results_phram_fp/Glucocorticoid_receptor/cdpkit/sim/Molpher_250k/phfp_of_output_set_cluster_1_sim_Molpher_250k.csv\n",
      "EXIST\n",
      "ORIGINAL RECALL LEN:  236\n",
      "UNIQUE RECALL LEN:  207\n",
      "RECAL FP LEN:  207\n",
      "END CREATE MATCHING\n",
      "END CALCULATE METRICS\n",
      "DIVERSITY END\n",
      "             name type_cluster    phfp     UFo     SSo  TUPOR_    TUPOR  \\\n",
      "0  Molpher_250k_1          sim  cdpkit  195103  250030  11/207  0.05314   \n",
      "\n",
      "       SESY      ASER  CwAFo       ACR  DIV  \n",
      "0  0.780318  0.001017    254  0.000056    0  \n",
      "/home/filv/PhD/github/recall_metrics/data/results_phram_fp/Glucocorticoid_receptor/cdpkit/sim/Molpher_250k/phfp_of_output_set_cluster_2_sim_Molpher_250k.csv\n",
      "EXIST\n",
      "ORIGINAL RECALL LEN:  135\n",
      "UNIQUE RECALL LEN:  121\n",
      "RECAL FP LEN:  121\n",
      "END CREATE MATCHING\n",
      "END CALCULATE METRICS\n",
      "DIVERSITY END\n",
      "             name type_cluster    phfp     UFo     SSo  TUPOR_     TUPOR  \\\n",
      "0  Molpher_250k_2          sim  cdpkit  194312  250104  12/121  0.099174   \n",
      "\n",
      "       SESY      ASER  CwAFo       ACR  DIV  \n",
      "0  0.776925  0.001113    278  0.000062    0  \n",
      "/home/filv/PhD/github/recall_metrics/data/results_phram_fp/Glucocorticoid_receptor/cdpkit/sim/Molpher_250k/phfp_of_output_set_cluster_3_sim_Molpher_250k.csv\n",
      "EXIST\n",
      "ORIGINAL RECALL LEN:  63\n",
      "UNIQUE RECALL LEN:  58\n",
      "RECAL FP LEN:  58\n",
      "END CREATE MATCHING\n",
      "END CALCULATE METRICS\n",
      "DIVERSITY END\n",
      "             name type_cluster    phfp     UFo     SSo TUPOR_     TUPOR  \\\n",
      "0  Molpher_250k_3          sim  cdpkit  195219  250056  14/58  0.241379   \n",
      "\n",
      "       SESY      ASER  CwAFo       ACR  DIV  \n",
      "0  0.780701  0.000684    171  0.000072    0  \n",
      "/home/filv/PhD/github/recall_metrics/data/results_phram_fp/Glucocorticoid_receptor/cdpkit/sim/Molpher_250k/phfp_of_output_set_cluster_4_sim_Molpher_250k.csv\n",
      "EXIST\n",
      "ORIGINAL RECALL LEN:  42\n",
      "UNIQUE RECALL LEN:  42\n",
      "RECAL FP LEN:  42\n",
      "END CREATE MATCHING\n",
      "END CALCULATE METRICS\n",
      "DIVERSITY END\n",
      "             name type_cluster    phfp     UFo     SSo TUPOR_     TUPOR  \\\n",
      "0  Molpher_250k_4          sim  cdpkit  195657  250229  10/42  0.238095   \n",
      "\n",
      "       SESY      ASER  CwAFo       ACR  DIV  \n",
      "0  0.781912  0.000952    238  0.000051    0  \n"
     ]
    },
    {
     "data": {
      "text/plain": [
       "None"
      ]
     },
     "metadata": {},
     "output_type": "display_data"
    },
    {
     "name": "stdout",
     "output_type": "stream",
     "text": [
      "Čas běhu: 1598.76 sekund\n",
      "/home/filv/PhD/github/recall_metrics/data/results_phram_fp/Glucocorticoid_receptor/cdpkit/dis/DrugEx_GT_epsilon_0.6_250k/phfp_of_output_set_cluster_0_dis_DrugEx_GT_epsilon_0.6_250k.csv\n",
      "EXIST\n",
      "ORIGINAL RECALL LEN:  180\n",
      "UNIQUE RECALL LEN:  149\n",
      "RECAL FP LEN:  149\n",
      "END CREATE MATCHING\n",
      "END CALCULATE METRICS\n",
      "DIVERSITY END\n",
      "                           name type_cluster    phfp     UFo     SSo TUPOR_  \\\n",
      "0  DrugEx_GT_epsilon_0.6_250k_0          dis  cdpkit  246179  250000  7/149   \n",
      "\n",
      "     TUPOR      SESY     ASER  CwAFo       ACR  DIV  \n",
      "0  0.04698  0.984716  0.00004     10  0.000028    0  \n",
      "/home/filv/PhD/github/recall_metrics/data/results_phram_fp/Glucocorticoid_receptor/cdpkit/dis/DrugEx_GT_epsilon_0.6_250k/phfp_of_output_set_cluster_1_dis_DrugEx_GT_epsilon_0.6_250k.csv\n",
      "EXIST\n",
      "ORIGINAL RECALL LEN:  63\n",
      "UNIQUE RECALL LEN:  53\n",
      "RECAL FP LEN:  53\n",
      "END CREATE MATCHING\n",
      "END CALCULATE METRICS\n",
      "DIVERSITY END\n",
      "                           name type_cluster    phfp     UFo     SSo TUPOR_  \\\n",
      "0  DrugEx_GT_epsilon_0.6_250k_1          dis  cdpkit  246351  250000   8/53   \n",
      "\n",
      "      TUPOR      SESY     ASER  CwAFo       ACR  DIV  \n",
      "0  0.150943  0.985404  0.00008     20  0.000032    0  \n",
      "/home/filv/PhD/github/recall_metrics/data/results_phram_fp/Glucocorticoid_receptor/cdpkit/dis/DrugEx_GT_epsilon_0.6_250k/phfp_of_output_set_cluster_2_dis_DrugEx_GT_epsilon_0.6_250k.csv\n",
      "EXIST\n",
      "ORIGINAL RECALL LEN:  186\n",
      "UNIQUE RECALL LEN:  154\n",
      "RECAL FP LEN:  154\n",
      "END CREATE MATCHING\n",
      "END CALCULATE METRICS\n",
      "DIVERSITY END\n",
      "                           name type_cluster    phfp     UFo     SSo TUPOR_  \\\n",
      "0  DrugEx_GT_epsilon_0.6_250k_2          dis  cdpkit  246291  250000  0/154   \n",
      "\n",
      "   TUPOR      SESY  ASER  CwAFo  ACR  DIV  \n",
      "0    0.0  0.985164   0.0      0  0.0    0  \n",
      "/home/filv/PhD/github/recall_metrics/data/results_phram_fp/Glucocorticoid_receptor/cdpkit/dis/DrugEx_GT_epsilon_0.6_250k/phfp_of_output_set_cluster_3_dis_DrugEx_GT_epsilon_0.6_250k.csv\n",
      "EXIST\n",
      "ORIGINAL RECALL LEN:  229\n",
      "UNIQUE RECALL LEN:  196\n",
      "RECAL FP LEN:  196\n",
      "END CREATE MATCHING\n",
      "END CALCULATE METRICS\n",
      "DIVERSITY END\n",
      "                           name type_cluster    phfp     UFo     SSo  TUPOR_  \\\n",
      "0  DrugEx_GT_epsilon_0.6_250k_3          dis  cdpkit  246611  250000  17/196   \n",
      "\n",
      "      TUPOR      SESY      ASER  CwAFo       ACR  DIV  \n",
      "0  0.086735  0.986444  0.000084     21  0.000069    0  \n",
      "/home/filv/PhD/github/recall_metrics/data/results_phram_fp/Glucocorticoid_receptor/cdpkit/dis/DrugEx_GT_epsilon_0.6_250k/phfp_of_output_set_cluster_4_dis_DrugEx_GT_epsilon_0.6_250k.csv\n",
      "EXIST\n",
      "ORIGINAL RECALL LEN:  304\n",
      "UNIQUE RECALL LEN:  279\n",
      "RECAL FP LEN:  279\n",
      "END CREATE MATCHING\n",
      "END CALCULATE METRICS\n",
      "DIVERSITY END\n",
      "                           name type_cluster    phfp     UFo     SSo  TUPOR_  \\\n",
      "0  DrugEx_GT_epsilon_0.6_250k_4          dis  cdpkit  245393  250000  11/279   \n",
      "\n",
      "      TUPOR      SESY      ASER  CwAFo       ACR  DIV  \n",
      "0  0.039427  0.981572  0.000072     18  0.000045    0  \n"
     ]
    },
    {
     "data": {
      "text/plain": [
       "None"
      ]
     },
     "metadata": {},
     "output_type": "display_data"
    },
    {
     "name": "stdout",
     "output_type": "stream",
     "text": [
      "Čas běhu: 1806.70 sekund\n",
      "/home/filv/PhD/github/recall_metrics/data/results_phram_fp/Glucocorticoid_receptor/cdpkit/sim/DrugEx_GT_epsilon_0.6_250k/phfp_of_output_set_cluster_0_sim_DrugEx_GT_epsilon_0.6_250k.csv\n",
      "EXIST\n",
      "ORIGINAL RECALL LEN:  486\n",
      "UNIQUE RECALL LEN:  411\n",
      "RECAL FP LEN:  411\n",
      "END CREATE MATCHING\n",
      "END CALCULATE METRICS\n",
      "DIVERSITY END\n",
      "                           name type_cluster    phfp     UFo     SSo  TUPOR_  \\\n",
      "0  DrugEx_GT_epsilon_0.6_250k_0          sim  cdpkit  246783  250000  54/411   \n",
      "\n",
      "      TUPOR      SESY      ASER  CwAFo       ACR  DIV  \n",
      "0  0.131387  0.987132  0.000364     91  0.000219    0  \n",
      "/home/filv/PhD/github/recall_metrics/data/results_phram_fp/Glucocorticoid_receptor/cdpkit/sim/DrugEx_GT_epsilon_0.6_250k/phfp_of_output_set_cluster_1_sim_DrugEx_GT_epsilon_0.6_250k.csv\n",
      "EXIST\n",
      "ORIGINAL RECALL LEN:  236\n",
      "UNIQUE RECALL LEN:  207\n",
      "RECAL FP LEN:  207\n",
      "END CREATE MATCHING\n",
      "END CALCULATE METRICS\n",
      "DIVERSITY END\n",
      "                           name type_cluster    phfp     UFo     SSo  TUPOR_  \\\n",
      "0  DrugEx_GT_epsilon_0.6_250k_1          sim  cdpkit  246010  250000  30/207   \n",
      "\n",
      "      TUPOR     SESY      ASER  CwAFo       ACR  DIV  \n",
      "0  0.144928  0.98404  0.000256     64  0.000122    0  \n",
      "/home/filv/PhD/github/recall_metrics/data/results_phram_fp/Glucocorticoid_receptor/cdpkit/sim/DrugEx_GT_epsilon_0.6_250k/phfp_of_output_set_cluster_2_sim_DrugEx_GT_epsilon_0.6_250k.csv\n",
      "EXIST\n",
      "ORIGINAL RECALL LEN:  135\n",
      "UNIQUE RECALL LEN:  121\n",
      "RECAL FP LEN:  121\n",
      "END CREATE MATCHING\n",
      "END CALCULATE METRICS\n",
      "DIVERSITY END\n",
      "                           name type_cluster    phfp     UFo     SSo TUPOR_  \\\n",
      "0  DrugEx_GT_epsilon_0.6_250k_2          sim  cdpkit  247389  250000  8/121   \n",
      "\n",
      "      TUPOR      SESY      ASER  CwAFo       ACR  DIV  \n",
      "0  0.066116  0.989556  0.000044     11  0.000032    0  \n",
      "/home/filv/PhD/github/recall_metrics/data/results_phram_fp/Glucocorticoid_receptor/cdpkit/sim/DrugEx_GT_epsilon_0.6_250k/phfp_of_output_set_cluster_3_sim_DrugEx_GT_epsilon_0.6_250k.csv\n",
      "EXIST\n",
      "ORIGINAL RECALL LEN:  63\n",
      "UNIQUE RECALL LEN:  58\n",
      "RECAL FP LEN:  58\n",
      "END CREATE MATCHING\n",
      "END CALCULATE METRICS\n",
      "DIVERSITY END\n",
      "                           name type_cluster    phfp     UFo     SSo TUPOR_  \\\n",
      "0  DrugEx_GT_epsilon_0.6_250k_3          sim  cdpkit  246521  250000  15/58   \n",
      "\n",
      "      TUPOR      SESY      ASER  CwAFo       ACR  DIV  \n",
      "0  0.258621  0.986084  0.000068     17  0.000061    0  \n",
      "/home/filv/PhD/github/recall_metrics/data/results_phram_fp/Glucocorticoid_receptor/cdpkit/sim/DrugEx_GT_epsilon_0.6_250k/phfp_of_output_set_cluster_4_sim_DrugEx_GT_epsilon_0.6_250k.csv\n",
      "EXIST\n",
      "ORIGINAL RECALL LEN:  42\n",
      "UNIQUE RECALL LEN:  42\n",
      "RECAL FP LEN:  42\n",
      "END CREATE MATCHING\n",
      "END CALCULATE METRICS\n",
      "DIVERSITY END\n",
      "                           name type_cluster    phfp     UFo     SSo TUPOR_  \\\n",
      "0  DrugEx_GT_epsilon_0.6_250k_4          sim  cdpkit  246483  250000  11/42   \n",
      "\n",
      "      TUPOR      SESY      ASER  CwAFo       ACR  DIV  \n",
      "0  0.261905  0.985932  0.000104     26  0.000045    0  \n"
     ]
    },
    {
     "data": {
      "text/plain": [
       "None"
      ]
     },
     "metadata": {},
     "output_type": "display_data"
    },
    {
     "name": "stdout",
     "output_type": "stream",
     "text": [
      "Čas běhu: 1736.57 sekund\n",
      "/home/filv/PhD/github/recall_metrics/data/results_phram_fp/Glucocorticoid_receptor/cdpkit/dis/DrugEx_RNN_epsilon_0.1_250k/phfp_of_output_set_cluster_0_dis_DrugEx_RNN_epsilon_0.1_250k.csv\n",
      "EXIST\n",
      "ORIGINAL RECALL LEN:  180\n",
      "UNIQUE RECALL LEN:  149\n"
     ]
    }
   ],
   "source": [
    "#type_cluster = 'dis' #options: 'dis'|'sim' \n",
    "type_phfp = 'cdpkit' #options: 'csk'|'murcko'\n",
    "#generator = 'DrugEx_GT_epsilon_0.1' #options: 'Molpher'|'DrugEx'|'REINVENT'|'addcarbon'\n",
    "#receptor = 'Leukocyte_elastase' #options: 'Glucocorticoid_receptor'|'Leukocyte_elastase'\n",
    "#'Molpher_250k','REINVENT_250k', 'DrugEx_GT_epsilon_0.6_250k', 'DrugEx_RNN_epsilon_0.1_250k',\n",
    "\n",
    "for receptor in ['Glucocorticoid_receptor']:\n",
    "    for generator in ['Molpher_250k', 'DrugEx_GT_epsilon_0.6_250k', 'DrugEx_RNN_epsilon_0.1_250k','DrugEx_GT_epsilon_0.1_250k', 'DrugEx_RNN_epsilon_0.1_250k', 'DrugEx_RNN_epsilon_0.6_250k', 'GB_GA_mut_r_0.01_250k', 'GB_GA_mut_r_0.5_250k', 'addcarbon_250k']:\n",
    "        for type_cluster in ['dis','sim']:\n",
    "            start_time = time.time() \n",
    "            calculate_metrics_(type_cluster,type_phfp,generator,receptor, 10)\n",
    "    \n",
    "    \n",
    "            end_time = time.time()  # Konec měření\n",
    "    \n",
    "            elapsed_time = end_time - start_time  # Výpočet doby běhu\n",
    "            print(f\"Čas běhu: {elapsed_time:.2f} sekund\")"
   ]
  },
  {
   "cell_type": "code",
   "execution_count": 6,
   "id": "191a8f2b-4a88-4519-8ad3-d1af8c2a56f8",
   "metadata": {},
   "outputs": [
    {
     "name": "stdout",
     "output_type": "stream",
     "text": [
      "/home/filv/PhD/github/recall_metrics/data/results_phram_fp/Leukocyte_elastase/cdpkit/sim/DrugEx_GT_epsilon_0.1_250k/phfp_of_output_set_cluster_0_sim_DrugEx_GT_epsilon_0.1_250k.csv\n",
      "EXIST\n",
      "ORIGINAL RECALL LEN:  644\n",
      "UNIQUE RECALL LEN:  496\n",
      "RECAL FP LEN:  496\n",
      "END CREATE MATCHING\n",
      "END CALCULATE METRICS\n",
      "DIVERSITY END\n",
      "                           name type_cluster    phfp     UFo     SSo  TUPOR_  \\\n",
      "0  DrugEx_GT_epsilon_0.1_250k_0          sim  cdpkit  246284  249998  85/496   \n",
      "\n",
      "      TUPOR      SESY      ASER  CwAFo       ACR  DIV  \n",
      "0  0.171371  0.985144  0.001193    298  0.000345    0  \n",
      "/home/filv/PhD/github/recall_metrics/data/results_phram_fp/Leukocyte_elastase/cdpkit/sim/DrugEx_GT_epsilon_0.1_250k/phfp_of_output_set_cluster_1_sim_DrugEx_GT_epsilon_0.1_250k.csv\n",
      "EXIST\n",
      "ORIGINAL RECALL LEN:  161\n",
      "UNIQUE RECALL LEN:  147\n",
      "RECAL FP LEN:  147\n",
      "END CREATE MATCHING\n",
      "END CALCULATE METRICS\n",
      "DIVERSITY END\n",
      "                           name type_cluster    phfp     UFo     SSo  TUPOR_  \\\n",
      "0  DrugEx_GT_epsilon_0.1_250k_1          sim  cdpkit  239644  250000  46/147   \n",
      "\n",
      "      TUPOR      SESY      ASER  CwAFo       ACR  DIV  \n",
      "0  0.312925  0.958576  0.001105    276  0.000192    0  \n",
      "/home/filv/PhD/github/recall_metrics/data/results_phram_fp/Leukocyte_elastase/cdpkit/sim/DrugEx_GT_epsilon_0.1_250k/phfp_of_output_set_cluster_2_sim_DrugEx_GT_epsilon_0.1_250k.csv\n",
      "EXIST\n",
      "ORIGINAL RECALL LEN:  124\n",
      "UNIQUE RECALL LEN:  109\n",
      "RECAL FP LEN:  109\n",
      "END CREATE MATCHING\n",
      "END CALCULATE METRICS\n",
      "DIVERSITY END\n",
      "                           name type_cluster    phfp     UFo     SSo  TUPOR_  \\\n",
      "0  DrugEx_GT_epsilon_0.1_250k_2          sim  cdpkit  241559  250000  30/109   \n",
      "\n",
      "      TUPOR      SESY      ASER  CwAFo       ACR  DIV  \n",
      "0  0.275229  0.966236  0.000913    228  0.000124    0  \n",
      "/home/filv/PhD/github/recall_metrics/data/results_phram_fp/Leukocyte_elastase/cdpkit/sim/DrugEx_GT_epsilon_0.1_250k/phfp_of_output_set_cluster_3_sim_DrugEx_GT_epsilon_0.1_250k.csv\n",
      "EXIST\n",
      "ORIGINAL RECALL LEN:  77\n",
      "UNIQUE RECALL LEN:  71\n",
      "RECAL FP LEN:  71\n",
      "END CREATE MATCHING\n",
      "END CALCULATE METRICS\n",
      "DIVERSITY END\n",
      "                           name type_cluster    phfp     UFo     SSo TUPOR_  \\\n",
      "0  DrugEx_GT_epsilon_0.1_250k_3          sim  cdpkit  241591  250000  20/71   \n",
      "\n",
      "     TUPOR      SESY      ASER  CwAFo       ACR  DIV  \n",
      "0  0.28169  0.966364  0.000821    205  0.000083    0  \n",
      "/home/filv/PhD/github/recall_metrics/data/results_phram_fp/Leukocyte_elastase/cdpkit/sim/DrugEx_GT_epsilon_0.1_250k/phfp_of_output_set_cluster_4_sim_DrugEx_GT_epsilon_0.1_250k.csv\n",
      "EXIST\n",
      "ORIGINAL RECALL LEN:  54\n",
      "UNIQUE RECALL LEN:  50\n",
      "RECAL FP LEN:  50\n",
      "END CREATE MATCHING\n",
      "END CALCULATE METRICS\n",
      "DIVERSITY END\n",
      "                           name type_cluster    phfp     UFo     SSo TUPOR_  \\\n",
      "0  DrugEx_GT_epsilon_0.1_250k_4          sim  cdpkit  242120  250000  10/50   \n",
      "\n",
      "   TUPOR     SESY      ASER  CwAFo       ACR  DIV  \n",
      "0    0.2  0.96848  0.000096     24  0.000041    0  \n"
     ]
    },
    {
     "data": {
      "text/plain": [
       "None"
      ]
     },
     "metadata": {},
     "output_type": "display_data"
    },
    {
     "name": "stdout",
     "output_type": "stream",
     "text": [
      "Čas běhu: 1201.91 sekund\n"
     ]
    }
   ],
   "source": [
    "#type_cluster = 'dis' #options: 'dis'|'sim' \n",
    "type_phfp = 'cdpkit' #options: 'csk'|'murcko'\n",
    "#generator = 'DrugEx_GT_epsilon_0.1' #options: 'Molpher'|'DrugEx'|'REINVENT'|'addcarbon'\n",
    "#receptor = 'Leukocyte_elastase' #options: 'Glucocorticoid_receptor'|'Leukocyte_elastase'\n",
    "#'Molpher_250k','REINVENT_250k', 'DrugEx_GT_epsilon_0.6_250k', 'DrugEx_RNN_epsilon_0.1_250k',\n",
    "\n",
    "for receptor in ['Leukocyte_elastase']:\n",
    "    for generator in ['DrugEx_GT_epsilon_0.1_250k']:\n",
    "        for type_cluster in ['sim']:\n",
    "            start_time = time.time() \n",
    "            calculate_metrics_(type_cluster,type_phfp,generator,receptor, 10)\n",
    "    \n",
    "    \n",
    "            end_time = time.time()  # Konec měření\n",
    "    \n",
    "            elapsed_time = end_time - start_time  # Výpočet doby běhu\n",
    "            print(f\"Čas běhu: {elapsed_time:.2f} sekund\")"
   ]
  },
  {
   "cell_type": "code",
   "execution_count": null,
   "id": "28ef4d63-ac69-4dfe-8573-0576dff2ad08",
   "metadata": {},
   "outputs": [],
   "source": []
  }
 ],
 "metadata": {
  "kernelspec": {
   "display_name": "Python 3 (ipykernel)",
   "language": "python",
   "name": "python3"
  },
  "language_info": {
   "codemirror_mode": {
    "name": "ipython",
    "version": 3
   },
   "file_extension": ".py",
   "mimetype": "text/x-python",
   "name": "python",
   "nbconvert_exporter": "python",
   "pygments_lexer": "ipython3",
   "version": "3.13.2"
  }
 },
 "nbformat": 4,
 "nbformat_minor": 5
}

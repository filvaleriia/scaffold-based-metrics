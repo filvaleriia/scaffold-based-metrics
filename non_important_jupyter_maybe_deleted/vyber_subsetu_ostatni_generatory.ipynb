{
 "cells": [
  {
   "cell_type": "code",
   "execution_count": 1,
   "id": "39e39da6-ed07-4e97-86e0-cff88043bc3a",
   "metadata": {},
   "outputs": [],
   "source": [
    "import pandas as pd\n",
    "from itertools import combinations"
   ]
  },
  {
   "cell_type": "code",
   "execution_count": 11,
   "id": "8cc9208d-7c5d-443b-85f5-d49b502f6957",
   "metadata": {
    "tags": []
   },
   "outputs": [],
   "source": [
    "for generator in ['REINVENT','DrugEx_GT_epsilon_0.1','DrugEx_GT_epsilon_0.6','DrugEx_RNN','DrugEx_RNN_epsilon_0.1','DrugEx_RNN_epsilon_0.6', 'addcarbon']:\n",
    "    for type_split in ['dis', 'sim']:\n",
    "        for number in [0,1,2,3,4]:\n",
    "            for target in [10000, 100000, 500000]:\n",
    "                df = pd.read_csv(f\"data/output_sets/Glucocorticoid_receptor/cOS_{generator}_{type_split}_{number}_one_column.csv\", header = None)\n",
    "                df.columns = ['smiles']\n",
    "            \n",
    "                random_smiles = df['smiles'].sample(n=target, random_state=42)\n",
    "                \n",
    "                random_smiles = random_smiles.reset_index(drop=True)\n",
    "                target_str = {10000: '10k', 100000: '100k', 500000: '500k'}.get(target, str(target))\n",
    "                random_smiles.to_csv(f\"data/output_sets/Glucocorticoid_receptor/cOS_{generator}_{target_str}_{type_split}_{number}_one_column.csv\", index = False, index_label = False, header = False)"
   ]
  },
  {
   "cell_type": "code",
   "execution_count": 15,
   "id": "1c6c1ad9-c872-4386-bf3a-c694c8e4f994",
   "metadata": {},
   "outputs": [],
   "source": []
  },
  {
   "cell_type": "code",
   "execution_count": 17,
   "id": "109e9cc5-d4e3-4221-95ae-c07b12a06bce",
   "metadata": {},
   "outputs": [],
   "source": []
  },
  {
   "cell_type": "code",
   "execution_count": null,
   "id": "1057900b-b294-4bb0-8871-15e50ab445dc",
   "metadata": {},
   "outputs": [],
   "source": []
  }
 ],
 "metadata": {
  "kernelspec": {
   "display_name": "Python 3 (ipykernel)",
   "language": "python",
   "name": "python3"
  },
  "language_info": {
   "codemirror_mode": {
    "name": "ipython",
    "version": 3
   },
   "file_extension": ".py",
   "mimetype": "text/x-python",
   "name": "python",
   "nbconvert_exporter": "python",
   "pygments_lexer": "ipython3",
   "version": "3.10.6"
  }
 },
 "nbformat": 4,
 "nbformat_minor": 5
}

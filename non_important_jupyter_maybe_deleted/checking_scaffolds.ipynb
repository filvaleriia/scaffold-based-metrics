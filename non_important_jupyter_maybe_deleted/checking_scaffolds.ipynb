{
 "cells": [
  {
   "cell_type": "code",
   "execution_count": 1,
   "id": "2bb8b073-c447-4b6e-b419-ee10cf1f4dd6",
   "metadata": {},
   "outputs": [
    {
     "data": {
      "text/plain": [
       "<module 'scripts.metrics' from '/home/filv/phd_projects/iga_2023/git_reccal/new/recall_metrics/scripts/metrics.py'>"
      ]
     },
     "execution_count": 1,
     "metadata": {},
     "output_type": "execute_result"
    }
   ],
   "source": [
    "import pandas as pd\n",
    "import numpy as np\n",
    "\n",
    "from rdkit import Chem\n",
    "from rdkit.Chem import Draw\n",
    "from rdkit.Chem.Draw import IPythonConsole\n",
    "from rdkit.Chem import AllChem\n",
    "from rdkit.Chem import DataStructs\n",
    "from rdkit.Chem.Scaffolds.MurckoScaffold import MakeScaffoldGeneric\n",
    "from rdkit.Chem.Scaffolds.MurckoScaffold import MurckoScaffoldSmiles\n",
    "\n",
    "\n",
    "from scripts import metrics\n",
    "import importlib as imp\n",
    "imp.reload(metrics)"
   ]
  },
  {
   "cell_type": "markdown",
   "id": "35cde978-54fc-4fbe-a74d-7edb577850e3",
   "metadata": {},
   "source": [
    "# Notebook for check if some scaffold not be in Input Set and Recall Set!\n"
   ]
  },
  {
   "cell_type": "code",
   "execution_count": 13,
   "id": "a183f582-5fdc-4148-974f-e31957609500",
   "metadata": {},
   "outputs": [],
   "source": [
    "def convert_to_scaffold_(df):\n",
    "    a = []\n",
    "    print(\"Convert_\")\n",
    "    for x in range(len(df)):\n",
    "        try:\n",
    "            a.append(MurckoScaffoldSmiles(\\\n",
    "                                     Chem.MolToSmiles(MakeScaffoldGeneric\\\n",
    "                                   (Chem.MolFromSmiles(df.loc[x][0])))))\n",
    "        except:\n",
    "            print(\"Faild to create scaffold_csk\")\n",
    "            print(\"Index\",x)\n",
    "            print(df.loc[x][0])\n",
    "\n",
    "    dff = pd.DataFrame(data = a)\n",
    "    return dff"
   ]
  },
  {
   "cell_type": "code",
   "execution_count": 10,
   "id": "c9fc9eba-3bb8-4bbb-976b-9200ff7d1e24",
   "metadata": {},
   "outputs": [],
   "source": [
    "def kontrola(text,test_set, df_generated, input_set, number):\n",
    "    print(text)\n",
    "    test_set_uniq = test_set[0].unique()\n",
    "    generated_set_uniq = df_generated[0].unique()\n",
    "    input_set_scaffold = convert_to_scaffold_(input_set)\n",
    "    input_set_uniq = input_set_scaffold[0].unique()\n",
    "    \n",
    "    #kontrola ze input a test set se lisi scaffoldove:\n",
    "    a = []\n",
    "    print(\"Input len\",len(input_set_uniq))\n",
    "    for x in input_set_uniq:\n",
    "        if x in test_set_uniq:\n",
    "            a.append(Chem.MolFromSmiles(x)) \n",
    "    if a:\n",
    "        p = Draw.MolsToGridImage(a,molsPerRow=3,subImgSize=(250, 100),returnPNG=False)\n",
    "    print(\"Pocet schaffoldu stejnych v input a test setech\",len(a))\n",
    "    \n",
    "    #kontrola kolik je unikatnich scaffoldu\n",
    "    a = []\n",
    "    for x in generated_set_uniq:\n",
    "        if x in test_set_uniq:\n",
    "            a.append(Chem.MolFromSmiles(x)) \n",
    "    p = Draw.MolsToGridImage(a,molsPerRow=3,subImgSize=(250, 100),returnPNG=False)\n",
    "    print(\"Pocet unikatnich schaffoldu\",len(a))\n",
    "    p.show()\n",
    "    \n",
    "    #Show_test_set\n",
    "    a = []\n",
    "    print(\"Len test set\", len(test_set_uniq))\n",
    "    for x in test_set_uniq:\n",
    "        a.append(Chem.MolFromSmiles(x)) \n",
    "    p = Draw.MolsToGridImage(a,molsPerRow=4,subImgSize=(250, 100),returnPNG=False)\n",
    "    print(\"Test set\",len(a))\n",
    "    p.save(f'test_set_{number}.png')\n",
    "    p.show()\n",
    "\n",
    "    #Show_input_set\n",
    "    #a = []\n",
    "\n",
    " #   #for x in input_set_uniq:\n",
    "    #    a.append(Chem.MolFromSmiles(x)) \n",
    "    #p = Draw.MolsToGridImage(a,molsPerRow=4,subImgSize=(250, 100),returnPNG=False)\n",
    "    #print(\"Input  set\",len(a))\n",
    "    #p.save(f'input_set_{number}.png')\n",
    "    #p.show()"
   ]
  },
  {
   "cell_type": "code",
   "execution_count": 11,
   "id": "33d35ac7-cc19-4e5e-8086-adbd89d087b9",
   "metadata": {},
   "outputs": [
    {
     "name": "stdout",
     "output_type": "stream",
     "text": [
      "Cluster_0_sim\n",
      "Convert_\n",
      "Input len 164\n",
      "Pocet schaffoldu stejnych v input a test setech 0\n",
      "Pocet unikatnich schaffoldu 16\n",
      "Len test set 42\n",
      "Test set 42\n",
      "Cluster_1_sim\n",
      "Convert_\n",
      "Input len 170\n",
      "Pocet schaffoldu stejnych v input a test setech 0\n",
      "Pocet unikatnich schaffoldu 18\n",
      "Len test set 36\n",
      "Test set 36\n",
      "Cluster_2_sim\n",
      "Convert_\n",
      "Input len 164\n",
      "Pocet schaffoldu stejnych v input a test setech 0\n",
      "Pocet unikatnich schaffoldu 12\n",
      "Len test set 42\n",
      "Test set 42\n",
      "Cluster_3_sim\n",
      "Convert_\n",
      "Input len 166\n",
      "Pocet schaffoldu stejnych v input a test setech 0\n",
      "Pocet unikatnich schaffoldu 23\n",
      "Len test set 40\n",
      "Test set 40\n",
      "Cluster_4_sim\n",
      "Convert_\n",
      "Input len 160\n",
      "Pocet schaffoldu stejnych v input a test setech 0\n",
      "Pocet unikatnich schaffoldu 38\n",
      "Len test set 46\n",
      "Test set 46\n"
     ]
    }
   ],
   "source": [
    "for number in range(5):\n",
    "    cluster = 'dis'\n",
    "    test_set = pd.read_csv(f\"data/results/csk_scaffolds/dis/Molpher/scaffolds_of_test_moleculs_cluster_{number}_dis_Molpher.csv\", header=None)\n",
    "    df_generated = pd.read_csv(f\"data/results/csk_scaffolds/dis/Molpher/scaffolds_of_generated_moleculs_cluster_{number}_dis_Molpher.csv\", header=None)\n",
    "    input_set = pd.read_csv(f\"data/input_data/input_gener_glucocor_dis_{number}.csv\", header=None)\n",
    "    kontrola(f\"Cluster_{number}s\",test_set,df_generated, input_set,number)"
   ]
  },
  {
   "cell_type": "code",
   "execution_count": null,
   "id": "7f3518bd-d7e7-439c-836d-aa4ef5bbf8bd",
   "metadata": {},
   "outputs": [],
   "source": []
  },
  {
   "cell_type": "code",
   "execution_count": null,
   "id": "93fe5563-2bd8-4574-9123-d05ce857d408",
   "metadata": {},
   "outputs": [],
   "source": []
  },
  {
   "cell_type": "code",
   "execution_count": 28,
   "id": "292e3cde-b397-4592-b43b-66d55a2c8637",
   "metadata": {},
   "outputs": [
    {
     "name": "stdout",
     "output_type": "stream",
     "text": [
      "sim_0\n",
      "Velikost df other gen:  476\n",
      "Velikost df molpher:  20880\n",
      "velikost unique:  145\n",
      "RECALLLL\n",
      "Velikost recall setu:  486\n",
      "Velikost unique:  38\n",
      "-------------------------\n",
      "sim_1\n",
      "Velikost df other gen:  726\n",
      "Velikost df molpher:  20880\n",
      "velikost unique:  145\n",
      "RECALLLL\n",
      "Velikost recall setu:  236\n",
      "Velikost unique:  38\n",
      "-------------------------\n",
      "sim_2\n",
      "Velikost df other gen:  827\n",
      "Velikost df molpher:  21170\n",
      "velikost unique:  146\n",
      "RECALLLL\n",
      "Velikost recall setu:  135\n",
      "Velikost unique:  37\n",
      "-------------------------\n",
      "sim_3\n",
      "Velikost df other gen:  899\n",
      "Velikost df molpher:  21756\n",
      "velikost unique:  148\n",
      "RECALLLL\n",
      "Velikost recall setu:  63\n",
      "Velikost unique:  35\n",
      "-------------------------\n",
      "sim_4\n",
      "Velikost df other gen:  920\n",
      "Velikost df molpher:  21756\n",
      "velikost unique:  148\n",
      "RECALLLL\n",
      "Velikost recall setu:  42\n",
      "Velikost unique:  35\n",
      "-------------------------\n"
     ]
    }
   ],
   "source": [
    "split = 'sim'\n",
    "for x in range(5):\n",
    "    df = pd.read_csv(f'data/input_recall_sets/Glucocorticoid_receptor/cIS_Glucocorticoid_receptor_{split}_{x}.csv', header = None, names = ['smiles'])\n",
    "    print(f'{split}_{x}')\n",
    "    print('Velikost df other gen: ', len(df))\n",
    "    df = pd.read_csv(f'data/input_recall_sets/Glucocorticoid_receptor/cIS_Molpher_Glucocorticoid_receptor_{split}_{x}.csv')\n",
    "    inp = len(set(df.start_smiles.tolist()))\n",
    "    print('Velikost df molpher: ', len(df))\n",
    "    print('velikost unique: ', inp)\n",
    "\n",
    "    print(\"RECALLLL\")\n",
    "    df = pd.read_csv(f'data/input_recall_sets/Glucocorticoid_receptor/cRS_Glucocorticoid_receptor_{split}_{x}.csv', header = None, names = ['smiles'])\n",
    "    print('Velikost recall setu: ', len(df))\n",
    "\n",
    "    df = pd.read_csv(f'data/results/Glucocorticoid_receptor/csk_scaffolds/{split}/Molpher/scaffolds_of_recall_set_cluster_{x}_{split}_Molpher.csv', header = None, names = ['smiles'])\n",
    "    print('Velikost unique: ', len(set(df.smiles.tolist())))\n",
    "    print(\"-------------------------\")"
   ]
  },
  {
   "cell_type": "code",
   "execution_count": null,
   "id": "e4b91c23-4bc6-40e1-81c3-ef9f26ef27ac",
   "metadata": {},
   "outputs": [],
   "source": []
  },
  {
   "cell_type": "code",
   "execution_count": null,
   "id": "c3bae6b2-a26f-4cba-9357-5387797282ab",
   "metadata": {},
   "outputs": [],
   "source": []
  },
  {
   "cell_type": "code",
   "execution_count": null,
   "id": "cd97652b-5fa9-4643-a29e-eb536df3d4d4",
   "metadata": {},
   "outputs": [],
   "source": []
  }
 ],
 "metadata": {
  "kernelspec": {
   "display_name": "Python 3 (ipykernel)",
   "language": "python",
   "name": "python3"
  },
  "language_info": {
   "codemirror_mode": {
    "name": "ipython",
    "version": 3
   },
   "file_extension": ".py",
   "mimetype": "text/x-python",
   "name": "python",
   "nbconvert_exporter": "python",
   "pygments_lexer": "ipython3",
   "version": "3.10.6"
  }
 },
 "nbformat": 4,
 "nbformat_minor": 5
}

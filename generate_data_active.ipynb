{
 "cells": [
  {
   "cell_type": "markdown",
   "id": "b2268d44",
   "metadata": {},
   "source": [
    "## Data Preparation  \n",
    "Splitting the data into training and test sets:  \n",
    "- 5 times to ensure that the scaffolds are as similar as possible.  \n",
    "- 5 times to ensure that the scaffolds are as different as possible.  \n",
    "\n",
    "### Molpher  \n",
    "For Molpher, only unique CSKs will be considered. Each unique scaffold will then be assigned the most active compound.  \n",
    "\n",
    "### Other Generators  \n",
    "For other generators, all compounds will be included.\n"
   ]
  },
  {
   "cell_type": "markdown",
   "id": "d1a8a669",
   "metadata": {},
   "source": [
    "# Library import"
   ]
  },
  {
   "cell_type": "code",
   "execution_count": 12,
   "id": "56b23a50",
   "metadata": {},
   "outputs": [
    {
     "data": {
      "text/plain": [
       "<module 'src.preprocesing' from '/home/filv/phd_projects/iga_2023/git_reccal/new/recall_metrics/src/preprocesing.py'>"
      ]
     },
     "execution_count": 12,
     "metadata": {},
     "output_type": "execute_result"
    }
   ],
   "source": [
    "from src import preprocesing\n",
    "import importlib as imp\n",
    "imp.reload(preprocesing)"
   ]
  },
  {
   "cell_type": "markdown",
   "id": "6b208c07",
   "metadata": {},
   "source": [
    "## Loading data, then split to clusters by number of random_state"
   ]
  },
  {
   "cell_type": "code",
   "execution_count": 13,
   "id": "34980bec-1a7c-49c7-8824-6cddfe8fc634",
   "metadata": {},
   "outputs": [],
   "source": [
    "def loading(type_receptor, name, receptor_name, type_cluster, save_options = True):\n",
    "    mt = preprocesing.Preprocesing(receptor_name,save_options)     \n",
    "    df = mt.load(type_receptor, name)\n",
    "\n",
    "    #for glucocorticoid receptor random_state = 1160\n",
    "    #for leukocyte elastase random_state = 366\n",
    "    if receptor_name == 'Glucocorticoid_receptor':\n",
    "        df_clusters = mt.split_data_for_clusters_KMedoids(df,1160)\n",
    "    elif receptor_name == 'Leukocyte_elastase':\n",
    "        df_clusters = mt.split_data_for_clusters_KMedoids(df,366)\n",
    "    else:\n",
    "        df_clusters = mt.split_data_for_clusters_KMedoids(df,1)\n",
    "        \n",
    "    ##Splits data to the train and test_set\n",
    "    if type_cluster == 'dis':\n",
    "        mt.split_data_to_train_test_dis(df, df_clusters)\n",
    "    elif type_cluster == 'sim':\n",
    "        mt.split_data_to_train_test_sim(df, df_clusters)\n",
    "    \n",
    "    return df, df_clusters"
   ]
  },
  {
   "cell_type": "code",
   "execution_count": 14,
   "id": "98ac03ac-e337-49c1-bf05-1dddce24cd5f",
   "metadata": {
    "scrolled": true
   },
   "outputs": [
    {
     "name": "stderr",
     "output_type": "stream",
     "text": [
      "/home/filv/.conda/envs/recall_metrics_env/lib/python3.9/site-packages/sklearn/metrics/pairwise.py:2008: DataConversionWarning: Data was converted to boolean for metric jaccard\n",
      "  warnings.warn(msg, DataConversionWarning)\n",
      "/home/filv/.conda/envs/recall_metrics_env/lib/python3.9/site-packages/sklearn/metrics/pairwise.py:2008: DataConversionWarning: Data was converted to boolean for metric jaccard\n",
      "  warnings.warn(msg, DataConversionWarning)\n",
      "/home/filv/phd_projects/iga_2023/git_reccal/new/recall_metrics/src/preprocesing.py:225: FutureWarning: The frame.append method is deprecated and will be removed from pandas in a future version. Use pandas.concat instead.\n",
      "  train_set = train_set.append(df_split[x])\n",
      "/home/filv/phd_projects/iga_2023/git_reccal/new/recall_metrics/src/preprocesing.py:225: FutureWarning: The frame.append method is deprecated and will be removed from pandas in a future version. Use pandas.concat instead.\n",
      "  train_set = train_set.append(df_split[x])\n",
      "/home/filv/phd_projects/iga_2023/git_reccal/new/recall_metrics/src/preprocesing.py:225: FutureWarning: The frame.append method is deprecated and will be removed from pandas in a future version. Use pandas.concat instead.\n",
      "  train_set = train_set.append(df_split[x])\n",
      "/home/filv/phd_projects/iga_2023/git_reccal/new/recall_metrics/src/preprocesing.py:225: FutureWarning: The frame.append method is deprecated and will be removed from pandas in a future version. Use pandas.concat instead.\n",
      "  train_set = train_set.append(df_split[x])\n",
      "/home/filv/phd_projects/iga_2023/git_reccal/new/recall_metrics/src/preprocesing.py:225: FutureWarning: The frame.append method is deprecated and will be removed from pandas in a future version. Use pandas.concat instead.\n",
      "  train_set = train_set.append(df_split[x])\n",
      "/home/filv/phd_projects/iga_2023/git_reccal/new/recall_metrics/src/preprocesing.py:225: FutureWarning: The frame.append method is deprecated and will be removed from pandas in a future version. Use pandas.concat instead.\n",
      "  train_set = train_set.append(df_split[x])\n",
      "/home/filv/phd_projects/iga_2023/git_reccal/new/recall_metrics/src/preprocesing.py:225: FutureWarning: The frame.append method is deprecated and will be removed from pandas in a future version. Use pandas.concat instead.\n",
      "  train_set = train_set.append(df_split[x])\n",
      "/home/filv/phd_projects/iga_2023/git_reccal/new/recall_metrics/src/preprocesing.py:225: FutureWarning: The frame.append method is deprecated and will be removed from pandas in a future version. Use pandas.concat instead.\n",
      "  train_set = train_set.append(df_split[x])\n",
      "/home/filv/phd_projects/iga_2023/git_reccal/new/recall_metrics/src/preprocesing.py:225: FutureWarning: The frame.append method is deprecated and will be removed from pandas in a future version. Use pandas.concat instead.\n",
      "  train_set = train_set.append(df_split[x])\n",
      "/home/filv/phd_projects/iga_2023/git_reccal/new/recall_metrics/src/preprocesing.py:225: FutureWarning: The frame.append method is deprecated and will be removed from pandas in a future version. Use pandas.concat instead.\n",
      "  train_set = train_set.append(df_split[x])\n",
      "/home/filv/phd_projects/iga_2023/git_reccal/new/recall_metrics/src/preprocesing.py:225: FutureWarning: The frame.append method is deprecated and will be removed from pandas in a future version. Use pandas.concat instead.\n",
      "  train_set = train_set.append(df_split[x])\n",
      "/home/filv/phd_projects/iga_2023/git_reccal/new/recall_metrics/src/preprocesing.py:225: FutureWarning: The frame.append method is deprecated and will be removed from pandas in a future version. Use pandas.concat instead.\n",
      "  train_set = train_set.append(df_split[x])\n"
     ]
    },
    {
     "name": "stdout",
     "output_type": "stream",
     "text": [
      "Random_state:  1160\n",
      "Number in 0 cluster:  42 Number in 1 cluster:  36 Number in 2 cluster:  42 Number in 3 cluster:  40 Number in 4 cluster:  46\n"
     ]
    },
    {
     "name": "stderr",
     "output_type": "stream",
     "text": [
      "/home/filv/phd_projects/iga_2023/git_reccal/new/recall_metrics/src/preprocesing.py:225: FutureWarning: The frame.append method is deprecated and will be removed from pandas in a future version. Use pandas.concat instead.\n",
      "  train_set = train_set.append(df_split[x])\n",
      "/home/filv/phd_projects/iga_2023/git_reccal/new/recall_metrics/src/preprocesing.py:225: FutureWarning: The frame.append method is deprecated and will be removed from pandas in a future version. Use pandas.concat instead.\n",
      "  train_set = train_set.append(df_split[x])\n",
      "/home/filv/phd_projects/iga_2023/git_reccal/new/recall_metrics/src/preprocesing.py:225: FutureWarning: The frame.append method is deprecated and will be removed from pandas in a future version. Use pandas.concat instead.\n",
      "  train_set = train_set.append(df_split[x])\n",
      "/home/filv/phd_projects/iga_2023/git_reccal/new/recall_metrics/src/preprocesing.py:225: FutureWarning: The frame.append method is deprecated and will be removed from pandas in a future version. Use pandas.concat instead.\n",
      "  train_set = train_set.append(df_split[x])\n",
      "/home/filv/phd_projects/iga_2023/git_reccal/new/recall_metrics/src/preprocesing.py:225: FutureWarning: The frame.append method is deprecated and will be removed from pandas in a future version. Use pandas.concat instead.\n",
      "  train_set = train_set.append(df_split[x])\n",
      "/home/filv/phd_projects/iga_2023/git_reccal/new/recall_metrics/src/preprocesing.py:225: FutureWarning: The frame.append method is deprecated and will be removed from pandas in a future version. Use pandas.concat instead.\n",
      "  train_set = train_set.append(df_split[x])\n",
      "/home/filv/phd_projects/iga_2023/git_reccal/new/recall_metrics/src/preprocesing.py:225: FutureWarning: The frame.append method is deprecated and will be removed from pandas in a future version. Use pandas.concat instead.\n",
      "  train_set = train_set.append(df_split[x])\n",
      "/home/filv/phd_projects/iga_2023/git_reccal/new/recall_metrics/src/preprocesing.py:225: FutureWarning: The frame.append method is deprecated and will be removed from pandas in a future version. Use pandas.concat instead.\n",
      "  train_set = train_set.append(df_split[x])\n"
     ]
    },
    {
     "name": "stdout",
     "output_type": "stream",
     "text": [
      "Set size for train set for Molpher: 145\n",
      "Set size fot train set for other generators: 476\n",
      "Set size for test set: 486\n"
     ]
    },
    {
     "name": "stderr",
     "output_type": "stream",
     "text": [
      "/home/filv/phd_projects/iga_2023/git_reccal/new/recall_metrics/src/preprocesing.py:225: FutureWarning: The frame.append method is deprecated and will be removed from pandas in a future version. Use pandas.concat instead.\n",
      "  train_set = train_set.append(df_split[x])\n",
      "/home/filv/phd_projects/iga_2023/git_reccal/new/recall_metrics/src/preprocesing.py:225: FutureWarning: The frame.append method is deprecated and will be removed from pandas in a future version. Use pandas.concat instead.\n",
      "  train_set = train_set.append(df_split[x])\n",
      "/home/filv/phd_projects/iga_2023/git_reccal/new/recall_metrics/src/preprocesing.py:225: FutureWarning: The frame.append method is deprecated and will be removed from pandas in a future version. Use pandas.concat instead.\n",
      "  train_set = train_set.append(df_split[x])\n",
      "/home/filv/phd_projects/iga_2023/git_reccal/new/recall_metrics/src/preprocesing.py:225: FutureWarning: The frame.append method is deprecated and will be removed from pandas in a future version. Use pandas.concat instead.\n",
      "  train_set = train_set.append(df_split[x])\n",
      "/home/filv/phd_projects/iga_2023/git_reccal/new/recall_metrics/src/preprocesing.py:225: FutureWarning: The frame.append method is deprecated and will be removed from pandas in a future version. Use pandas.concat instead.\n",
      "  train_set = train_set.append(df_split[x])\n",
      "/home/filv/phd_projects/iga_2023/git_reccal/new/recall_metrics/src/preprocesing.py:225: FutureWarning: The frame.append method is deprecated and will be removed from pandas in a future version. Use pandas.concat instead.\n",
      "  train_set = train_set.append(df_split[x])\n",
      "/home/filv/phd_projects/iga_2023/git_reccal/new/recall_metrics/src/preprocesing.py:225: FutureWarning: The frame.append method is deprecated and will be removed from pandas in a future version. Use pandas.concat instead.\n",
      "  train_set = train_set.append(df_split[x])\n",
      "/home/filv/phd_projects/iga_2023/git_reccal/new/recall_metrics/src/preprocesing.py:225: FutureWarning: The frame.append method is deprecated and will be removed from pandas in a future version. Use pandas.concat instead.\n",
      "  train_set = train_set.append(df_split[x])\n",
      "/home/filv/phd_projects/iga_2023/git_reccal/new/recall_metrics/src/preprocesing.py:225: FutureWarning: The frame.append method is deprecated and will be removed from pandas in a future version. Use pandas.concat instead.\n",
      "  train_set = train_set.append(df_split[x])\n",
      "/home/filv/phd_projects/iga_2023/git_reccal/new/recall_metrics/src/preprocesing.py:225: FutureWarning: The frame.append method is deprecated and will be removed from pandas in a future version. Use pandas.concat instead.\n",
      "  train_set = train_set.append(df_split[x])\n",
      "/home/filv/phd_projects/iga_2023/git_reccal/new/recall_metrics/src/preprocesing.py:225: FutureWarning: The frame.append method is deprecated and will be removed from pandas in a future version. Use pandas.concat instead.\n",
      "  train_set = train_set.append(df_split[x])\n",
      "/home/filv/phd_projects/iga_2023/git_reccal/new/recall_metrics/src/preprocesing.py:225: FutureWarning: The frame.append method is deprecated and will be removed from pandas in a future version. Use pandas.concat instead.\n",
      "  train_set = train_set.append(df_split[x])\n",
      "/home/filv/phd_projects/iga_2023/git_reccal/new/recall_metrics/src/preprocesing.py:225: FutureWarning: The frame.append method is deprecated and will be removed from pandas in a future version. Use pandas.concat instead.\n",
      "  train_set = train_set.append(df_split[x])\n",
      "/home/filv/phd_projects/iga_2023/git_reccal/new/recall_metrics/src/preprocesing.py:225: FutureWarning: The frame.append method is deprecated and will be removed from pandas in a future version. Use pandas.concat instead.\n",
      "  train_set = train_set.append(df_split[x])\n",
      "/home/filv/phd_projects/iga_2023/git_reccal/new/recall_metrics/src/preprocesing.py:225: FutureWarning: The frame.append method is deprecated and will be removed from pandas in a future version. Use pandas.concat instead.\n",
      "  train_set = train_set.append(df_split[x])\n",
      "/home/filv/phd_projects/iga_2023/git_reccal/new/recall_metrics/src/preprocesing.py:225: FutureWarning: The frame.append method is deprecated and will be removed from pandas in a future version. Use pandas.concat instead.\n",
      "  train_set = train_set.append(df_split[x])\n",
      "/home/filv/phd_projects/iga_2023/git_reccal/new/recall_metrics/src/preprocesing.py:225: FutureWarning: The frame.append method is deprecated and will be removed from pandas in a future version. Use pandas.concat instead.\n",
      "  train_set = train_set.append(df_split[x])\n",
      "/home/filv/phd_projects/iga_2023/git_reccal/new/recall_metrics/src/preprocesing.py:225: FutureWarning: The frame.append method is deprecated and will be removed from pandas in a future version. Use pandas.concat instead.\n",
      "  train_set = train_set.append(df_split[x])\n",
      "/home/filv/phd_projects/iga_2023/git_reccal/new/recall_metrics/src/preprocesing.py:225: FutureWarning: The frame.append method is deprecated and will be removed from pandas in a future version. Use pandas.concat instead.\n",
      "  train_set = train_set.append(df_split[x])\n",
      "/home/filv/phd_projects/iga_2023/git_reccal/new/recall_metrics/src/preprocesing.py:225: FutureWarning: The frame.append method is deprecated and will be removed from pandas in a future version. Use pandas.concat instead.\n",
      "  train_set = train_set.append(df_split[x])\n"
     ]
    },
    {
     "name": "stdout",
     "output_type": "stream",
     "text": [
      "Set size for train set for Molpher: 145\n",
      "Set size fot train set for other generators: 726\n",
      "Set size for test set: 236\n"
     ]
    },
    {
     "name": "stderr",
     "output_type": "stream",
     "text": [
      "/home/filv/phd_projects/iga_2023/git_reccal/new/recall_metrics/src/preprocesing.py:225: FutureWarning: The frame.append method is deprecated and will be removed from pandas in a future version. Use pandas.concat instead.\n",
      "  train_set = train_set.append(df_split[x])\n",
      "/home/filv/phd_projects/iga_2023/git_reccal/new/recall_metrics/src/preprocesing.py:225: FutureWarning: The frame.append method is deprecated and will be removed from pandas in a future version. Use pandas.concat instead.\n",
      "  train_set = train_set.append(df_split[x])\n",
      "/home/filv/phd_projects/iga_2023/git_reccal/new/recall_metrics/src/preprocesing.py:225: FutureWarning: The frame.append method is deprecated and will be removed from pandas in a future version. Use pandas.concat instead.\n",
      "  train_set = train_set.append(df_split[x])\n",
      "/home/filv/phd_projects/iga_2023/git_reccal/new/recall_metrics/src/preprocesing.py:225: FutureWarning: The frame.append method is deprecated and will be removed from pandas in a future version. Use pandas.concat instead.\n",
      "  train_set = train_set.append(df_split[x])\n",
      "/home/filv/phd_projects/iga_2023/git_reccal/new/recall_metrics/src/preprocesing.py:225: FutureWarning: The frame.append method is deprecated and will be removed from pandas in a future version. Use pandas.concat instead.\n",
      "  train_set = train_set.append(df_split[x])\n",
      "/home/filv/phd_projects/iga_2023/git_reccal/new/recall_metrics/src/preprocesing.py:225: FutureWarning: The frame.append method is deprecated and will be removed from pandas in a future version. Use pandas.concat instead.\n",
      "  train_set = train_set.append(df_split[x])\n",
      "/home/filv/phd_projects/iga_2023/git_reccal/new/recall_metrics/src/preprocesing.py:225: FutureWarning: The frame.append method is deprecated and will be removed from pandas in a future version. Use pandas.concat instead.\n",
      "  train_set = train_set.append(df_split[x])\n",
      "/home/filv/phd_projects/iga_2023/git_reccal/new/recall_metrics/src/preprocesing.py:225: FutureWarning: The frame.append method is deprecated and will be removed from pandas in a future version. Use pandas.concat instead.\n",
      "  train_set = train_set.append(df_split[x])\n",
      "/home/filv/phd_projects/iga_2023/git_reccal/new/recall_metrics/src/preprocesing.py:225: FutureWarning: The frame.append method is deprecated and will be removed from pandas in a future version. Use pandas.concat instead.\n",
      "  train_set = train_set.append(df_split[x])\n",
      "/home/filv/phd_projects/iga_2023/git_reccal/new/recall_metrics/src/preprocesing.py:225: FutureWarning: The frame.append method is deprecated and will be removed from pandas in a future version. Use pandas.concat instead.\n",
      "  train_set = train_set.append(df_split[x])\n",
      "/home/filv/phd_projects/iga_2023/git_reccal/new/recall_metrics/src/preprocesing.py:225: FutureWarning: The frame.append method is deprecated and will be removed from pandas in a future version. Use pandas.concat instead.\n",
      "  train_set = train_set.append(df_split[x])\n",
      "/home/filv/phd_projects/iga_2023/git_reccal/new/recall_metrics/src/preprocesing.py:225: FutureWarning: The frame.append method is deprecated and will be removed from pandas in a future version. Use pandas.concat instead.\n",
      "  train_set = train_set.append(df_split[x])\n",
      "/home/filv/phd_projects/iga_2023/git_reccal/new/recall_metrics/src/preprocesing.py:225: FutureWarning: The frame.append method is deprecated and will be removed from pandas in a future version. Use pandas.concat instead.\n",
      "  train_set = train_set.append(df_split[x])\n",
      "/home/filv/phd_projects/iga_2023/git_reccal/new/recall_metrics/src/preprocesing.py:225: FutureWarning: The frame.append method is deprecated and will be removed from pandas in a future version. Use pandas.concat instead.\n",
      "  train_set = train_set.append(df_split[x])\n",
      "/home/filv/phd_projects/iga_2023/git_reccal/new/recall_metrics/src/preprocesing.py:225: FutureWarning: The frame.append method is deprecated and will be removed from pandas in a future version. Use pandas.concat instead.\n",
      "  train_set = train_set.append(df_split[x])\n",
      "/home/filv/phd_projects/iga_2023/git_reccal/new/recall_metrics/src/preprocesing.py:225: FutureWarning: The frame.append method is deprecated and will be removed from pandas in a future version. Use pandas.concat instead.\n",
      "  train_set = train_set.append(df_split[x])\n",
      "/home/filv/phd_projects/iga_2023/git_reccal/new/recall_metrics/src/preprocesing.py:225: FutureWarning: The frame.append method is deprecated and will be removed from pandas in a future version. Use pandas.concat instead.\n",
      "  train_set = train_set.append(df_split[x])\n",
      "/home/filv/phd_projects/iga_2023/git_reccal/new/recall_metrics/src/preprocesing.py:225: FutureWarning: The frame.append method is deprecated and will be removed from pandas in a future version. Use pandas.concat instead.\n",
      "  train_set = train_set.append(df_split[x])\n",
      "/home/filv/phd_projects/iga_2023/git_reccal/new/recall_metrics/src/preprocesing.py:225: FutureWarning: The frame.append method is deprecated and will be removed from pandas in a future version. Use pandas.concat instead.\n",
      "  train_set = train_set.append(df_split[x])\n",
      "/home/filv/phd_projects/iga_2023/git_reccal/new/recall_metrics/src/preprocesing.py:225: FutureWarning: The frame.append method is deprecated and will be removed from pandas in a future version. Use pandas.concat instead.\n",
      "  train_set = train_set.append(df_split[x])\n"
     ]
    },
    {
     "name": "stdout",
     "output_type": "stream",
     "text": [
      "Set size for train set for Molpher: 146\n",
      "Set size fot train set for other generators: 827\n",
      "Set size for test set: 135\n"
     ]
    },
    {
     "name": "stderr",
     "output_type": "stream",
     "text": [
      "/home/filv/phd_projects/iga_2023/git_reccal/new/recall_metrics/src/preprocesing.py:225: FutureWarning: The frame.append method is deprecated and will be removed from pandas in a future version. Use pandas.concat instead.\n",
      "  train_set = train_set.append(df_split[x])\n",
      "/home/filv/phd_projects/iga_2023/git_reccal/new/recall_metrics/src/preprocesing.py:225: FutureWarning: The frame.append method is deprecated and will be removed from pandas in a future version. Use pandas.concat instead.\n",
      "  train_set = train_set.append(df_split[x])\n",
      "/home/filv/phd_projects/iga_2023/git_reccal/new/recall_metrics/src/preprocesing.py:225: FutureWarning: The frame.append method is deprecated and will be removed from pandas in a future version. Use pandas.concat instead.\n",
      "  train_set = train_set.append(df_split[x])\n",
      "/home/filv/phd_projects/iga_2023/git_reccal/new/recall_metrics/src/preprocesing.py:225: FutureWarning: The frame.append method is deprecated and will be removed from pandas in a future version. Use pandas.concat instead.\n",
      "  train_set = train_set.append(df_split[x])\n",
      "/home/filv/phd_projects/iga_2023/git_reccal/new/recall_metrics/src/preprocesing.py:225: FutureWarning: The frame.append method is deprecated and will be removed from pandas in a future version. Use pandas.concat instead.\n",
      "  train_set = train_set.append(df_split[x])\n",
      "/home/filv/phd_projects/iga_2023/git_reccal/new/recall_metrics/src/preprocesing.py:225: FutureWarning: The frame.append method is deprecated and will be removed from pandas in a future version. Use pandas.concat instead.\n",
      "  train_set = train_set.append(df_split[x])\n",
      "/home/filv/phd_projects/iga_2023/git_reccal/new/recall_metrics/src/preprocesing.py:225: FutureWarning: The frame.append method is deprecated and will be removed from pandas in a future version. Use pandas.concat instead.\n",
      "  train_set = train_set.append(df_split[x])\n",
      "/home/filv/phd_projects/iga_2023/git_reccal/new/recall_metrics/src/preprocesing.py:225: FutureWarning: The frame.append method is deprecated and will be removed from pandas in a future version. Use pandas.concat instead.\n",
      "  train_set = train_set.append(df_split[x])\n",
      "/home/filv/phd_projects/iga_2023/git_reccal/new/recall_metrics/src/preprocesing.py:225: FutureWarning: The frame.append method is deprecated and will be removed from pandas in a future version. Use pandas.concat instead.\n",
      "  train_set = train_set.append(df_split[x])\n",
      "/home/filv/phd_projects/iga_2023/git_reccal/new/recall_metrics/src/preprocesing.py:225: FutureWarning: The frame.append method is deprecated and will be removed from pandas in a future version. Use pandas.concat instead.\n",
      "  train_set = train_set.append(df_split[x])\n",
      "/home/filv/phd_projects/iga_2023/git_reccal/new/recall_metrics/src/preprocesing.py:225: FutureWarning: The frame.append method is deprecated and will be removed from pandas in a future version. Use pandas.concat instead.\n",
      "  train_set = train_set.append(df_split[x])\n",
      "/home/filv/phd_projects/iga_2023/git_reccal/new/recall_metrics/src/preprocesing.py:225: FutureWarning: The frame.append method is deprecated and will be removed from pandas in a future version. Use pandas.concat instead.\n",
      "  train_set = train_set.append(df_split[x])\n",
      "/home/filv/phd_projects/iga_2023/git_reccal/new/recall_metrics/src/preprocesing.py:225: FutureWarning: The frame.append method is deprecated and will be removed from pandas in a future version. Use pandas.concat instead.\n",
      "  train_set = train_set.append(df_split[x])\n",
      "/home/filv/phd_projects/iga_2023/git_reccal/new/recall_metrics/src/preprocesing.py:225: FutureWarning: The frame.append method is deprecated and will be removed from pandas in a future version. Use pandas.concat instead.\n",
      "  train_set = train_set.append(df_split[x])\n",
      "/home/filv/phd_projects/iga_2023/git_reccal/new/recall_metrics/src/preprocesing.py:225: FutureWarning: The frame.append method is deprecated and will be removed from pandas in a future version. Use pandas.concat instead.\n",
      "  train_set = train_set.append(df_split[x])\n",
      "/home/filv/phd_projects/iga_2023/git_reccal/new/recall_metrics/src/preprocesing.py:225: FutureWarning: The frame.append method is deprecated and will be removed from pandas in a future version. Use pandas.concat instead.\n",
      "  train_set = train_set.append(df_split[x])\n",
      "/home/filv/phd_projects/iga_2023/git_reccal/new/recall_metrics/src/preprocesing.py:225: FutureWarning: The frame.append method is deprecated and will be removed from pandas in a future version. Use pandas.concat instead.\n",
      "  train_set = train_set.append(df_split[x])\n",
      "/home/filv/phd_projects/iga_2023/git_reccal/new/recall_metrics/src/preprocesing.py:225: FutureWarning: The frame.append method is deprecated and will be removed from pandas in a future version. Use pandas.concat instead.\n",
      "  train_set = train_set.append(df_split[x])\n",
      "/home/filv/phd_projects/iga_2023/git_reccal/new/recall_metrics/src/preprocesing.py:225: FutureWarning: The frame.append method is deprecated and will be removed from pandas in a future version. Use pandas.concat instead.\n",
      "  train_set = train_set.append(df_split[x])\n",
      "/home/filv/phd_projects/iga_2023/git_reccal/new/recall_metrics/src/preprocesing.py:225: FutureWarning: The frame.append method is deprecated and will be removed from pandas in a future version. Use pandas.concat instead.\n",
      "  train_set = train_set.append(df_split[x])\n"
     ]
    },
    {
     "name": "stdout",
     "output_type": "stream",
     "text": [
      "Set size for train set for Molpher: 148\n",
      "Set size fot train set for other generators: 899\n",
      "Set size for test set: 63\n"
     ]
    },
    {
     "name": "stderr",
     "output_type": "stream",
     "text": [
      "/home/filv/phd_projects/iga_2023/git_reccal/new/recall_metrics/src/preprocesing.py:225: FutureWarning: The frame.append method is deprecated and will be removed from pandas in a future version. Use pandas.concat instead.\n",
      "  train_set = train_set.append(df_split[x])\n",
      "/home/filv/phd_projects/iga_2023/git_reccal/new/recall_metrics/src/preprocesing.py:225: FutureWarning: The frame.append method is deprecated and will be removed from pandas in a future version. Use pandas.concat instead.\n",
      "  train_set = train_set.append(df_split[x])\n",
      "/home/filv/phd_projects/iga_2023/git_reccal/new/recall_metrics/src/preprocesing.py:225: FutureWarning: The frame.append method is deprecated and will be removed from pandas in a future version. Use pandas.concat instead.\n",
      "  train_set = train_set.append(df_split[x])\n",
      "/home/filv/phd_projects/iga_2023/git_reccal/new/recall_metrics/src/preprocesing.py:225: FutureWarning: The frame.append method is deprecated and will be removed from pandas in a future version. Use pandas.concat instead.\n",
      "  train_set = train_set.append(df_split[x])\n",
      "/home/filv/phd_projects/iga_2023/git_reccal/new/recall_metrics/src/preprocesing.py:225: FutureWarning: The frame.append method is deprecated and will be removed from pandas in a future version. Use pandas.concat instead.\n",
      "  train_set = train_set.append(df_split[x])\n",
      "/home/filv/phd_projects/iga_2023/git_reccal/new/recall_metrics/src/preprocesing.py:225: FutureWarning: The frame.append method is deprecated and will be removed from pandas in a future version. Use pandas.concat instead.\n",
      "  train_set = train_set.append(df_split[x])\n",
      "/home/filv/phd_projects/iga_2023/git_reccal/new/recall_metrics/src/preprocesing.py:225: FutureWarning: The frame.append method is deprecated and will be removed from pandas in a future version. Use pandas.concat instead.\n",
      "  train_set = train_set.append(df_split[x])\n",
      "/home/filv/phd_projects/iga_2023/git_reccal/new/recall_metrics/src/preprocesing.py:225: FutureWarning: The frame.append method is deprecated and will be removed from pandas in a future version. Use pandas.concat instead.\n",
      "  train_set = train_set.append(df_split[x])\n",
      "/home/filv/phd_projects/iga_2023/git_reccal/new/recall_metrics/src/preprocesing.py:225: FutureWarning: The frame.append method is deprecated and will be removed from pandas in a future version. Use pandas.concat instead.\n",
      "  train_set = train_set.append(df_split[x])\n",
      "/home/filv/phd_projects/iga_2023/git_reccal/new/recall_metrics/src/preprocesing.py:225: FutureWarning: The frame.append method is deprecated and will be removed from pandas in a future version. Use pandas.concat instead.\n",
      "  train_set = train_set.append(df_split[x])\n",
      "/home/filv/phd_projects/iga_2023/git_reccal/new/recall_metrics/src/preprocesing.py:225: FutureWarning: The frame.append method is deprecated and will be removed from pandas in a future version. Use pandas.concat instead.\n",
      "  train_set = train_set.append(df_split[x])\n",
      "/home/filv/phd_projects/iga_2023/git_reccal/new/recall_metrics/src/preprocesing.py:225: FutureWarning: The frame.append method is deprecated and will be removed from pandas in a future version. Use pandas.concat instead.\n",
      "  train_set = train_set.append(df_split[x])\n",
      "/home/filv/phd_projects/iga_2023/git_reccal/new/recall_metrics/src/preprocesing.py:225: FutureWarning: The frame.append method is deprecated and will be removed from pandas in a future version. Use pandas.concat instead.\n",
      "  train_set = train_set.append(df_split[x])\n",
      "/home/filv/phd_projects/iga_2023/git_reccal/new/recall_metrics/src/preprocesing.py:225: FutureWarning: The frame.append method is deprecated and will be removed from pandas in a future version. Use pandas.concat instead.\n",
      "  train_set = train_set.append(df_split[x])\n",
      "/home/filv/phd_projects/iga_2023/git_reccal/new/recall_metrics/src/preprocesing.py:225: FutureWarning: The frame.append method is deprecated and will be removed from pandas in a future version. Use pandas.concat instead.\n",
      "  train_set = train_set.append(df_split[x])\n",
      "/home/filv/phd_projects/iga_2023/git_reccal/new/recall_metrics/src/preprocesing.py:225: FutureWarning: The frame.append method is deprecated and will be removed from pandas in a future version. Use pandas.concat instead.\n",
      "  train_set = train_set.append(df_split[x])\n",
      "/home/filv/phd_projects/iga_2023/git_reccal/new/recall_metrics/src/preprocesing.py:225: FutureWarning: The frame.append method is deprecated and will be removed from pandas in a future version. Use pandas.concat instead.\n",
      "  train_set = train_set.append(df_split[x])\n",
      "/home/filv/phd_projects/iga_2023/git_reccal/new/recall_metrics/src/preprocesing.py:225: FutureWarning: The frame.append method is deprecated and will be removed from pandas in a future version. Use pandas.concat instead.\n",
      "  train_set = train_set.append(df_split[x])\n",
      "/home/filv/phd_projects/iga_2023/git_reccal/new/recall_metrics/src/preprocesing.py:225: FutureWarning: The frame.append method is deprecated and will be removed from pandas in a future version. Use pandas.concat instead.\n",
      "  train_set = train_set.append(df_split[x])\n",
      "/home/filv/phd_projects/iga_2023/git_reccal/new/recall_metrics/src/preprocesing.py:225: FutureWarning: The frame.append method is deprecated and will be removed from pandas in a future version. Use pandas.concat instead.\n",
      "  train_set = train_set.append(df_split[x])\n"
     ]
    },
    {
     "name": "stdout",
     "output_type": "stream",
     "text": [
      "Set size for train set for Molpher: 148\n",
      "Set size fot train set for other generators: 920\n",
      "Set size for test set: 42\n"
     ]
    }
   ],
   "source": [
    "# function need type_of_receptor, name_of_data -> this two options after download data from chemble\n",
    "# then we need the name_of_receptor and type_of_analyse and save_options\n",
    "\n",
    "active_compoubnds, df_clusters = loading('nuclear_receptor','25_pic50.csv', 'Glucocorticoid_receptor', 'sim', True)\n",
    "#active_compoubnds, df_clusters = loading('protease','235_pic50.csv', 'Leukocyte_elastase', 'dis', False)"
   ]
  },
  {
   "cell_type": "code",
   "execution_count": null,
   "id": "92e40a2c-68ac-4f41-9971-c2a4eb52f1fd",
   "metadata": {},
   "outputs": [],
   "source": []
  },
  {
   "cell_type": "code",
   "execution_count": null,
   "id": "698c54de-7030-4ef5-8a56-135f23704dd2",
   "metadata": {},
   "outputs": [],
   "source": []
  },
  {
   "cell_type": "markdown",
   "id": "a5cf1f15-04b8-442a-a842-9be9e249e456",
   "metadata": {},
   "source": [
    "# Check if new input set don;t consist of the don't wanted scaffolds"
   ]
  },
  {
   "cell_type": "code",
   "execution_count": 5,
   "id": "85a3c378-3277-4dea-8b5e-289f8243d1d4",
   "metadata": {},
   "outputs": [],
   "source": [
    "import pandas as pd\n",
    "from rdkit import Chem\n",
    "from rdkit.Chem.Draw import IPythonConsole\n",
    "from rdkit.Chem import AllChem\n",
    "from rdkit.Chem.Scaffolds.MurckoScaffold import GetScaffoldForMol\n",
    "from rdkit.Chem.Scaffolds.MurckoScaffold import MakeScaffoldGeneric\n",
    "from rdkit.Chem.Scaffolds.MurckoScaffold import MurckoScaffoldSmiles"
   ]
  },
  {
   "cell_type": "code",
   "execution_count": 7,
   "id": "0fac4ab5-705d-4ef0-9bc5-b2d13b5700cf",
   "metadata": {},
   "outputs": [
    {
     "data": {
      "text/html": [
       "<div>\n",
       "<style scoped>\n",
       "    .dataframe tbody tr th:only-of-type {\n",
       "        vertical-align: middle;\n",
       "    }\n",
       "\n",
       "    .dataframe tbody tr th {\n",
       "        vertical-align: top;\n",
       "    }\n",
       "\n",
       "    .dataframe thead th {\n",
       "        text-align: right;\n",
       "    }\n",
       "</style>\n",
       "<table border=\"1\" class=\"dataframe\">\n",
       "  <thead>\n",
       "    <tr style=\"text-align: right;\">\n",
       "      <th></th>\n",
       "      <th>canonical_smiles</th>\n",
       "      <th>scaffolds_csk</th>\n",
       "      <th>pchembl_value</th>\n",
       "    </tr>\n",
       "  </thead>\n",
       "  <tbody>\n",
       "    <tr>\n",
       "      <th>0</th>\n",
       "      <td>CCC[C@H](NC(=O)[C@@H]1[C@H]2CCC[C@H]2CN1C(=O)[...</td>\n",
       "      <td>C(CCCC1C(CCCCC(CCC2CCCCC2)C2CCCCC2)CC2CCCC21)C...</td>\n",
       "      <td>6.17</td>\n",
       "    </tr>\n",
       "  </tbody>\n",
       "</table>\n",
       "</div>"
      ],
      "text/plain": [
       "                                    canonical_smiles  \\\n",
       "0  CCC[C@H](NC(=O)[C@@H]1[C@H]2CCC[C@H]2CN1C(=O)[...   \n",
       "\n",
       "                                       scaffolds_csk  pchembl_value  \n",
       "0  C(CCCC1C(CCCCC(CCC2CCCCC2)C2CCCCC2)CC2CCCC21)C...           6.17  "
      ]
     },
     "execution_count": 7,
     "metadata": {},
     "output_type": "execute_result"
    }
   ],
   "source": [
    "dont_wanted_scaffold = pd.read_csv(\"data/input_recall_sets_new/Leukocyte_elastase/df_not_in_new_active_sets_new.csv\")\n",
    "dont_wanted_scaffold"
   ]
  },
  {
   "cell_type": "code",
   "execution_count": 10,
   "id": "ed5a6360-75f7-44a0-a54d-39141c28ba98",
   "metadata": {},
   "outputs": [],
   "source": [
    "receptor = 'Leukocyte_elastase'\n",
    "df0 = pd.read_csv(f\"data/input_recall_sets/{receptor}/cIS_{receptor}_dis_0.csv\", header = None)\n",
    "df0.columns = ['smiles']\n",
    "df0['scaffold'] = [MurckoScaffoldSmiles(Chem.MolToSmiles(MakeScaffoldGeneric\\\n",
    "                                       (Chem.MolFromSmiles(x)))) for x in df0.smiles]\n",
    "df1 = pd.read_csv(f\"data/input_recall_sets/{receptor}/cIS_{receptor}_dis_1.csv\", header = None)\n",
    "df1.columns = ['smiles']\n",
    "df1['scaffold'] = [MurckoScaffoldSmiles(Chem.MolToSmiles(MakeScaffoldGeneric\\\n",
    "                                       (Chem.MolFromSmiles(x)))) for x in df1.smiles]\n",
    "df2 = pd.read_csv(f\"data/input_recall_sets/{receptor}/cIS_{receptor}_dis_2.csv\", header = None)\n",
    "df2.columns = ['smiles']\n",
    "df2['scaffold'] = [MurckoScaffoldSmiles(Chem.MolToSmiles(MakeScaffoldGeneric\\\n",
    "                                       (Chem.MolFromSmiles(x)))) for x in df2.smiles]\n",
    "df3 = pd.read_csv(f\"data/input_recall_sets/{receptor}/cIS_{receptor}_dis_3.csv\", header = None)\n",
    "df3.columns = ['smiles']\n",
    "df3['scaffold'] = [MurckoScaffoldSmiles(Chem.MolToSmiles(MakeScaffoldGeneric\\\n",
    "                                       (Chem.MolFromSmiles(x)))) for x in df3.smiles]\n",
    "df4 = pd.read_csv(f\"data/input_recall_sets/{receptor}/cIS_{receptor}_dis_4.csv\", header = None)\n",
    "df4.columns = ['smiles']\n",
    "df4['scaffold'] = [MurckoScaffoldSmiles(Chem.MolToSmiles(MakeScaffoldGeneric\\\n",
    "                                       (Chem.MolFromSmiles(x)))) for x in df4.smiles]\n",
    "\n"
   ]
  },
  {
   "cell_type": "code",
   "execution_count": 11,
   "id": "d2232de3-e033-49df-97f1-6ed6e826e4a3",
   "metadata": {},
   "outputs": [],
   "source": [
    "df0 = pd.read_csv(f\"data/input_recall_sets/{receptor}/cIS_{receptor}_sim_0.csv\", header = None)\n",
    "df0.columns = ['smiles']\n",
    "df0['scaffold'] = [MurckoScaffoldSmiles(Chem.MolToSmiles(MakeScaffoldGeneric\\\n",
    "                                       (Chem.MolFromSmiles(x)))) for x in df0.smiles]\n",
    "df1 = pd.read_csv(f\"data/input_recall_sets/{receptor}/cIS_{receptor}_sim_1.csv\", header = None)\n",
    "df1.columns = ['smiles']\n",
    "df1['scaffold'] = [MurckoScaffoldSmiles(Chem.MolToSmiles(MakeScaffoldGeneric\\\n",
    "                                       (Chem.MolFromSmiles(x)))) for x in df1.smiles]\n",
    "df2 = pd.read_csv(f\"data/input_recall_sets/{receptor}/cIS_{receptor}_sim_2.csv\", header = None)\n",
    "df2.columns = ['smiles']\n",
    "df2['scaffold'] = [MurckoScaffoldSmiles(Chem.MolToSmiles(MakeScaffoldGeneric\\\n",
    "                                       (Chem.MolFromSmiles(x)))) for x in df2.smiles]\n",
    "df3 = pd.read_csv(f\"data/input_recall_sets/{receptor}/cIS_{receptor}_sim_3.csv\", header = None)\n",
    "df3.columns = ['smiles']\n",
    "df3['scaffold'] = [MurckoScaffoldSmiles(Chem.MolToSmiles(MakeScaffoldGeneric\\\n",
    "                                       (Chem.MolFromSmiles(x)))) for x in df3.smiles]\n",
    "df4 = pd.read_csv(f\"data/input_recall_sets/{receptor}/cIS_{receptor}_sim_4.csv\", header = None)\n",
    "df4.columns = ['smiles']\n",
    "df4['scaffold'] = [MurckoScaffoldSmiles(Chem.MolToSmiles(MakeScaffoldGeneric\\\n",
    "                                       (Chem.MolFromSmiles(x)))) for x in df4.smiles]\n",
    "\n"
   ]
  },
  {
   "cell_type": "code",
   "execution_count": 12,
   "id": "84abcaae-a7db-4bf6-b2ad-993503256b0b",
   "metadata": {},
   "outputs": [
    {
     "name": "stdout",
     "output_type": "stream",
     "text": [
      "Number:  0\n",
      "0\n",
      "Number:  1\n",
      "0\n",
      "Number:  2\n",
      "0\n",
      "Number:  3\n",
      "0\n",
      "Number:  4\n",
      "0\n"
     ]
    }
   ],
   "source": [
    "drop_index = []\n",
    "count = 0\n",
    "for df in [df0,df1,df2,df3,df4]:\n",
    "    print(\"Number: \", count)\n",
    "    for scaffold in dont_wanted_scaffold.scaffolds_csk:\n",
    "        arr_drop_id = df[df.scaffold == scaffold].index\n",
    "        for x in arr_drop_id:\n",
    "            if x not in drop_index:\n",
    "                drop_index.append(x)\n",
    "    count += 1\n",
    "    print(len(drop_index)) #found index of rows wich consist of scaffold in Start or Stop molecule what we don't want\n"
   ]
  },
  {
   "cell_type": "code",
   "execution_count": null,
   "id": "88792ac4-a4bc-47da-98b7-0bd37b04fe8f",
   "metadata": {},
   "outputs": [],
   "source": []
  }
 ],
 "metadata": {
  "kernelspec": {
   "display_name": "Python 3 (ipykernel)",
   "language": "python",
   "name": "python3"
  },
  "language_info": {
   "codemirror_mode": {
    "name": "ipython",
    "version": 3
   },
   "file_extension": ".py",
   "mimetype": "text/x-python",
   "name": "python",
   "nbconvert_exporter": "python",
   "pygments_lexer": "ipython3",
   "version": "3.9.13"
  }
 },
 "nbformat": 4,
 "nbformat_minor": 5
}

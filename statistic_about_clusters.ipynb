{
 "cells": [
  {
   "cell_type": "markdown",
   "id": "2ebc0eab-a4d5-4771-a5c5-ac1bbef91cbe",
   "metadata": {},
   "source": [
    "# Statistic about clusters\n",
    "\n",
    "Find the intra and inter cluster similarity and save to data/information_about_clusters"
   ]
  },
  {
   "cell_type": "code",
   "execution_count": 73,
   "id": "be6f32bd-2b24-4b91-8223-f0ddb509ffab",
   "metadata": {},
   "outputs": [],
   "source": [
    "# Importing libraries\n",
    "from rdkit import Chem\n",
    "from rdkit.Chem import AllChem\n",
    "import numpy as np\n",
    "from scipy.spatial.distance import jaccard\n",
    "import pandas as pd\n",
    "from rdkit.Chem.Scaffolds.MurckoScaffold import MurckoScaffoldSmiles, MakeScaffoldGeneric\n",
    "import os"
   ]
  },
  {
   "cell_type": "code",
   "execution_count": 2,
   "id": "8e625876-f263-49cb-a5da-da7763833467",
   "metadata": {},
   "outputs": [],
   "source": [
    "def smiles_to_morgan(smiles, radius=3, nbits=2048):\n",
    "    mol = Chem.MolFromSmiles(smiles)\n",
    "    if mol:\n",
    "        fingerprint = AllChem.GetMorganFingerprintAsBitVect(mol, radius, nBits=nbits)\n",
    "        return np.array(fingerprint)\n",
    "    else:\n",
    "        return np.zeros(nbits)"
   ]
  },
  {
   "cell_type": "code",
   "execution_count": 70,
   "id": "d3c407f3-3aca-46e7-bd4c-836c3c5662fe",
   "metadata": {},
   "outputs": [],
   "source": [
    "def jaccard_similarity(fingerprint1, fingerprint2):\n",
    "    \"\"\"\n",
    "    Calculates the Jaccard similarity between two fingerprints.\n",
    "    \"\"\"\n",
    "    return 1 - jaccard(fingerprint1, fingerprint2)\n",
    "\n",
    "def calculate_cluster_similarity(clusters, receptor, name_to_save):\n",
    "    \"\"\"\n",
    "    Calculates the similarity between clusters and within each cluster.\n",
    "    \"\"\"\n",
    "    num_clusters = len(clusters)\n",
    "    \n",
    "    # Initialize the similarity matrix for clusters\n",
    "    similarity_matrix = np.ones((num_clusters, num_clusters))\n",
    "    \n",
    "    # Calculate similarity between different clusters\n",
    "    for i in range(num_clusters):\n",
    "        for j in range(i+1, num_clusters):\n",
    "            # Get the fingerprints for cluster i and cluster j\n",
    "            cluster_i_fps = np.array([smiles_to_morgan(smiles) for smiles in clusters[i]])  # Fingerprints for cluster i\n",
    "            cluster_j_fps = np.array([smiles_to_morgan(smiles) for smiles in clusters[j]])  # Fingerprints for cluster j\n",
    "            \n",
    "            # Calculate the average similarity between all pairs of SMILES from both clusters\n",
    "            avg_similarity = np.mean([jaccard_similarity(fp_i, fp_j) for fp_i in cluster_i_fps for fp_j in cluster_j_fps])\n",
    "            \n",
    "            # Store the similarity in the matrix\n",
    "            similarity_matrix[i, j] = avg_similarity\n",
    "            similarity_matrix[j, i] = avg_similarity\n",
    "\n",
    "    folder = f'data/information_about_clusters/{receptor}'\n",
    "    if not os.path.exists(folder):\n",
    "            os.makedirs(folder)\n",
    "\n",
    "    pd.DataFrame(similarity_matrix).to_csv(f'{folder}/{name_to_save}.csv', index = False)\n",
    "    return similarity_matrix\n",
    "\n",
    "def analyze_within_cluster_similarity(clusters, receptor, name_to_save):\n",
    "    \"\"\"\n",
    "    Analyzes the similarity within each cluster.\n",
    "    \"\"\"\n",
    "    within_cluster_similarities = []\n",
    "    \n",
    "    for cluster in clusters:\n",
    "        # Get fingerprints for the current cluster\n",
    "        cluster_fps = np.array([smiles_to_morgan(smiles) for smiles in cluster])  # Fingerprints for the current cluster\n",
    "        pairwise_similarities = []\n",
    "        \n",
    "        # Compare each pair within the cluster\n",
    "        for i in range(len(cluster_fps)):\n",
    "            for j in range(i+1, len(cluster_fps)):\n",
    "                pairwise_similarities.append(jaccard_similarity(cluster_fps[i], cluster_fps[j]))\n",
    "        \n",
    "        # Store pairwise similarities for the current cluster\n",
    "        within_cluster_similarities.append(pairwise_similarities)\n",
    "    results = []\n",
    "    # Generate statistics for each cluster\n",
    "    for idx, similarities in enumerate(within_cluster_similarities):\n",
    "        mean_sim = np.mean(similarities)  # Calculate mean similarity\n",
    "        median_sim = np.median(similarities)  # Calculate median similarity\n",
    "        std_sim = np.std(similarities)  # Calculate variance in similarity\n",
    "        \n",
    "        # Print the statistics for the current cluster\n",
    "        print(f\"Cluster {idx}:\")\n",
    "        print(f\"  Mean similarity: {mean_sim}\")\n",
    "        print(f\"  Median similarity: {median_sim}\")\n",
    "        print(f\"  Std similarity: {std_sim}\")\n",
    "        results.append({\n",
    "                \"Cluster\": idx,\n",
    "                \"Mean_Similarity\": mean_sim,\n",
    "                \"Median_Similarity\": median_sim,\n",
    "                \"Std_Similarity\": std_sim\n",
    "            })\n",
    "    folder = f'data/information_about_clusters/{receptor}'\n",
    "    if not os.path.exists(folder):\n",
    "            os.makedirs(folder)\n",
    "    pd.DataFrame(results).to_csv(f'{folder}/{name_to_save}.csv', index = False)\n"
   ]
  },
  {
   "cell_type": "markdown",
   "id": "7d446cce-d09b-4ddc-9dca-44a1b4caafd8",
   "metadata": {},
   "source": [
    "## For Glucocorticoid receptor"
   ]
  },
  {
   "cell_type": "code",
   "execution_count": 71,
   "id": "b9c6a698-f3de-4a22-872a-3b036bf1f790",
   "metadata": {},
   "outputs": [
    {
     "name": "stdout",
     "output_type": "stream",
     "text": [
      "For Glucocorticoid_receptor:\n",
      "Cluster similarity matrix:\n",
      "[[1.         0.23690879 0.25204977 0.24802506 0.27676644]\n",
      " [0.23690879 1.         0.19621807 0.24094053 0.24796643]\n",
      " [0.25204977 0.19621807 1.         0.24199567 0.21541726]\n",
      " [0.24802506 0.24094053 0.24199567 1.         0.22449774]\n",
      " [0.27676644 0.24796643 0.21541726 0.22449774 1.        ]]\n",
      "Cluster 0:\n",
      "  Mean similarity: 0.3401271602563972\n",
      "  Median similarity: 0.310960960960961\n",
      "  Std similarity: 0.14681969809118342\n",
      "Cluster 1:\n",
      "  Mean similarity: 0.31379499253078597\n",
      "  Median similarity: 0.27941176470588236\n",
      "  Std similarity: 0.15225932150686608\n",
      "Cluster 2:\n",
      "  Mean similarity: 0.3751752625790344\n",
      "  Median similarity: 0.3378452533382111\n",
      "  Std similarity: 0.1567827215930074\n",
      "Cluster 3:\n",
      "  Mean similarity: 0.3396030793100419\n",
      "  Median similarity: 0.31057781919850885\n",
      "  Std similarity: 0.1448212665885002\n",
      "Cluster 4:\n",
      "  Mean similarity: 0.3811377681672276\n",
      "  Median similarity: 0.35\n",
      "  Std similarity: 0.16112000399367596\n"
     ]
    }
   ],
   "source": [
    "clusters = []\n",
    "for num in [0,1,2,3,4]:\n",
    "    df = pd.read_csv(f'data/input_recall_sets/Glucocorticoid_receptor/cRS_Glucocorticoid_receptor_dis_{num}.csv', header = None)[0].unique().tolist()\n",
    "\n",
    "    csk = []\n",
    "    for x in df:\n",
    "        csk_value = MurckoScaffoldSmiles(Chem.MolToSmiles(MakeScaffoldGeneric(Chem.MolFromSmiles(x))))\n",
    "        if csk_value not in csk:\n",
    "            csk.append(csk_value)\n",
    "    clusters.append(csk)\n",
    "\n",
    "print(\"For Glucocorticoid_receptor:\")\n",
    "similarity_matrix = calculate_cluster_similarity(clusters, 'Glucocorticoid_receptor','mean_value_between_clusters')\n",
    "print(\"Cluster similarity matrix:\")\n",
    "print(similarity_matrix)\n",
    "analyze_within_cluster_similarity(clusters, 'Glucocorticoid_receptor', 'statistic_inside_clusters')"
   ]
  },
  {
   "cell_type": "markdown",
   "id": "19d85630-9cd4-4746-9d4a-786fac7da4f9",
   "metadata": {},
   "source": [
    "## For Leukocyte elastase"
   ]
  },
  {
   "cell_type": "code",
   "execution_count": 72,
   "id": "43a866fd-8ced-44e4-b23f-2d53fe7b6131",
   "metadata": {},
   "outputs": [
    {
     "name": "stdout",
     "output_type": "stream",
     "text": [
      "For Leukocyte_elastase\n",
      "Cluster similarity matrix:\n",
      "[[1.         0.21800512 0.25312333 0.15202709 0.23789378]\n",
      " [0.21800512 1.         0.27343922 0.30378926 0.24089646]\n",
      " [0.25312333 0.27343922 1.         0.24757368 0.30243969]\n",
      " [0.15202709 0.30378926 0.24757368 1.         0.21636401]\n",
      " [0.23789378 0.24089646 0.30243969 0.21636401 1.        ]]\n",
      "Cluster 0:\n",
      "  Mean similarity: 0.36336033744779805\n",
      "  Median similarity: 0.31818181818181823\n",
      "  Std similarity: 0.16456197825217223\n",
      "Cluster 1:\n",
      "  Mean similarity: 0.37343285114236363\n",
      "  Median similarity: 0.33333333333333337\n",
      "  Std similarity: 0.16570652356566093\n",
      "Cluster 2:\n",
      "  Mean similarity: 0.3818042922994091\n",
      "  Median similarity: 0.3285714285714286\n",
      "  Std similarity: 0.1646255334296882\n",
      "Cluster 3:\n",
      "  Mean similarity: 0.39002090886427454\n",
      "  Median similarity: 0.37681159420289856\n",
      "  Std similarity: 0.2073126225436184\n",
      "Cluster 4:\n",
      "  Mean similarity: 0.3407555113040552\n",
      "  Median similarity: 0.303030303030303\n",
      "  Std similarity: 0.13867772268124146\n"
     ]
    }
   ],
   "source": [
    "clusters = []\n",
    "for num in [0,1,2,3,4]:\n",
    "    df = pd.read_csv(f'data/input_recall_sets/Leukocyte_elastase/cRS_Leukocyte_elastase_dis_{num}.csv', header = None)[0].unique().tolist()\n",
    "\n",
    "    csk = []\n",
    "    for x in df:\n",
    "        csk_value = MurckoScaffoldSmiles(Chem.MolToSmiles(MakeScaffoldGeneric(Chem.MolFromSmiles(x))))\n",
    "        if csk_value not in csk:\n",
    "            csk.append(csk_value)\n",
    "    clusters.append(csk)\n",
    "\n",
    "print(\"For Leukocyte_elastase\")\n",
    "similarity_matrix = calculate_cluster_similarity(clusters, 'Leukocyte_elastase', 'mean_value_between_clusters')\n",
    "print(\"Cluster similarity matrix:\")\n",
    "print(similarity_matrix)\n",
    "analyze_within_cluster_similarity(clusters, 'Leukocyte_elastase', 'statistic_inside_clusters')"
   ]
  },
  {
   "cell_type": "code",
   "execution_count": null,
   "id": "0a84cb81-d54b-4e8b-8ddc-722098591270",
   "metadata": {},
   "outputs": [],
   "source": []
  }
 ],
 "metadata": {
  "kernelspec": {
   "display_name": "Python 3 (ipykernel)",
   "language": "python",
   "name": "python3"
  },
  "language_info": {
   "codemirror_mode": {
    "name": "ipython",
    "version": 3
   },
   "file_extension": ".py",
   "mimetype": "text/x-python",
   "name": "python",
   "nbconvert_exporter": "python",
   "pygments_lexer": "ipython3",
   "version": "3.9.13"
  }
 },
 "nbformat": 4,
 "nbformat_minor": 5
}
